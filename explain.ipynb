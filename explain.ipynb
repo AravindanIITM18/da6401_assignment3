{
 "cells": [
  {
   "cell_type": "markdown",
   "metadata": {},
   "source": [
    "# DA6401: Exploring Sequential learning using Deep Learning \n",
    "## MM21B010- Aravindan"
   ]
  },
  {
   "cell_type": "markdown",
   "metadata": {},
   "source": [
    "## Visualizing the dataset"
   ]
  },
  {
   "cell_type": "code",
   "execution_count": 1,
   "metadata": {
    "_cell_guid": "b1076dfc-b9ad-4769-8c92-a6c4dae69d19",
    "_uuid": "8f2839f25d086af736a60e9eeb907d3b93b6e0e5",
    "execution": {
     "iopub.execute_input": "2025-05-20T16:11:40.889226Z",
     "iopub.status.busy": "2025-05-20T16:11:40.888517Z",
     "iopub.status.idle": "2025-05-20T16:11:43.875485Z",
     "shell.execute_reply": "2025-05-20T16:11:43.874585Z",
     "shell.execute_reply.started": "2025-05-20T16:11:40.889194Z"
    },
    "trusted": true
   },
   "outputs": [
    {
     "name": "stdout",
     "output_type": "stream",
     "text": [
      "\n",
      "--- TRAIN SET (hi.translit.sampled.train.tsv) ---\n",
      "romanized devanagari\n",
      "       an         अं\n",
      " ankganit    अंकगणित\n",
      "    uncle       अंकल\n",
      "    ankur      अंकुर\n",
      "  ankuran     अंकुरण\n",
      "\n",
      "--- DEV SET (hi.translit.sampled.dev.tsv) ---\n",
      "romanized devanagari\n",
      "    ankan       अंकन\n",
      "   angkor     अंगकोर\n",
      "   angira     अंगिरा\n",
      "  angithi     अंगीठी\n",
      "   angrej    अंग्रेज\n",
      "\n",
      "--- TEST SET (hi.translit.sampled.test.tsv) ---\n",
      "romanized devanagari\n",
      "      ank        अंक\n",
      "     anka        अंक\n",
      "    ankit      अंकित\n",
      "   anakon      अंकों\n",
      "   ankhon      अंकों\n"
     ]
    }
   ],
   "source": [
    "import pandas as pd\n",
    "\n",
    "def load_and_print_entries_kaggle(base_path='/kaggle/input/dakshina-dataset1', num_samples=5):\n",
    "    split_files = {\n",
    "        'train': 'hi.translit.sampled.train.tsv',\n",
    "        'dev': 'hi.translit.sampled.dev.tsv',\n",
    "        'test': 'hi.translit.sampled.test.tsv'\n",
    "    }\n",
    "\n",
    "    for split, filename in split_files.items():\n",
    "        filepath = f\"{base_path}/{filename}\"\n",
    "        print(f\"\\n--- {split.upper()} SET ({filename}) ---\")\n",
    "\n",
    "        try:\n",
    "            df = pd.read_csv(filepath, sep='\\t', header=None, names=['devanagari', 'romanized', 'freq'])\n",
    "            print(df[['romanized', 'devanagari']].head(num_samples).to_string(index=False))\n",
    "        except Exception as e:\n",
    "            print(f\"Error loading {filename}: {e}\")\n",
    "\n",
    "# Run the function\n",
    "load_and_print_entries_kaggle()"
   ]
  },
  {
   "cell_type": "markdown",
   "metadata": {},
   "source": [
    "## Utility functions"
   ]
  },
  {
   "cell_type": "code",
   "execution_count": 2,
   "metadata": {
    "execution": {
     "iopub.execute_input": "2025-05-20T16:12:06.115470Z",
     "iopub.status.busy": "2025-05-20T16:12:06.114958Z",
     "iopub.status.idle": "2025-05-20T16:12:13.556060Z",
     "shell.execute_reply": "2025-05-20T16:12:13.555306Z",
     "shell.execute_reply.started": "2025-05-20T16:12:06.115430Z"
    },
    "trusted": true
   },
   "outputs": [],
   "source": [
    "import torch\n",
    "from torch.utils.data import Dataset, DataLoader\n",
    "import pandas as pd\n",
    "from collections import defaultdict\n",
    "\n",
    "PAD_TOKEN = \"<pad>\"\n",
    "SOS_TOKEN = \"<sos>\"\n",
    "EOS_TOKEN = \"<eos>\"\n",
    "\n",
    "def build_vocab(sequences):\n",
    "    vocab = {PAD_TOKEN: 0, SOS_TOKEN: 1, EOS_TOKEN: 2}\n",
    "    for seq in sequences:\n",
    "        for char in seq:\n",
    "            if char not in vocab:\n",
    "                vocab[char] = len(vocab)\n",
    "    return vocab\n",
    "\n",
    "def encode_sequence(seq, vocab, add_special_tokens=True, max_len=None):\n",
    "    indices = [vocab[c] for c in seq]\n",
    "    if add_special_tokens:\n",
    "        indices = [vocab[SOS_TOKEN]] + indices + [vocab[EOS_TOKEN]]\n",
    "    if max_len:\n",
    "        indices = indices[:max_len]\n",
    "    return indices\n",
    "\n",
    "def pad_sequence(seq, max_len, pad_idx):\n",
    "    return seq + [pad_idx] * (max_len - len(seq))\n"
   ]
  },
  {
   "cell_type": "code",
   "execution_count": 3,
   "metadata": {
    "execution": {
     "iopub.execute_input": "2025-05-20T16:12:22.745520Z",
     "iopub.status.busy": "2025-05-20T16:12:22.744876Z",
     "iopub.status.idle": "2025-05-20T16:12:22.750923Z",
     "shell.execute_reply": "2025-05-20T16:12:22.750310Z",
     "shell.execute_reply.started": "2025-05-20T16:12:22.745495Z"
    },
    "trusted": true
   },
   "outputs": [],
   "source": [
    "class TransliterationDataset(Dataset):\n",
    "    def __init__(self, df, src_vocab, tgt_vocab, max_len=30):\n",
    "        self.df = df\n",
    "        self.src_vocab = src_vocab\n",
    "        self.tgt_vocab = tgt_vocab\n",
    "        self.max_len = max_len\n",
    "        self.pad_idx = src_vocab[PAD_TOKEN]\n",
    "\n",
    "    def __len__(self):\n",
    "        return len(self.df)\n",
    "\n",
    "    def __getitem__(self, idx):\n",
    "        row = self.df.iloc[idx]\n",
    "        src_seq = encode_sequence(row['romanized'], self.src_vocab)\n",
    "        tgt_seq = encode_sequence(row['devanagari'], self.tgt_vocab)\n",
    "        src_seq = pad_sequence(src_seq, self.max_len, self.pad_idx)\n",
    "        tgt_seq = pad_sequence(tgt_seq, self.max_len, self.pad_idx)\n",
    "        return torch.tensor(src_seq), torch.tensor(tgt_seq)\n"
   ]
  },
  {
   "cell_type": "code",
   "execution_count": 4,
   "metadata": {
    "execution": {
     "iopub.execute_input": "2025-05-20T16:12:28.020460Z",
     "iopub.status.busy": "2025-05-20T16:12:28.019977Z",
     "iopub.status.idle": "2025-05-20T16:12:28.026017Z",
     "shell.execute_reply": "2025-05-20T16:12:28.025385Z",
     "shell.execute_reply.started": "2025-05-20T16:12:28.020436Z"
    },
    "trusted": true
   },
   "outputs": [],
   "source": [
    "def load_data(base_path='/kaggle/input/dakshina-dataset1', max_len=30, batch_size=32):\n",
    "    import pandas as pd\n",
    "    from torch.utils.data import DataLoader\n",
    "\n",
    "    # from data_utils import TransliterationDataset, build_vocab  # or define inline\n",
    "\n",
    "    # Load TSV files\n",
    "    train_df = pd.read_csv(f\"{base_path}/hi.translit.sampled.train.tsv\", sep='\\t', header=None, names=['devanagari', 'romanized', 'freq'])\n",
    "    dev_df   = pd.read_csv(f\"{base_path}/hi.translit.sampled.dev.tsv\", sep='\\t', header=None, names=['devanagari', 'romanized', 'freq'])\n",
    "\n",
    "    # Drop rows with missing values\n",
    "    train_df.dropna(inplace=True)\n",
    "    dev_df.dropna(inplace=True)\n",
    "\n",
    "    # Build vocabularies\n",
    "    src_vocab = build_vocab(train_df['romanized'])\n",
    "    tgt_vocab = build_vocab(train_df['devanagari'])\n",
    "\n",
    "    # Create Datasets\n",
    "    train_dataset = TransliterationDataset(train_df, src_vocab, tgt_vocab, max_len=max_len)\n",
    "    dev_dataset   = TransliterationDataset(dev_df, src_vocab, tgt_vocab, max_len=max_len)\n",
    "\n",
    "    # Create DataLoaders\n",
    "    train_loader = DataLoader(train_dataset, batch_size=batch_size, shuffle=True)\n",
    "    dev_loader   = DataLoader(dev_dataset, batch_size=batch_size)\n",
    "\n",
    "    return train_loader, dev_loader, src_vocab, tgt_vocab"
   ]
  },
  {
   "cell_type": "markdown",
   "metadata": {},
   "source": [
    "## Model class"
   ]
  },
  {
   "cell_type": "code",
   "execution_count": 5,
   "metadata": {
    "execution": {
     "iopub.execute_input": "2025-05-20T16:12:31.271798Z",
     "iopub.status.busy": "2025-05-20T16:12:31.271506Z",
     "iopub.status.idle": "2025-05-20T16:12:31.282013Z",
     "shell.execute_reply": "2025-05-20T16:12:31.281415Z",
     "shell.execute_reply.started": "2025-05-20T16:12:31.271776Z"
    },
    "trusted": true
   },
   "outputs": [],
   "source": [
    "import torch\n",
    "import torch.nn as nn\n",
    "\n",
    "class Seq2SeqModel(nn.Module):\n",
    "    def __init__(self, \n",
    "                 input_vocab_size, \n",
    "                 target_vocab_size, \n",
    "                 embedding_dim=64, \n",
    "                 hidden_size=128, \n",
    "                 encoder_layers=1, \n",
    "                 decoder_layers=1, \n",
    "                 cell_type='LSTM', \n",
    "                 dropout=0.2):\n",
    "        super(Seq2SeqModel, self).__init__()\n",
    "\n",
    "        self.embedding = nn.Embedding(input_vocab_size, embedding_dim)\n",
    "        self.cell_type = cell_type.upper()\n",
    "        rnn_cls = getattr(nn, self.cell_type)  # Choose RNN, GRU or LSTM\n",
    "\n",
    "        self.encoder = rnn_cls(input_size=embedding_dim,\n",
    "                               hidden_size=hidden_size,\n",
    "                               num_layers=encoder_layers,\n",
    "                               dropout=dropout if encoder_layers > 1 else 0,\n",
    "                               batch_first=True)\n",
    "\n",
    "        self.decoder = rnn_cls(input_size=embedding_dim,\n",
    "                               hidden_size=hidden_size,\n",
    "                               num_layers=decoder_layers,\n",
    "                               dropout=dropout if decoder_layers > 1 else 0,\n",
    "                               batch_first=True)\n",
    "\n",
    "        self.output_fc = nn.Linear(hidden_size, target_vocab_size)\n",
    "        self.target_embedding = nn.Embedding(target_vocab_size, embedding_dim)\n",
    "\n",
    "    def forward(self, src, trg, teacher_forcing_ratio=0.5):\n",
    "        # src: [B, T_in], trg: [B, T_out]\n",
    "        batch_size, trg_len = trg.shape\n",
    "        outputs = torch.zeros(batch_size, trg_len, self.output_fc.out_features).to(src.device)\n",
    "\n",
    "        embedded_src = self.embedding(src)\n",
    "        encoder_outputs, hidden = self.encoder(embedded_src)\n",
    "\n",
    "        input_token = trg[:, 0]  # <sos> token\n",
    "\n",
    "        # Initialize decoder hidden state from encoder\n",
    "        decoder_hidden = hidden\n",
    "\n",
    "        for t in range(1, trg_len):\n",
    "            embedded_trg = self.target_embedding(input_token).unsqueeze(1)\n",
    "            decoder_output, decoder_hidden = self.decoder(embedded_trg, decoder_hidden)\n",
    "            output = self.output_fc(decoder_output.squeeze(1))\n",
    "            outputs[:, t] = output\n",
    "\n",
    "            top1 = output.argmax(1)\n",
    "            input_token = trg[:, t] if torch.rand(1).item() < teacher_forcing_ratio else top1\n",
    "\n",
    "        return outputs\n",
    "    def predict(self, src, tgt_vocab, max_len=50):\n",
    "        self.eval()\n",
    "        batch_size = src.size(0)\n",
    "        pad_idx = tgt_vocab[\"<pad>\"]\n",
    "        sos_idx = tgt_vocab[\"<sos>\"]\n",
    "        eos_idx = tgt_vocab[\"<eos>\"]\n",
    "    \n",
    "        with torch.no_grad():\n",
    "            embedded_src = self.embedding(src)\n",
    "            encoder_outputs, hidden = self.encoder(embedded_src)\n",
    "    \n",
    "            input_token = torch.full((batch_size, 1), sos_idx, dtype=torch.long, device=src.device)\n",
    "            outputs = []\n",
    "    \n",
    "            # for _ in range(max_len):\n",
    "            #     embedded_input = self.target_embedding(input_token)\n",
    "            #     decoder_output, hidden = self.decoder(embedded_input, hidden)\n",
    "            #     top1 = decoder_output.argmax(2)  # [B, 1]\n",
    "    \n",
    "            #     # Clamp values to prevent out-of-range indexing\n",
    "            #     top1 = torch.clamp(top1, max=self.target_embedding.num_embeddings - 1)\n",
    "    \n",
    "            #     outputs.append(top1.squeeze(1))\n",
    "            #     input_token = top1\n",
    "            for _ in range(max_len):\n",
    "                embedded_input = self.target_embedding(input_token)\n",
    "                decoder_output, hidden = self.decoder(embedded_input, hidden)\n",
    "                logits = self.output_fc(decoder_output.squeeze(1))  # [B, V]\n",
    "                top1 = logits.argmax(1, keepdim=True)               # [B, 1]\n",
    "                outputs.append(top1.squeeze(1))\n",
    "                input_token = top1\n",
    "\n",
    "    \n",
    "            outputs = torch.stack(outputs, dim=1)  # [B, T]\n",
    "            return outputs"
   ]
  },
  {
   "cell_type": "markdown",
   "metadata": {},
   "source": [
    "# Hyperparamter sweeps"
   ]
  },
  {
   "cell_type": "code",
   "execution_count": 6,
   "metadata": {
    "execution": {
     "iopub.execute_input": "2025-05-17T12:21:43.895879Z",
     "iopub.status.busy": "2025-05-17T12:21:43.895690Z",
     "iopub.status.idle": "2025-05-17T12:21:43.908953Z",
     "shell.execute_reply": "2025-05-17T12:21:43.908382Z",
     "shell.execute_reply.started": "2025-05-17T12:21:43.895865Z"
    },
    "trusted": true
   },
   "outputs": [],
   "source": [
    "sweep_config = {\n",
    "    'method': 'random',  # or 'grid' or 'bayes'\n",
    "    'metric': {\n",
    "        'name': 'val_loss',\n",
    "        'goal': 'minimize'\n",
    "    },\n",
    "    'parameters': {\n",
    "        'embedding_dim': {\n",
    "            'values': [16, 32, 64, 256]\n",
    "        },\n",
    "        'epochs': {\n",
    "            'values': [5,10]\n",
    "        },\n",
    "        'hidden_size': {\n",
    "            'values': [16, 32, 64, 256]\n",
    "        },\n",
    "        'encoder_layers': {\n",
    "            'values': [1, 2, 3]\n",
    "        },\n",
    "        # 'decoder_layers': {\n",
    "        #     'values': [1, 2, 3]\n",
    "        # },\n",
    "        # 'num_layers': {'values': [1, 2, 3]},\n",
    "        'cell_type': {\n",
    "            'values': ['RNN', 'GRU', 'LSTM']\n",
    "        },\n",
    "        'dropout': {\n",
    "            'values': [0.2, 0.3]\n",
    "        }\n",
    "    }\n",
    "}"
   ]
  },
  {
   "cell_type": "markdown",
   "metadata": {},
   "source": [
    "# training block"
   ]
  },
  {
   "cell_type": "code",
   "execution_count": 6,
   "metadata": {
    "execution": {
     "iopub.execute_input": "2025-05-20T16:12:36.534378Z",
     "iopub.status.busy": "2025-05-20T16:12:36.533913Z",
     "iopub.status.idle": "2025-05-20T16:12:39.918986Z",
     "shell.execute_reply": "2025-05-20T16:12:39.918412Z",
     "shell.execute_reply.started": "2025-05-20T16:12:36.534355Z"
    },
    "trusted": true
   },
   "outputs": [],
   "source": [
    "import wandb\n",
    "import torch\n",
    "import torch.nn as nn\n",
    "import torch.optim as optim\n",
    "from tqdm import tqdm\n",
    "\n",
    "def calculate_accuracy(preds, targets, pad_idx):\n",
    "    preds = preds.argmax(dim=-1)\n",
    "    mask = targets != pad_idx\n",
    "    correct = (preds == targets) & mask\n",
    "    return correct.sum().item() / mask.sum().item()\n",
    "\n",
    "def train(config=None):\n",
    "    with wandb.init(config=config):\n",
    "        config = wandb.config\n",
    "        wandb.run.name = f\"{config.cell_type}_epochs{config.epochs}_emb{config.embedding_dim}_hid{config.hidden_size}_enc{config.encoder_layers}_dec{config.encoder_layers}_do{int(config.dropout * 100)}\"\n",
    "\n",
    "        train_loader, dev_loader, src_vocab, tgt_vocab = load_data()\n",
    "        input_vocab_size = len(src_vocab)\n",
    "        target_vocab_size = len(tgt_vocab)\n",
    "\n",
    "        device = torch.device('cuda' if torch.cuda.is_available() else 'cpu')\n",
    "        pad_idx = src_vocab[\"<pad>\"]\n",
    "\n",
    "        model = Seq2SeqModel(input_vocab_size=input_vocab_size,\n",
    "                             target_vocab_size=target_vocab_size,\n",
    "                             embedding_dim=config.embedding_dim,\n",
    "                             hidden_size=config.hidden_size,\n",
    "                             encoder_layers=config.encoder_layers,\n",
    "                             decoder_layers=config.encoder_layers,\n",
    "                             cell_type=config.cell_type,\n",
    "                             dropout=config.dropout).to(device)\n",
    "\n",
    "        optimizer = optim.Adam(model.parameters())\n",
    "        criterion = nn.CrossEntropyLoss(ignore_index=pad_idx)\n",
    "\n",
    "        for epoch in range(config.epochs):\n",
    "            model.train()\n",
    "            total_loss = 0\n",
    "            total_acc = 0\n",
    "            progress_bar = tqdm(train_loader, desc=f\"Epoch {epoch+1}\", leave=True)\n",
    "            for src_batch, tgt_batch in progress_bar:\n",
    "                src_batch, tgt_batch = src_batch.to(device), tgt_batch.to(device)\n",
    "                optimizer.zero_grad()\n",
    "                output = model(src_batch, tgt_batch)  # [B, T, V]\n",
    "                loss = criterion(\n",
    "                    output[:, 1:].reshape(-1, target_vocab_size),\n",
    "                    tgt_batch[:, 1:].reshape(-1)\n",
    "                )\n",
    "                acc = calculate_accuracy(output[:, 1:], tgt_batch[:, 1:], pad_idx)\n",
    "\n",
    "                loss.backward()\n",
    "                optimizer.step()\n",
    "\n",
    "                total_loss += loss.item()\n",
    "                total_acc += acc\n",
    "                progress_bar.set_postfix(loss=loss.item(), acc=acc)\n",
    "\n",
    "            avg_train_loss = total_loss / len(train_loader)\n",
    "            avg_train_acc = total_acc / len(train_loader)\n",
    "\n",
    "            # 🔍 Validation step\n",
    "            model.eval()\n",
    "            val_loss = 0\n",
    "            val_acc = 0\n",
    "            with torch.no_grad():\n",
    "                for src_batch, tgt_batch in dev_loader:\n",
    "                    src_batch, tgt_batch = src_batch.to(device), tgt_batch.to(device)\n",
    "                    output = model(src_batch, tgt_batch)\n",
    "                    loss = criterion(\n",
    "                        output[:, 1:].reshape(-1, target_vocab_size),\n",
    "                        tgt_batch[:, 1:].reshape(-1)\n",
    "                    )\n",
    "                    acc = calculate_accuracy(output[:, 1:], tgt_batch[:, 1:], pad_idx)\n",
    "                    val_loss += loss.item()\n",
    "                    val_acc += acc\n",
    "            avg_val_loss = val_loss / len(dev_loader)\n",
    "            avg_val_acc = val_acc / len(dev_loader)\n",
    "\n",
    "            # 📊 Logging\n",
    "            wandb.log({\n",
    "                'epoch': epoch,\n",
    "                'train_loss': avg_train_loss,\n",
    "                'train_accuracy': avg_train_acc,\n",
    "                'val_loss': avg_val_loss,\n",
    "                'val_accuracy': avg_val_acc\n",
    "            })"
   ]
  },
  {
   "cell_type": "code",
   "execution_count": null,
   "metadata": {
    "execution": {
     "execution_failed": "2025-05-17T18:06:57.372Z",
     "iopub.execute_input": "2025-05-17T12:21:46.501982Z",
     "iopub.status.busy": "2025-05-17T12:21:46.501665Z"
    },
    "trusted": true
   },
   "outputs": [
    {
     "name": "stderr",
     "output_type": "stream",
     "text": [
      "\u001b[34m\u001b[1mwandb\u001b[0m: Using wandb-core as the SDK backend.  Please refer to https://wandb.me/wandb-core for more information.\n",
      "\u001b[34m\u001b[1mwandb\u001b[0m: \u001b[33mWARNING\u001b[0m If you're specifying your api key in code, ensure this code is not shared publicly.\n",
      "\u001b[34m\u001b[1mwandb\u001b[0m: \u001b[33mWARNING\u001b[0m Consider setting the WANDB_API_KEY environment variable, or running `wandb login` from the command line.\n",
      "\u001b[34m\u001b[1mwandb\u001b[0m: No netrc file found, creating one.\n",
      "\u001b[34m\u001b[1mwandb\u001b[0m: Appending key for api.wandb.ai to your netrc file: /root/.netrc\n",
      "\u001b[34m\u001b[1mwandb\u001b[0m: Currently logged in as: \u001b[33mmm21b010\u001b[0m (\u001b[33mmm21b010-indian-institute-of-technology-madras\u001b[0m) to \u001b[32mhttps://api.wandb.ai\u001b[0m. Use \u001b[1m`wandb login --relogin`\u001b[0m to force relogin\n"
     ]
    },
    {
     "name": "stdout",
     "output_type": "stream",
     "text": [
      "Create sweep with ID: cf5zp1w4\n",
      "Sweep URL: https://wandb.ai/mm21b010-indian-institute-of-technology-madras/dakshina-transliteration/sweeps/cf5zp1w4\n"
     ]
    },
    {
     "name": "stderr",
     "output_type": "stream",
     "text": [
      "\u001b[34m\u001b[1mwandb\u001b[0m: Agent Starting Run: n7b1pffs with config:\n",
      "\u001b[34m\u001b[1mwandb\u001b[0m: \tcell_type: GRU\n",
      "\u001b[34m\u001b[1mwandb\u001b[0m: \tdropout: 0.3\n",
      "\u001b[34m\u001b[1mwandb\u001b[0m: \tembedding_dim: 16\n",
      "\u001b[34m\u001b[1mwandb\u001b[0m: \tencoder_layers: 3\n",
      "\u001b[34m\u001b[1mwandb\u001b[0m: \tepochs: 10\n",
      "\u001b[34m\u001b[1mwandb\u001b[0m: \thidden_size: 64\n"
     ]
    },
    {
     "data": {
      "text/html": [
       "Tracking run with wandb version 0.19.9"
      ],
      "text/plain": [
       "<IPython.core.display.HTML object>"
      ]
     },
     "metadata": {},
     "output_type": "display_data"
    },
    {
     "data": {
      "text/html": [
       "Run data is saved locally in <code>/kaggle/working/wandb/run-20250517_122200-n7b1pffs</code>"
      ],
      "text/plain": [
       "<IPython.core.display.HTML object>"
      ]
     },
     "metadata": {},
     "output_type": "display_data"
    },
    {
     "data": {
      "text/html": [
       "Syncing run <strong><a href='https://wandb.ai/mm21b010-indian-institute-of-technology-madras/dakshina-transliteration/runs/n7b1pffs' target=\"_blank\">autumn-sweep-1</a></strong> to <a href='https://wandb.ai/mm21b010-indian-institute-of-technology-madras/dakshina-transliteration' target=\"_blank\">Weights & Biases</a> (<a href='https://wandb.me/developer-guide' target=\"_blank\">docs</a>)<br>Sweep page: <a href='https://wandb.ai/mm21b010-indian-institute-of-technology-madras/dakshina-transliteration/sweeps/cf5zp1w4' target=\"_blank\">https://wandb.ai/mm21b010-indian-institute-of-technology-madras/dakshina-transliteration/sweeps/cf5zp1w4</a>"
      ],
      "text/plain": [
       "<IPython.core.display.HTML object>"
      ]
     },
     "metadata": {},
     "output_type": "display_data"
    },
    {
     "data": {
      "text/html": [
       " View project at <a href='https://wandb.ai/mm21b010-indian-institute-of-technology-madras/dakshina-transliteration' target=\"_blank\">https://wandb.ai/mm21b010-indian-institute-of-technology-madras/dakshina-transliteration</a>"
      ],
      "text/plain": [
       "<IPython.core.display.HTML object>"
      ]
     },
     "metadata": {},
     "output_type": "display_data"
    },
    {
     "data": {
      "text/html": [
       " View sweep at <a href='https://wandb.ai/mm21b010-indian-institute-of-technology-madras/dakshina-transliteration/sweeps/cf5zp1w4' target=\"_blank\">https://wandb.ai/mm21b010-indian-institute-of-technology-madras/dakshina-transliteration/sweeps/cf5zp1w4</a>"
      ],
      "text/plain": [
       "<IPython.core.display.HTML object>"
      ]
     },
     "metadata": {},
     "output_type": "display_data"
    },
    {
     "data": {
      "text/html": [
       " View run at <a href='https://wandb.ai/mm21b010-indian-institute-of-technology-madras/dakshina-transliteration/runs/n7b1pffs' target=\"_blank\">https://wandb.ai/mm21b010-indian-institute-of-technology-madras/dakshina-transliteration/runs/n7b1pffs</a>"
      ],
      "text/plain": [
       "<IPython.core.display.HTML object>"
      ]
     },
     "metadata": {},
     "output_type": "display_data"
    },
    {
     "name": "stderr",
     "output_type": "stream",
     "text": [
      "Epoch 1: 100%|██████████| 1382/1382 [01:15<00:00, 18.30it/s, acc=0.342, loss=2.49]\n",
      "Epoch 2: 100%|██████████| 1382/1382 [01:14<00:00, 18.45it/s, acc=0.616, loss=1.38]\n",
      "Epoch 3: 100%|██████████| 1382/1382 [01:14<00:00, 18.45it/s, acc=0.559, loss=1.51]\n",
      "Epoch 4: 100%|██████████| 1382/1382 [01:15<00:00, 18.42it/s, acc=0.587, loss=1.21] \n",
      "Epoch 5: 100%|██████████| 1382/1382 [01:14<00:00, 18.48it/s, acc=0.621, loss=1.3]  \n",
      "Epoch 6: 100%|██████████| 1382/1382 [01:15<00:00, 18.39it/s, acc=0.603, loss=1.25] \n",
      "Epoch 7: 100%|██████████| 1382/1382 [01:15<00:00, 18.42it/s, acc=0.843, loss=0.6]  \n",
      "Epoch 8: 100%|██████████| 1382/1382 [01:14<00:00, 18.43it/s, acc=0.718, loss=0.977]\n",
      "Epoch 9: 100%|██████████| 1382/1382 [01:15<00:00, 18.42it/s, acc=0.64, loss=1.35]  \n",
      "Epoch 10: 100%|██████████| 1382/1382 [01:14<00:00, 18.46it/s, acc=0.712, loss=1.02] \n"
     ]
    },
    {
     "data": {
      "text/html": [],
      "text/plain": [
       "<IPython.core.display.HTML object>"
      ]
     },
     "metadata": {},
     "output_type": "display_data"
    },
    {
     "data": {
      "text/html": [
       "<br>    <style><br>        .wandb-row {<br>            display: flex;<br>            flex-direction: row;<br>            flex-wrap: wrap;<br>            justify-content: flex-start;<br>            width: 100%;<br>        }<br>        .wandb-col {<br>            display: flex;<br>            flex-direction: column;<br>            flex-basis: 100%;<br>            flex: 1;<br>            padding: 10px;<br>        }<br>    </style><br><div class=\"wandb-row\"><div class=\"wandb-col\"><h3>Run history:</h3><br/><table class=\"wandb\"><tr><td>epoch</td><td>▁▂▃▃▄▅▆▆▇█</td></tr><tr><td>train_accuracy</td><td>▁▄▅▆▇▇▇███</td></tr><tr><td>train_loss</td><td>█▅▃▂▂▂▁▁▁▁</td></tr><tr><td>val_accuracy</td><td>▁▄▆▆▇▇▇███</td></tr><tr><td>val_loss</td><td>█▅▃▂▂▂▁▁▁▁</td></tr></table><br/></div><div class=\"wandb-col\"><h3>Run summary:</h3><br/><table class=\"wandb\"><tr><td>epoch</td><td>9</td></tr><tr><td>train_accuracy</td><td>0.7132</td></tr><tr><td>train_loss</td><td>0.93637</td></tr><tr><td>val_accuracy</td><td>0.74136</td></tr><tr><td>val_loss</td><td>0.87395</td></tr></table><br/></div></div>"
      ],
      "text/plain": [
       "<IPython.core.display.HTML object>"
      ]
     },
     "metadata": {},
     "output_type": "display_data"
    },
    {
     "data": {
      "text/html": [
       " View run <strong style=\"color:#cdcd00\">GRU_epochs10_emb16_hid64_enc3_dec3_do30</strong> at: <a href='https://wandb.ai/mm21b010-indian-institute-of-technology-madras/dakshina-transliteration/runs/n7b1pffs' target=\"_blank\">https://wandb.ai/mm21b010-indian-institute-of-technology-madras/dakshina-transliteration/runs/n7b1pffs</a><br> View project at: <a href='https://wandb.ai/mm21b010-indian-institute-of-technology-madras/dakshina-transliteration' target=\"_blank\">https://wandb.ai/mm21b010-indian-institute-of-technology-madras/dakshina-transliteration</a><br>Synced 5 W&B file(s), 0 media file(s), 0 artifact file(s) and 0 other file(s)"
      ],
      "text/plain": [
       "<IPython.core.display.HTML object>"
      ]
     },
     "metadata": {},
     "output_type": "display_data"
    },
    {
     "data": {
      "text/html": [
       "Find logs at: <code>./wandb/run-20250517_122200-n7b1pffs/logs</code>"
      ],
      "text/plain": [
       "<IPython.core.display.HTML object>"
      ]
     },
     "metadata": {},
     "output_type": "display_data"
    },
    {
     "name": "stderr",
     "output_type": "stream",
     "text": [
      "\u001b[34m\u001b[1mwandb\u001b[0m: Agent Starting Run: hlmlzd1a with config:\n",
      "\u001b[34m\u001b[1mwandb\u001b[0m: \tcell_type: LSTM\n",
      "\u001b[34m\u001b[1mwandb\u001b[0m: \tdropout: 0.2\n",
      "\u001b[34m\u001b[1mwandb\u001b[0m: \tembedding_dim: 256\n",
      "\u001b[34m\u001b[1mwandb\u001b[0m: \tencoder_layers: 3\n",
      "\u001b[34m\u001b[1mwandb\u001b[0m: \tepochs: 5\n",
      "\u001b[34m\u001b[1mwandb\u001b[0m: \thidden_size: 256\n"
     ]
    },
    {
     "data": {
      "text/html": [
       "Tracking run with wandb version 0.19.9"
      ],
      "text/plain": [
       "<IPython.core.display.HTML object>"
      ]
     },
     "metadata": {},
     "output_type": "display_data"
    },
    {
     "data": {
      "text/html": [
       "Run data is saved locally in <code>/kaggle/working/wandb/run-20250517_123508-hlmlzd1a</code>"
      ],
      "text/plain": [
       "<IPython.core.display.HTML object>"
      ]
     },
     "metadata": {},
     "output_type": "display_data"
    },
    {
     "data": {
      "text/html": [
       "Syncing run <strong><a href='https://wandb.ai/mm21b010-indian-institute-of-technology-madras/dakshina-transliteration/runs/hlmlzd1a' target=\"_blank\">different-sweep-2</a></strong> to <a href='https://wandb.ai/mm21b010-indian-institute-of-technology-madras/dakshina-transliteration' target=\"_blank\">Weights & Biases</a> (<a href='https://wandb.me/developer-guide' target=\"_blank\">docs</a>)<br>Sweep page: <a href='https://wandb.ai/mm21b010-indian-institute-of-technology-madras/dakshina-transliteration/sweeps/cf5zp1w4' target=\"_blank\">https://wandb.ai/mm21b010-indian-institute-of-technology-madras/dakshina-transliteration/sweeps/cf5zp1w4</a>"
      ],
      "text/plain": [
       "<IPython.core.display.HTML object>"
      ]
     },
     "metadata": {},
     "output_type": "display_data"
    },
    {
     "data": {
      "text/html": [
       " View project at <a href='https://wandb.ai/mm21b010-indian-institute-of-technology-madras/dakshina-transliteration' target=\"_blank\">https://wandb.ai/mm21b010-indian-institute-of-technology-madras/dakshina-transliteration</a>"
      ],
      "text/plain": [
       "<IPython.core.display.HTML object>"
      ]
     },
     "metadata": {},
     "output_type": "display_data"
    },
    {
     "data": {
      "text/html": [
       " View sweep at <a href='https://wandb.ai/mm21b010-indian-institute-of-technology-madras/dakshina-transliteration/sweeps/cf5zp1w4' target=\"_blank\">https://wandb.ai/mm21b010-indian-institute-of-technology-madras/dakshina-transliteration/sweeps/cf5zp1w4</a>"
      ],
      "text/plain": [
       "<IPython.core.display.HTML object>"
      ]
     },
     "metadata": {},
     "output_type": "display_data"
    },
    {
     "data": {
      "text/html": [
       " View run at <a href='https://wandb.ai/mm21b010-indian-institute-of-technology-madras/dakshina-transliteration/runs/hlmlzd1a' target=\"_blank\">https://wandb.ai/mm21b010-indian-institute-of-technology-madras/dakshina-transliteration/runs/hlmlzd1a</a>"
      ],
      "text/plain": [
       "<IPython.core.display.HTML object>"
      ]
     },
     "metadata": {},
     "output_type": "display_data"
    },
    {
     "name": "stderr",
     "output_type": "stream",
     "text": [
      "Epoch 1: 100%|██████████| 1382/1382 [01:30<00:00, 15.28it/s, acc=0.482, loss=1.47]\n",
      "Epoch 2: 100%|██████████| 1382/1382 [01:30<00:00, 15.20it/s, acc=0.746, loss=0.931]\n",
      "Epoch 3: 100%|██████████| 1382/1382 [01:30<00:00, 15.20it/s, acc=0.848, loss=0.548]\n",
      "Epoch 4: 100%|██████████| 1382/1382 [01:31<00:00, 15.17it/s, acc=0.648, loss=0.994]\n",
      "Epoch 5: 100%|██████████| 1382/1382 [01:31<00:00, 15.11it/s, acc=0.848, loss=0.568]\n"
     ]
    },
    {
     "data": {
      "text/html": [],
      "text/plain": [
       "<IPython.core.display.HTML object>"
      ]
     },
     "metadata": {},
     "output_type": "display_data"
    },
    {
     "data": {
      "text/html": [
       "<br>    <style><br>        .wandb-row {<br>            display: flex;<br>            flex-direction: row;<br>            flex-wrap: wrap;<br>            justify-content: flex-start;<br>            width: 100%;<br>        }<br>        .wandb-col {<br>            display: flex;<br>            flex-direction: column;<br>            flex-basis: 100%;<br>            flex: 1;<br>            padding: 10px;<br>        }<br>    </style><br><div class=\"wandb-row\"><div class=\"wandb-col\"><h3>Run history:</h3><br/><table class=\"wandb\"><tr><td>epoch</td><td>▁▃▅▆█</td></tr><tr><td>train_accuracy</td><td>▁▅▇██</td></tr><tr><td>train_loss</td><td>█▃▂▁▁</td></tr><tr><td>val_accuracy</td><td>▁▆▇▇█</td></tr><tr><td>val_loss</td><td>█▃▂▁▁</td></tr></table><br/></div><div class=\"wandb-col\"><h3>Run summary:</h3><br/><table class=\"wandb\"><tr><td>epoch</td><td>4</td></tr><tr><td>train_accuracy</td><td>0.80123</td></tr><tr><td>train_loss</td><td>0.65965</td></tr><tr><td>val_accuracy</td><td>0.78088</td></tr><tr><td>val_loss</td><td>0.74048</td></tr></table><br/></div></div>"
      ],
      "text/plain": [
       "<IPython.core.display.HTML object>"
      ]
     },
     "metadata": {},
     "output_type": "display_data"
    },
    {
     "data": {
      "text/html": [
       " View run <strong style=\"color:#cdcd00\">LSTM_epochs5_emb256_hid256_enc3_dec3_do20</strong> at: <a href='https://wandb.ai/mm21b010-indian-institute-of-technology-madras/dakshina-transliteration/runs/hlmlzd1a' target=\"_blank\">https://wandb.ai/mm21b010-indian-institute-of-technology-madras/dakshina-transliteration/runs/hlmlzd1a</a><br> View project at: <a href='https://wandb.ai/mm21b010-indian-institute-of-technology-madras/dakshina-transliteration' target=\"_blank\">https://wandb.ai/mm21b010-indian-institute-of-technology-madras/dakshina-transliteration</a><br>Synced 5 W&B file(s), 0 media file(s), 0 artifact file(s) and 0 other file(s)"
      ],
      "text/plain": [
       "<IPython.core.display.HTML object>"
      ]
     },
     "metadata": {},
     "output_type": "display_data"
    },
    {
     "data": {
      "text/html": [
       "Find logs at: <code>./wandb/run-20250517_123508-hlmlzd1a/logs</code>"
      ],
      "text/plain": [
       "<IPython.core.display.HTML object>"
      ]
     },
     "metadata": {},
     "output_type": "display_data"
    },
    {
     "name": "stderr",
     "output_type": "stream",
     "text": [
      "\u001b[34m\u001b[1mwandb\u001b[0m: Agent Starting Run: 74x9hsvr with config:\n",
      "\u001b[34m\u001b[1mwandb\u001b[0m: \tcell_type: LSTM\n",
      "\u001b[34m\u001b[1mwandb\u001b[0m: \tdropout: 0.3\n",
      "\u001b[34m\u001b[1mwandb\u001b[0m: \tembedding_dim: 64\n",
      "\u001b[34m\u001b[1mwandb\u001b[0m: \tencoder_layers: 3\n",
      "\u001b[34m\u001b[1mwandb\u001b[0m: \tepochs: 10\n",
      "\u001b[34m\u001b[1mwandb\u001b[0m: \thidden_size: 64\n"
     ]
    },
    {
     "data": {
      "text/html": [
       "Tracking run with wandb version 0.19.9"
      ],
      "text/plain": [
       "<IPython.core.display.HTML object>"
      ]
     },
     "metadata": {},
     "output_type": "display_data"
    },
    {
     "data": {
      "text/html": [
       "Run data is saved locally in <code>/kaggle/working/wandb/run-20250517_124309-74x9hsvr</code>"
      ],
      "text/plain": [
       "<IPython.core.display.HTML object>"
      ]
     },
     "metadata": {},
     "output_type": "display_data"
    },
    {
     "data": {
      "text/html": [
       "Syncing run <strong><a href='https://wandb.ai/mm21b010-indian-institute-of-technology-madras/dakshina-transliteration/runs/74x9hsvr' target=\"_blank\">dazzling-sweep-3</a></strong> to <a href='https://wandb.ai/mm21b010-indian-institute-of-technology-madras/dakshina-transliteration' target=\"_blank\">Weights & Biases</a> (<a href='https://wandb.me/developer-guide' target=\"_blank\">docs</a>)<br>Sweep page: <a href='https://wandb.ai/mm21b010-indian-institute-of-technology-madras/dakshina-transliteration/sweeps/cf5zp1w4' target=\"_blank\">https://wandb.ai/mm21b010-indian-institute-of-technology-madras/dakshina-transliteration/sweeps/cf5zp1w4</a>"
      ],
      "text/plain": [
       "<IPython.core.display.HTML object>"
      ]
     },
     "metadata": {},
     "output_type": "display_data"
    },
    {
     "data": {
      "text/html": [
       " View project at <a href='https://wandb.ai/mm21b010-indian-institute-of-technology-madras/dakshina-transliteration' target=\"_blank\">https://wandb.ai/mm21b010-indian-institute-of-technology-madras/dakshina-transliteration</a>"
      ],
      "text/plain": [
       "<IPython.core.display.HTML object>"
      ]
     },
     "metadata": {},
     "output_type": "display_data"
    },
    {
     "data": {
      "text/html": [
       " View sweep at <a href='https://wandb.ai/mm21b010-indian-institute-of-technology-madras/dakshina-transliteration/sweeps/cf5zp1w4' target=\"_blank\">https://wandb.ai/mm21b010-indian-institute-of-technology-madras/dakshina-transliteration/sweeps/cf5zp1w4</a>"
      ],
      "text/plain": [
       "<IPython.core.display.HTML object>"
      ]
     },
     "metadata": {},
     "output_type": "display_data"
    },
    {
     "data": {
      "text/html": [
       " View run at <a href='https://wandb.ai/mm21b010-indian-institute-of-technology-madras/dakshina-transliteration/runs/74x9hsvr' target=\"_blank\">https://wandb.ai/mm21b010-indian-institute-of-technology-madras/dakshina-transliteration/runs/74x9hsvr</a>"
      ],
      "text/plain": [
       "<IPython.core.display.HTML object>"
      ]
     },
     "metadata": {},
     "output_type": "display_data"
    },
    {
     "name": "stderr",
     "output_type": "stream",
     "text": [
      "Epoch 1: 100%|██████████| 1382/1382 [01:22<00:00, 16.79it/s, acc=0.216, loss=2.66]\n",
      "Epoch 2: 100%|██████████| 1382/1382 [01:22<00:00, 16.83it/s, acc=0.405, loss=2.23]\n",
      "Epoch 3: 100%|██████████| 1382/1382 [01:22<00:00, 16.84it/s, acc=0.553, loss=1.69]\n",
      "Epoch 4: 100%|██████████| 1382/1382 [01:22<00:00, 16.81it/s, acc=0.494, loss=1.76]\n",
      "Epoch 5: 100%|██████████| 1382/1382 [01:22<00:00, 16.85it/s, acc=0.718, loss=0.972]\n",
      "Epoch 6: 100%|██████████| 1382/1382 [01:21<00:00, 16.86it/s, acc=0.71, loss=1.05]  \n",
      "Epoch 7: 100%|██████████| 1382/1382 [01:22<00:00, 16.85it/s, acc=0.648, loss=1.16] \n",
      "Epoch 8: 100%|██████████| 1382/1382 [01:21<00:00, 16.86it/s, acc=0.762, loss=0.788]\n",
      "Epoch 9: 100%|██████████| 1382/1382 [01:22<00:00, 16.83it/s, acc=0.728, loss=0.888]\n",
      "Epoch 10: 100%|██████████| 1382/1382 [01:22<00:00, 16.83it/s, acc=0.587, loss=1.09] \n"
     ]
    },
    {
     "data": {
      "text/html": [],
      "text/plain": [
       "<IPython.core.display.HTML object>"
      ]
     },
     "metadata": {},
     "output_type": "display_data"
    },
    {
     "data": {
      "text/html": [
       "<br>    <style><br>        .wandb-row {<br>            display: flex;<br>            flex-direction: row;<br>            flex-wrap: wrap;<br>            justify-content: flex-start;<br>            width: 100%;<br>        }<br>        .wandb-col {<br>            display: flex;<br>            flex-direction: column;<br>            flex-basis: 100%;<br>            flex: 1;<br>            padding: 10px;<br>        }<br>    </style><br><div class=\"wandb-row\"><div class=\"wandb-col\"><h3>Run history:</h3><br/><table class=\"wandb\"><tr><td>epoch</td><td>▁▂▃▃▄▅▆▆▇█</td></tr><tr><td>train_accuracy</td><td>▁▂▄▆▇▇▇███</td></tr><tr><td>train_loss</td><td>█▆▄▃▂▂▂▁▁▁</td></tr><tr><td>val_accuracy</td><td>▁▃▅▆▇▇████</td></tr><tr><td>val_loss</td><td>█▆▄▂▂▂▁▁▁▁</td></tr></table><br/></div><div class=\"wandb-col\"><h3>Run summary:</h3><br/><table class=\"wandb\"><tr><td>epoch</td><td>9</td></tr><tr><td>train_accuracy</td><td>0.71354</td></tr><tr><td>train_loss</td><td>0.94283</td></tr><tr><td>val_accuracy</td><td>0.73809</td></tr><tr><td>val_loss</td><td>0.8738</td></tr></table><br/></div></div>"
      ],
      "text/plain": [
       "<IPython.core.display.HTML object>"
      ]
     },
     "metadata": {},
     "output_type": "display_data"
    },
    {
     "data": {
      "text/html": [
       " View run <strong style=\"color:#cdcd00\">LSTM_epochs10_emb64_hid64_enc3_dec3_do30</strong> at: <a href='https://wandb.ai/mm21b010-indian-institute-of-technology-madras/dakshina-transliteration/runs/74x9hsvr' target=\"_blank\">https://wandb.ai/mm21b010-indian-institute-of-technology-madras/dakshina-transliteration/runs/74x9hsvr</a><br> View project at: <a href='https://wandb.ai/mm21b010-indian-institute-of-technology-madras/dakshina-transliteration' target=\"_blank\">https://wandb.ai/mm21b010-indian-institute-of-technology-madras/dakshina-transliteration</a><br>Synced 5 W&B file(s), 0 media file(s), 0 artifact file(s) and 0 other file(s)"
      ],
      "text/plain": [
       "<IPython.core.display.HTML object>"
      ]
     },
     "metadata": {},
     "output_type": "display_data"
    },
    {
     "data": {
      "text/html": [
       "Find logs at: <code>./wandb/run-20250517_124309-74x9hsvr/logs</code>"
      ],
      "text/plain": [
       "<IPython.core.display.HTML object>"
      ]
     },
     "metadata": {},
     "output_type": "display_data"
    },
    {
     "name": "stderr",
     "output_type": "stream",
     "text": [
      "\u001b[34m\u001b[1mwandb\u001b[0m: Agent Starting Run: e451fvvc with config:\n",
      "\u001b[34m\u001b[1mwandb\u001b[0m: \tcell_type: RNN\n",
      "\u001b[34m\u001b[1mwandb\u001b[0m: \tdropout: 0.3\n",
      "\u001b[34m\u001b[1mwandb\u001b[0m: \tembedding_dim: 256\n",
      "\u001b[34m\u001b[1mwandb\u001b[0m: \tencoder_layers: 1\n",
      "\u001b[34m\u001b[1mwandb\u001b[0m: \tepochs: 5\n",
      "\u001b[34m\u001b[1mwandb\u001b[0m: \thidden_size: 64\n"
     ]
    },
    {
     "data": {
      "text/html": [
       "Tracking run with wandb version 0.19.9"
      ],
      "text/plain": [
       "<IPython.core.display.HTML object>"
      ]
     },
     "metadata": {},
     "output_type": "display_data"
    },
    {
     "data": {
      "text/html": [
       "Run data is saved locally in <code>/kaggle/working/wandb/run-20250517_125723-e451fvvc</code>"
      ],
      "text/plain": [
       "<IPython.core.display.HTML object>"
      ]
     },
     "metadata": {},
     "output_type": "display_data"
    },
    {
     "data": {
      "text/html": [
       "Syncing run <strong><a href='https://wandb.ai/mm21b010-indian-institute-of-technology-madras/dakshina-transliteration/runs/e451fvvc' target=\"_blank\">earnest-sweep-4</a></strong> to <a href='https://wandb.ai/mm21b010-indian-institute-of-technology-madras/dakshina-transliteration' target=\"_blank\">Weights & Biases</a> (<a href='https://wandb.me/developer-guide' target=\"_blank\">docs</a>)<br>Sweep page: <a href='https://wandb.ai/mm21b010-indian-institute-of-technology-madras/dakshina-transliteration/sweeps/cf5zp1w4' target=\"_blank\">https://wandb.ai/mm21b010-indian-institute-of-technology-madras/dakshina-transliteration/sweeps/cf5zp1w4</a>"
      ],
      "text/plain": [
       "<IPython.core.display.HTML object>"
      ]
     },
     "metadata": {},
     "output_type": "display_data"
    },
    {
     "data": {
      "text/html": [
       " View project at <a href='https://wandb.ai/mm21b010-indian-institute-of-technology-madras/dakshina-transliteration' target=\"_blank\">https://wandb.ai/mm21b010-indian-institute-of-technology-madras/dakshina-transliteration</a>"
      ],
      "text/plain": [
       "<IPython.core.display.HTML object>"
      ]
     },
     "metadata": {},
     "output_type": "display_data"
    },
    {
     "data": {
      "text/html": [
       " View sweep at <a href='https://wandb.ai/mm21b010-indian-institute-of-technology-madras/dakshina-transliteration/sweeps/cf5zp1w4' target=\"_blank\">https://wandb.ai/mm21b010-indian-institute-of-technology-madras/dakshina-transliteration/sweeps/cf5zp1w4</a>"
      ],
      "text/plain": [
       "<IPython.core.display.HTML object>"
      ]
     },
     "metadata": {},
     "output_type": "display_data"
    },
    {
     "data": {
      "text/html": [
       " View run at <a href='https://wandb.ai/mm21b010-indian-institute-of-technology-madras/dakshina-transliteration/runs/e451fvvc' target=\"_blank\">https://wandb.ai/mm21b010-indian-institute-of-technology-madras/dakshina-transliteration/runs/e451fvvc</a>"
      ],
      "text/plain": [
       "<IPython.core.display.HTML object>"
      ]
     },
     "metadata": {},
     "output_type": "display_data"
    },
    {
     "name": "stderr",
     "output_type": "stream",
     "text": [
      "Epoch 1: 100%|██████████| 1382/1382 [00:48<00:00, 28.74it/s, acc=0.229, loss=2.78]\n",
      "Epoch 2: 100%|██████████| 1382/1382 [00:48<00:00, 28.50it/s, acc=0.232, loss=2.88]\n",
      "Epoch 3: 100%|██████████| 1382/1382 [00:48<00:00, 28.65it/s, acc=0.269, loss=2.58]\n",
      "Epoch 4: 100%|██████████| 1382/1382 [00:48<00:00, 28.76it/s, acc=0.143, loss=3.33]\n",
      "Epoch 5: 100%|██████████| 1382/1382 [00:48<00:00, 28.62it/s, acc=0.23, loss=2.91] \n"
     ]
    },
    {
     "data": {
      "text/html": [],
      "text/plain": [
       "<IPython.core.display.HTML object>"
      ]
     },
     "metadata": {},
     "output_type": "display_data"
    },
    {
     "data": {
      "text/html": [
       "<br>    <style><br>        .wandb-row {<br>            display: flex;<br>            flex-direction: row;<br>            flex-wrap: wrap;<br>            justify-content: flex-start;<br>            width: 100%;<br>        }<br>        .wandb-col {<br>            display: flex;<br>            flex-direction: column;<br>            flex-basis: 100%;<br>            flex: 1;<br>            padding: 10px;<br>        }<br>    </style><br><div class=\"wandb-row\"><div class=\"wandb-col\"><h3>Run history:</h3><br/><table class=\"wandb\"><tr><td>epoch</td><td>▁▃▅▆█</td></tr><tr><td>train_accuracy</td><td>▁▆▇▇█</td></tr><tr><td>train_loss</td><td>█▃▂▁▁</td></tr><tr><td>val_accuracy</td><td>▄▁▆█▆</td></tr><tr><td>val_loss</td><td>█▅▁▂▃</td></tr></table><br/></div><div class=\"wandb-col\"><h3>Run summary:</h3><br/><table class=\"wandb\"><tr><td>epoch</td><td>4</td></tr><tr><td>train_accuracy</td><td>0.23113</td></tr><tr><td>train_loss</td><td>2.89297</td></tr><tr><td>val_accuracy</td><td>0.22299</td></tr><tr><td>val_loss</td><td>2.93403</td></tr></table><br/></div></div>"
      ],
      "text/plain": [
       "<IPython.core.display.HTML object>"
      ]
     },
     "metadata": {},
     "output_type": "display_data"
    },
    {
     "data": {
      "text/html": [
       " View run <strong style=\"color:#cdcd00\">RNN_epochs5_emb256_hid64_enc1_dec1_do30</strong> at: <a href='https://wandb.ai/mm21b010-indian-institute-of-technology-madras/dakshina-transliteration/runs/e451fvvc' target=\"_blank\">https://wandb.ai/mm21b010-indian-institute-of-technology-madras/dakshina-transliteration/runs/e451fvvc</a><br> View project at: <a href='https://wandb.ai/mm21b010-indian-institute-of-technology-madras/dakshina-transliteration' target=\"_blank\">https://wandb.ai/mm21b010-indian-institute-of-technology-madras/dakshina-transliteration</a><br>Synced 5 W&B file(s), 0 media file(s), 0 artifact file(s) and 0 other file(s)"
      ],
      "text/plain": [
       "<IPython.core.display.HTML object>"
      ]
     },
     "metadata": {},
     "output_type": "display_data"
    },
    {
     "data": {
      "text/html": [
       "Find logs at: <code>./wandb/run-20250517_125723-e451fvvc/logs</code>"
      ],
      "text/plain": [
       "<IPython.core.display.HTML object>"
      ]
     },
     "metadata": {},
     "output_type": "display_data"
    },
    {
     "name": "stderr",
     "output_type": "stream",
     "text": [
      "\u001b[34m\u001b[1mwandb\u001b[0m: Agent Starting Run: ynyo480k with config:\n",
      "\u001b[34m\u001b[1mwandb\u001b[0m: \tcell_type: LSTM\n",
      "\u001b[34m\u001b[1mwandb\u001b[0m: \tdropout: 0.3\n",
      "\u001b[34m\u001b[1mwandb\u001b[0m: \tembedding_dim: 256\n",
      "\u001b[34m\u001b[1mwandb\u001b[0m: \tencoder_layers: 3\n",
      "\u001b[34m\u001b[1mwandb\u001b[0m: \tepochs: 10\n",
      "\u001b[34m\u001b[1mwandb\u001b[0m: \thidden_size: 16\n"
     ]
    },
    {
     "data": {
      "text/html": [
       "Tracking run with wandb version 0.19.9"
      ],
      "text/plain": [
       "<IPython.core.display.HTML object>"
      ]
     },
     "metadata": {},
     "output_type": "display_data"
    },
    {
     "data": {
      "text/html": [
       "Run data is saved locally in <code>/kaggle/working/wandb/run-20250517_130147-ynyo480k</code>"
      ],
      "text/plain": [
       "<IPython.core.display.HTML object>"
      ]
     },
     "metadata": {},
     "output_type": "display_data"
    },
    {
     "data": {
      "text/html": [
       "Syncing run <strong><a href='https://wandb.ai/mm21b010-indian-institute-of-technology-madras/dakshina-transliteration/runs/ynyo480k' target=\"_blank\">denim-sweep-5</a></strong> to <a href='https://wandb.ai/mm21b010-indian-institute-of-technology-madras/dakshina-transliteration' target=\"_blank\">Weights & Biases</a> (<a href='https://wandb.me/developer-guide' target=\"_blank\">docs</a>)<br>Sweep page: <a href='https://wandb.ai/mm21b010-indian-institute-of-technology-madras/dakshina-transliteration/sweeps/cf5zp1w4' target=\"_blank\">https://wandb.ai/mm21b010-indian-institute-of-technology-madras/dakshina-transliteration/sweeps/cf5zp1w4</a>"
      ],
      "text/plain": [
       "<IPython.core.display.HTML object>"
      ]
     },
     "metadata": {},
     "output_type": "display_data"
    },
    {
     "data": {
      "text/html": [
       " View project at <a href='https://wandb.ai/mm21b010-indian-institute-of-technology-madras/dakshina-transliteration' target=\"_blank\">https://wandb.ai/mm21b010-indian-institute-of-technology-madras/dakshina-transliteration</a>"
      ],
      "text/plain": [
       "<IPython.core.display.HTML object>"
      ]
     },
     "metadata": {},
     "output_type": "display_data"
    },
    {
     "data": {
      "text/html": [
       " View sweep at <a href='https://wandb.ai/mm21b010-indian-institute-of-technology-madras/dakshina-transliteration/sweeps/cf5zp1w4' target=\"_blank\">https://wandb.ai/mm21b010-indian-institute-of-technology-madras/dakshina-transliteration/sweeps/cf5zp1w4</a>"
      ],
      "text/plain": [
       "<IPython.core.display.HTML object>"
      ]
     },
     "metadata": {},
     "output_type": "display_data"
    },
    {
     "data": {
      "text/html": [
       " View run at <a href='https://wandb.ai/mm21b010-indian-institute-of-technology-madras/dakshina-transliteration/runs/ynyo480k' target=\"_blank\">https://wandb.ai/mm21b010-indian-institute-of-technology-madras/dakshina-transliteration/runs/ynyo480k</a>"
      ],
      "text/plain": [
       "<IPython.core.display.HTML object>"
      ]
     },
     "metadata": {},
     "output_type": "display_data"
    },
    {
     "name": "stderr",
     "output_type": "stream",
     "text": [
      "Epoch 1: 100%|██████████| 1382/1382 [01:22<00:00, 16.75it/s, acc=0.224, loss=3.04]\n",
      "Epoch 2: 100%|██████████| 1382/1382 [01:22<00:00, 16.83it/s, acc=0.297, loss=2.81]\n",
      "Epoch 3: 100%|██████████| 1382/1382 [01:22<00:00, 16.84it/s, acc=0.25, loss=2.8]  \n",
      "Epoch 4: 100%|██████████| 1382/1382 [01:22<00:00, 16.80it/s, acc=0.3, loss=2.52]  \n",
      "Epoch 5: 100%|██████████| 1382/1382 [01:22<00:00, 16.82it/s, acc=0.291, loss=2.79]\n",
      "Epoch 6: 100%|██████████| 1382/1382 [01:22<00:00, 16.83it/s, acc=0.275, loss=2.64]\n",
      "Epoch 7: 100%|██████████| 1382/1382 [01:22<00:00, 16.76it/s, acc=0.307, loss=2.5] \n",
      "Epoch 8: 100%|██████████| 1382/1382 [01:22<00:00, 16.80it/s, acc=0.348, loss=2.09]\n",
      "Epoch 9: 100%|██████████| 1382/1382 [01:22<00:00, 16.81it/s, acc=0.342, loss=2.22]\n",
      "Epoch 10: 100%|██████████| 1382/1382 [01:22<00:00, 16.80it/s, acc=0.493, loss=2.04]\n"
     ]
    },
    {
     "data": {
      "text/html": [],
      "text/plain": [
       "<IPython.core.display.HTML object>"
      ]
     },
     "metadata": {},
     "output_type": "display_data"
    },
    {
     "data": {
      "text/html": [
       "<br>    <style><br>        .wandb-row {<br>            display: flex;<br>            flex-direction: row;<br>            flex-wrap: wrap;<br>            justify-content: flex-start;<br>            width: 100%;<br>        }<br>        .wandb-col {<br>            display: flex;<br>            flex-direction: column;<br>            flex-basis: 100%;<br>            flex: 1;<br>            padding: 10px;<br>        }<br>    </style><br><div class=\"wandb-row\"><div class=\"wandb-col\"><h3>Run history:</h3><br/><table class=\"wandb\"><tr><td>epoch</td><td>▁▂▃▃▄▅▆▆▇█</td></tr><tr><td>train_accuracy</td><td>▁▃▄▅▅▆▆▇▇█</td></tr><tr><td>train_loss</td><td>█▆▅▄▄▃▂▂▁▁</td></tr><tr><td>val_accuracy</td><td>▁▂▃▄▄▅▆▆▇█</td></tr><tr><td>val_loss</td><td>█▇▆▅▄▄▃▂▂▁</td></tr></table><br/></div><div class=\"wandb-col\"><h3>Run summary:</h3><br/><table class=\"wandb\"><tr><td>epoch</td><td>9</td></tr><tr><td>train_accuracy</td><td>0.36987</td></tr><tr><td>train_loss</td><td>2.24604</td></tr><tr><td>val_accuracy</td><td>0.39627</td></tr><tr><td>val_loss</td><td>2.13031</td></tr></table><br/></div></div>"
      ],
      "text/plain": [
       "<IPython.core.display.HTML object>"
      ]
     },
     "metadata": {},
     "output_type": "display_data"
    },
    {
     "data": {
      "text/html": [
       " View run <strong style=\"color:#cdcd00\">LSTM_epochs10_emb256_hid16_enc3_dec3_do30</strong> at: <a href='https://wandb.ai/mm21b010-indian-institute-of-technology-madras/dakshina-transliteration/runs/ynyo480k' target=\"_blank\">https://wandb.ai/mm21b010-indian-institute-of-technology-madras/dakshina-transliteration/runs/ynyo480k</a><br> View project at: <a href='https://wandb.ai/mm21b010-indian-institute-of-technology-madras/dakshina-transliteration' target=\"_blank\">https://wandb.ai/mm21b010-indian-institute-of-technology-madras/dakshina-transliteration</a><br>Synced 5 W&B file(s), 0 media file(s), 0 artifact file(s) and 0 other file(s)"
      ],
      "text/plain": [
       "<IPython.core.display.HTML object>"
      ]
     },
     "metadata": {},
     "output_type": "display_data"
    },
    {
     "data": {
      "text/html": [
       "Find logs at: <code>./wandb/run-20250517_130147-ynyo480k/logs</code>"
      ],
      "text/plain": [
       "<IPython.core.display.HTML object>"
      ]
     },
     "metadata": {},
     "output_type": "display_data"
    },
    {
     "name": "stderr",
     "output_type": "stream",
     "text": [
      "\u001b[34m\u001b[1mwandb\u001b[0m: Agent Starting Run: lxim8imy with config:\n",
      "\u001b[34m\u001b[1mwandb\u001b[0m: \tcell_type: RNN\n",
      "\u001b[34m\u001b[1mwandb\u001b[0m: \tdropout: 0.3\n",
      "\u001b[34m\u001b[1mwandb\u001b[0m: \tembedding_dim: 16\n",
      "\u001b[34m\u001b[1mwandb\u001b[0m: \tencoder_layers: 1\n",
      "\u001b[34m\u001b[1mwandb\u001b[0m: \tepochs: 10\n",
      "\u001b[34m\u001b[1mwandb\u001b[0m: \thidden_size: 256\n"
     ]
    },
    {
     "data": {
      "text/html": [
       "Tracking run with wandb version 0.19.9"
      ],
      "text/plain": [
       "<IPython.core.display.HTML object>"
      ]
     },
     "metadata": {},
     "output_type": "display_data"
    },
    {
     "data": {
      "text/html": [
       "Run data is saved locally in <code>/kaggle/working/wandb/run-20250517_131602-lxim8imy</code>"
      ],
      "text/plain": [
       "<IPython.core.display.HTML object>"
      ]
     },
     "metadata": {},
     "output_type": "display_data"
    },
    {
     "data": {
      "text/html": [
       "Syncing run <strong><a href='https://wandb.ai/mm21b010-indian-institute-of-technology-madras/dakshina-transliteration/runs/lxim8imy' target=\"_blank\">super-sweep-6</a></strong> to <a href='https://wandb.ai/mm21b010-indian-institute-of-technology-madras/dakshina-transliteration' target=\"_blank\">Weights & Biases</a> (<a href='https://wandb.me/developer-guide' target=\"_blank\">docs</a>)<br>Sweep page: <a href='https://wandb.ai/mm21b010-indian-institute-of-technology-madras/dakshina-transliteration/sweeps/cf5zp1w4' target=\"_blank\">https://wandb.ai/mm21b010-indian-institute-of-technology-madras/dakshina-transliteration/sweeps/cf5zp1w4</a>"
      ],
      "text/plain": [
       "<IPython.core.display.HTML object>"
      ]
     },
     "metadata": {},
     "output_type": "display_data"
    },
    {
     "data": {
      "text/html": [
       " View project at <a href='https://wandb.ai/mm21b010-indian-institute-of-technology-madras/dakshina-transliteration' target=\"_blank\">https://wandb.ai/mm21b010-indian-institute-of-technology-madras/dakshina-transliteration</a>"
      ],
      "text/plain": [
       "<IPython.core.display.HTML object>"
      ]
     },
     "metadata": {},
     "output_type": "display_data"
    },
    {
     "data": {
      "text/html": [
       " View sweep at <a href='https://wandb.ai/mm21b010-indian-institute-of-technology-madras/dakshina-transliteration/sweeps/cf5zp1w4' target=\"_blank\">https://wandb.ai/mm21b010-indian-institute-of-technology-madras/dakshina-transliteration/sweeps/cf5zp1w4</a>"
      ],
      "text/plain": [
       "<IPython.core.display.HTML object>"
      ]
     },
     "metadata": {},
     "output_type": "display_data"
    },
    {
     "data": {
      "text/html": [
       " View run at <a href='https://wandb.ai/mm21b010-indian-institute-of-technology-madras/dakshina-transliteration/runs/lxim8imy' target=\"_blank\">https://wandb.ai/mm21b010-indian-institute-of-technology-madras/dakshina-transliteration/runs/lxim8imy</a>"
      ],
      "text/plain": [
       "<IPython.core.display.HTML object>"
      ]
     },
     "metadata": {},
     "output_type": "display_data"
    },
    {
     "name": "stderr",
     "output_type": "stream",
     "text": [
      "Epoch 1: 100%|██████████| 1382/1382 [00:48<00:00, 28.25it/s, acc=0.235, loss=2.85]\n",
      "Epoch 2: 100%|██████████| 1382/1382 [00:48<00:00, 28.38it/s, acc=0.224, loss=3.02]\n",
      "Epoch 3: 100%|██████████| 1382/1382 [00:48<00:00, 28.40it/s, acc=0.254, loss=2.9] \n",
      "Epoch 4: 100%|██████████| 1382/1382 [00:48<00:00, 28.25it/s, acc=0.197, loss=3.09]\n",
      "Epoch 5: 100%|██████████| 1382/1382 [00:48<00:00, 28.31it/s, acc=0.215, loss=2.91]\n",
      "Epoch 6: 100%|██████████| 1382/1382 [00:48<00:00, 28.22it/s, acc=0.203, loss=2.9] \n",
      "Epoch 7: 100%|██████████| 1382/1382 [00:49<00:00, 28.11it/s, acc=0.319, loss=2.44]\n",
      "Epoch 8: 100%|██████████| 1382/1382 [00:49<00:00, 28.17it/s, acc=0.183, loss=3.12]\n",
      "Epoch 9: 100%|██████████| 1382/1382 [00:49<00:00, 28.18it/s, acc=0.244, loss=2.81]\n",
      "Epoch 10: 100%|██████████| 1382/1382 [00:49<00:00, 28.15it/s, acc=0.311, loss=2.65]\n"
     ]
    },
    {
     "data": {
      "text/html": [],
      "text/plain": [
       "<IPython.core.display.HTML object>"
      ]
     },
     "metadata": {},
     "output_type": "display_data"
    },
    {
     "data": {
      "text/html": [
       "<br>    <style><br>        .wandb-row {<br>            display: flex;<br>            flex-direction: row;<br>            flex-wrap: wrap;<br>            justify-content: flex-start;<br>            width: 100%;<br>        }<br>        .wandb-col {<br>            display: flex;<br>            flex-direction: column;<br>            flex-basis: 100%;<br>            flex: 1;<br>            padding: 10px;<br>        }<br>    </style><br><div class=\"wandb-row\"><div class=\"wandb-col\"><h3>Run history:</h3><br/><table class=\"wandb\"><tr><td>epoch</td><td>▁▂▃▃▄▅▆▆▇█</td></tr><tr><td>train_accuracy</td><td>▁▄▅▆▆▇█▇██</td></tr><tr><td>train_loss</td><td>█▅▄▃▂▂▂▂▁▁</td></tr><tr><td>val_accuracy</td><td>▁▆▆▅▇▄▆█▇▅</td></tr><tr><td>val_loss</td><td>█▄▃▃▂▅▂▁▂▃</td></tr></table><br/></div><div class=\"wandb-col\"><h3>Run summary:</h3><br/><table class=\"wandb\"><tr><td>epoch</td><td>9</td></tr><tr><td>train_accuracy</td><td>0.23452</td></tr><tr><td>train_loss</td><td>2.86159</td></tr><tr><td>val_accuracy</td><td>0.21751</td></tr><tr><td>val_loss</td><td>2.95079</td></tr></table><br/></div></div>"
      ],
      "text/plain": [
       "<IPython.core.display.HTML object>"
      ]
     },
     "metadata": {},
     "output_type": "display_data"
    },
    {
     "data": {
      "text/html": [
       " View run <strong style=\"color:#cdcd00\">RNN_epochs10_emb16_hid256_enc1_dec1_do30</strong> at: <a href='https://wandb.ai/mm21b010-indian-institute-of-technology-madras/dakshina-transliteration/runs/lxim8imy' target=\"_blank\">https://wandb.ai/mm21b010-indian-institute-of-technology-madras/dakshina-transliteration/runs/lxim8imy</a><br> View project at: <a href='https://wandb.ai/mm21b010-indian-institute-of-technology-madras/dakshina-transliteration' target=\"_blank\">https://wandb.ai/mm21b010-indian-institute-of-technology-madras/dakshina-transliteration</a><br>Synced 5 W&B file(s), 0 media file(s), 0 artifact file(s) and 0 other file(s)"
      ],
      "text/plain": [
       "<IPython.core.display.HTML object>"
      ]
     },
     "metadata": {},
     "output_type": "display_data"
    },
    {
     "data": {
      "text/html": [
       "Find logs at: <code>./wandb/run-20250517_131602-lxim8imy/logs</code>"
      ],
      "text/plain": [
       "<IPython.core.display.HTML object>"
      ]
     },
     "metadata": {},
     "output_type": "display_data"
    },
    {
     "name": "stderr",
     "output_type": "stream",
     "text": [
      "\u001b[34m\u001b[1mwandb\u001b[0m: Agent Starting Run: g8rcj4b6 with config:\n",
      "\u001b[34m\u001b[1mwandb\u001b[0m: \tcell_type: GRU\n",
      "\u001b[34m\u001b[1mwandb\u001b[0m: \tdropout: 0.3\n",
      "\u001b[34m\u001b[1mwandb\u001b[0m: \tembedding_dim: 32\n",
      "\u001b[34m\u001b[1mwandb\u001b[0m: \tencoder_layers: 3\n",
      "\u001b[34m\u001b[1mwandb\u001b[0m: \tepochs: 10\n",
      "\u001b[34m\u001b[1mwandb\u001b[0m: \thidden_size: 64\n"
     ]
    },
    {
     "data": {
      "text/html": [
       "Tracking run with wandb version 0.19.9"
      ],
      "text/plain": [
       "<IPython.core.display.HTML object>"
      ]
     },
     "metadata": {},
     "output_type": "display_data"
    },
    {
     "data": {
      "text/html": [
       "Run data is saved locally in <code>/kaggle/working/wandb/run-20250517_132443-g8rcj4b6</code>"
      ],
      "text/plain": [
       "<IPython.core.display.HTML object>"
      ]
     },
     "metadata": {},
     "output_type": "display_data"
    },
    {
     "data": {
      "text/html": [
       "Syncing run <strong><a href='https://wandb.ai/mm21b010-indian-institute-of-technology-madras/dakshina-transliteration/runs/g8rcj4b6' target=\"_blank\">bumbling-sweep-7</a></strong> to <a href='https://wandb.ai/mm21b010-indian-institute-of-technology-madras/dakshina-transliteration' target=\"_blank\">Weights & Biases</a> (<a href='https://wandb.me/developer-guide' target=\"_blank\">docs</a>)<br>Sweep page: <a href='https://wandb.ai/mm21b010-indian-institute-of-technology-madras/dakshina-transliteration/sweeps/cf5zp1w4' target=\"_blank\">https://wandb.ai/mm21b010-indian-institute-of-technology-madras/dakshina-transliteration/sweeps/cf5zp1w4</a>"
      ],
      "text/plain": [
       "<IPython.core.display.HTML object>"
      ]
     },
     "metadata": {},
     "output_type": "display_data"
    },
    {
     "data": {
      "text/html": [
       " View project at <a href='https://wandb.ai/mm21b010-indian-institute-of-technology-madras/dakshina-transliteration' target=\"_blank\">https://wandb.ai/mm21b010-indian-institute-of-technology-madras/dakshina-transliteration</a>"
      ],
      "text/plain": [
       "<IPython.core.display.HTML object>"
      ]
     },
     "metadata": {},
     "output_type": "display_data"
    },
    {
     "data": {
      "text/html": [
       " View sweep at <a href='https://wandb.ai/mm21b010-indian-institute-of-technology-madras/dakshina-transliteration/sweeps/cf5zp1w4' target=\"_blank\">https://wandb.ai/mm21b010-indian-institute-of-technology-madras/dakshina-transliteration/sweeps/cf5zp1w4</a>"
      ],
      "text/plain": [
       "<IPython.core.display.HTML object>"
      ]
     },
     "metadata": {},
     "output_type": "display_data"
    },
    {
     "data": {
      "text/html": [
       " View run at <a href='https://wandb.ai/mm21b010-indian-institute-of-technology-madras/dakshina-transliteration/runs/g8rcj4b6' target=\"_blank\">https://wandb.ai/mm21b010-indian-institute-of-technology-madras/dakshina-transliteration/runs/g8rcj4b6</a>"
      ],
      "text/plain": [
       "<IPython.core.display.HTML object>"
      ]
     },
     "metadata": {},
     "output_type": "display_data"
    },
    {
     "name": "stderr",
     "output_type": "stream",
     "text": [
      "Epoch 1: 100%|██████████| 1382/1382 [01:16<00:00, 18.16it/s, acc=0.391, loss=2.52]\n",
      "Epoch 2: 100%|██████████| 1382/1382 [01:16<00:00, 18.13it/s, acc=0.375, loss=2.08]\n",
      "Epoch 3: 100%|██████████| 1382/1382 [01:16<00:00, 18.15it/s, acc=0.455, loss=1.88]\n",
      "Epoch 4: 100%|██████████| 1382/1382 [01:16<00:00, 18.08it/s, acc=0.525, loss=1.48] \n",
      "Epoch 5: 100%|██████████| 1382/1382 [01:16<00:00, 18.16it/s, acc=0.534, loss=1.5]  \n",
      "Epoch 6: 100%|██████████| 1382/1382 [01:16<00:00, 18.17it/s, acc=0.602, loss=1.38] \n",
      "Epoch 7: 100%|██████████| 1382/1382 [01:15<00:00, 18.23it/s, acc=0.641, loss=1.19] \n",
      "Epoch 8: 100%|██████████| 1382/1382 [01:16<00:00, 18.11it/s, acc=0.686, loss=1.13] \n",
      "Epoch 9: 100%|██████████| 1382/1382 [01:16<00:00, 18.12it/s, acc=0.716, loss=1.13] \n",
      "Epoch 10: 100%|██████████| 1382/1382 [01:15<00:00, 18.20it/s, acc=0.722, loss=0.915]\n"
     ]
    },
    {
     "data": {
      "text/html": [],
      "text/plain": [
       "<IPython.core.display.HTML object>"
      ]
     },
     "metadata": {},
     "output_type": "display_data"
    },
    {
     "data": {
      "text/html": [
       "<br>    <style><br>        .wandb-row {<br>            display: flex;<br>            flex-direction: row;<br>            flex-wrap: wrap;<br>            justify-content: flex-start;<br>            width: 100%;<br>        }<br>        .wandb-col {<br>            display: flex;<br>            flex-direction: column;<br>            flex-basis: 100%;<br>            flex: 1;<br>            padding: 10px;<br>        }<br>    </style><br><div class=\"wandb-row\"><div class=\"wandb-col\"><h3>Run history:</h3><br/><table class=\"wandb\"><tr><td>epoch</td><td>▁▂▃▃▄▅▆▆▇█</td></tr><tr><td>train_accuracy</td><td>▁▃▅▆▇▇▇███</td></tr><tr><td>train_loss</td><td>█▅▄▃▂▂▂▁▁▁</td></tr><tr><td>val_accuracy</td><td>▁▄▅▆▇▇▇███</td></tr><tr><td>val_loss</td><td>█▅▃▃▂▂▁▁▁▁</td></tr></table><br/></div><div class=\"wandb-col\"><h3>Run summary:</h3><br/><table class=\"wandb\"><tr><td>epoch</td><td>9</td></tr><tr><td>train_accuracy</td><td>0.69013</td></tr><tr><td>train_loss</td><td>1.01158</td></tr><tr><td>val_accuracy</td><td>0.71313</td></tr><tr><td>val_loss</td><td>0.95486</td></tr></table><br/></div></div>"
      ],
      "text/plain": [
       "<IPython.core.display.HTML object>"
      ]
     },
     "metadata": {},
     "output_type": "display_data"
    },
    {
     "data": {
      "text/html": [
       " View run <strong style=\"color:#cdcd00\">GRU_epochs10_emb32_hid64_enc3_dec3_do30</strong> at: <a href='https://wandb.ai/mm21b010-indian-institute-of-technology-madras/dakshina-transliteration/runs/g8rcj4b6' target=\"_blank\">https://wandb.ai/mm21b010-indian-institute-of-technology-madras/dakshina-transliteration/runs/g8rcj4b6</a><br> View project at: <a href='https://wandb.ai/mm21b010-indian-institute-of-technology-madras/dakshina-transliteration' target=\"_blank\">https://wandb.ai/mm21b010-indian-institute-of-technology-madras/dakshina-transliteration</a><br>Synced 5 W&B file(s), 0 media file(s), 0 artifact file(s) and 0 other file(s)"
      ],
      "text/plain": [
       "<IPython.core.display.HTML object>"
      ]
     },
     "metadata": {},
     "output_type": "display_data"
    },
    {
     "data": {
      "text/html": [
       "Find logs at: <code>./wandb/run-20250517_132443-g8rcj4b6/logs</code>"
      ],
      "text/plain": [
       "<IPython.core.display.HTML object>"
      ]
     },
     "metadata": {},
     "output_type": "display_data"
    },
    {
     "name": "stderr",
     "output_type": "stream",
     "text": [
      "\u001b[34m\u001b[1mwandb\u001b[0m: Agent Starting Run: 2mtph1pa with config:\n",
      "\u001b[34m\u001b[1mwandb\u001b[0m: \tcell_type: GRU\n",
      "\u001b[34m\u001b[1mwandb\u001b[0m: \tdropout: 0.3\n",
      "\u001b[34m\u001b[1mwandb\u001b[0m: \tembedding_dim: 256\n",
      "\u001b[34m\u001b[1mwandb\u001b[0m: \tencoder_layers: 3\n",
      "\u001b[34m\u001b[1mwandb\u001b[0m: \tepochs: 10\n",
      "\u001b[34m\u001b[1mwandb\u001b[0m: \thidden_size: 32\n"
     ]
    },
    {
     "data": {
      "text/html": [
       "Tracking run with wandb version 0.19.9"
      ],
      "text/plain": [
       "<IPython.core.display.HTML object>"
      ]
     },
     "metadata": {},
     "output_type": "display_data"
    },
    {
     "data": {
      "text/html": [
       "Run data is saved locally in <code>/kaggle/working/wandb/run-20250517_133758-2mtph1pa</code>"
      ],
      "text/plain": [
       "<IPython.core.display.HTML object>"
      ]
     },
     "metadata": {},
     "output_type": "display_data"
    },
    {
     "data": {
      "text/html": [
       "Syncing run <strong><a href='https://wandb.ai/mm21b010-indian-institute-of-technology-madras/dakshina-transliteration/runs/2mtph1pa' target=\"_blank\">northern-sweep-8</a></strong> to <a href='https://wandb.ai/mm21b010-indian-institute-of-technology-madras/dakshina-transliteration' target=\"_blank\">Weights & Biases</a> (<a href='https://wandb.me/developer-guide' target=\"_blank\">docs</a>)<br>Sweep page: <a href='https://wandb.ai/mm21b010-indian-institute-of-technology-madras/dakshina-transliteration/sweeps/cf5zp1w4' target=\"_blank\">https://wandb.ai/mm21b010-indian-institute-of-technology-madras/dakshina-transliteration/sweeps/cf5zp1w4</a>"
      ],
      "text/plain": [
       "<IPython.core.display.HTML object>"
      ]
     },
     "metadata": {},
     "output_type": "display_data"
    },
    {
     "data": {
      "text/html": [
       " View project at <a href='https://wandb.ai/mm21b010-indian-institute-of-technology-madras/dakshina-transliteration' target=\"_blank\">https://wandb.ai/mm21b010-indian-institute-of-technology-madras/dakshina-transliteration</a>"
      ],
      "text/plain": [
       "<IPython.core.display.HTML object>"
      ]
     },
     "metadata": {},
     "output_type": "display_data"
    },
    {
     "data": {
      "text/html": [
       " View sweep at <a href='https://wandb.ai/mm21b010-indian-institute-of-technology-madras/dakshina-transliteration/sweeps/cf5zp1w4' target=\"_blank\">https://wandb.ai/mm21b010-indian-institute-of-technology-madras/dakshina-transliteration/sweeps/cf5zp1w4</a>"
      ],
      "text/plain": [
       "<IPython.core.display.HTML object>"
      ]
     },
     "metadata": {},
     "output_type": "display_data"
    },
    {
     "data": {
      "text/html": [
       " View run at <a href='https://wandb.ai/mm21b010-indian-institute-of-technology-madras/dakshina-transliteration/runs/2mtph1pa' target=\"_blank\">https://wandb.ai/mm21b010-indian-institute-of-technology-madras/dakshina-transliteration/runs/2mtph1pa</a>"
      ],
      "text/plain": [
       "<IPython.core.display.HTML object>"
      ]
     },
     "metadata": {},
     "output_type": "display_data"
    },
    {
     "name": "stderr",
     "output_type": "stream",
     "text": [
      "Epoch 1: 100%|██████████| 1382/1382 [01:15<00:00, 18.20it/s, acc=0.25, loss=2.68] \n",
      "Epoch 2: 100%|██████████| 1382/1382 [01:15<00:00, 18.23it/s, acc=0.493, loss=1.88]\n",
      "Epoch 3: 100%|██████████| 1382/1382 [01:15<00:00, 18.25it/s, acc=0.536, loss=1.63]\n",
      "Epoch 4: 100%|██████████| 1382/1382 [01:15<00:00, 18.20it/s, acc=0.478, loss=1.59]\n",
      "Epoch 5: 100%|██████████| 1382/1382 [01:16<00:00, 18.17it/s, acc=0.5, loss=1.87]  \n",
      "Epoch 6: 100%|██████████| 1382/1382 [01:16<00:00, 18.14it/s, acc=0.458, loss=1.84]\n",
      "Epoch 7: 100%|██████████| 1382/1382 [01:15<00:00, 18.19it/s, acc=0.614, loss=1.28]\n",
      "Epoch 8: 100%|██████████| 1382/1382 [01:16<00:00, 18.08it/s, acc=0.506, loss=1.79]\n",
      "Epoch 9: 100%|██████████| 1382/1382 [01:16<00:00, 18.18it/s, acc=0.485, loss=1.57]\n",
      "Epoch 10: 100%|██████████| 1382/1382 [01:16<00:00, 18.17it/s, acc=0.492, loss=1.56]\n"
     ]
    },
    {
     "data": {
      "text/html": [],
      "text/plain": [
       "<IPython.core.display.HTML object>"
      ]
     },
     "metadata": {},
     "output_type": "display_data"
    },
    {
     "data": {
      "text/html": [
       "<br>    <style><br>        .wandb-row {<br>            display: flex;<br>            flex-direction: row;<br>            flex-wrap: wrap;<br>            justify-content: flex-start;<br>            width: 100%;<br>        }<br>        .wandb-col {<br>            display: flex;<br>            flex-direction: column;<br>            flex-basis: 100%;<br>            flex: 1;<br>            padding: 10px;<br>        }<br>    </style><br><div class=\"wandb-row\"><div class=\"wandb-col\"><h3>Run history:</h3><br/><table class=\"wandb\"><tr><td>epoch</td><td>▁▂▃▃▄▅▆▆▇█</td></tr><tr><td>train_accuracy</td><td>▁▄▅▅▆▇▇▇██</td></tr><tr><td>train_loss</td><td>█▅▄▃▃▂▂▁▁▁</td></tr><tr><td>val_accuracy</td><td>▁▃▄▅▆▆▇▇██</td></tr><tr><td>val_loss</td><td>█▆▄▃▃▂▂▁▁▁</td></tr></table><br/></div><div class=\"wandb-col\"><h3>Run summary:</h3><br/><table class=\"wandb\"><tr><td>epoch</td><td>9</td></tr><tr><td>train_accuracy</td><td>0.55782</td></tr><tr><td>train_loss</td><td>1.47766</td></tr><tr><td>val_accuracy</td><td>0.61038</td></tr><tr><td>val_loss</td><td>1.32271</td></tr></table><br/></div></div>"
      ],
      "text/plain": [
       "<IPython.core.display.HTML object>"
      ]
     },
     "metadata": {},
     "output_type": "display_data"
    },
    {
     "data": {
      "text/html": [
       " View run <strong style=\"color:#cdcd00\">GRU_epochs10_emb256_hid32_enc3_dec3_do30</strong> at: <a href='https://wandb.ai/mm21b010-indian-institute-of-technology-madras/dakshina-transliteration/runs/2mtph1pa' target=\"_blank\">https://wandb.ai/mm21b010-indian-institute-of-technology-madras/dakshina-transliteration/runs/2mtph1pa</a><br> View project at: <a href='https://wandb.ai/mm21b010-indian-institute-of-technology-madras/dakshina-transliteration' target=\"_blank\">https://wandb.ai/mm21b010-indian-institute-of-technology-madras/dakshina-transliteration</a><br>Synced 5 W&B file(s), 0 media file(s), 0 artifact file(s) and 0 other file(s)"
      ],
      "text/plain": [
       "<IPython.core.display.HTML object>"
      ]
     },
     "metadata": {},
     "output_type": "display_data"
    },
    {
     "data": {
      "text/html": [
       "Find logs at: <code>./wandb/run-20250517_133758-2mtph1pa/logs</code>"
      ],
      "text/plain": [
       "<IPython.core.display.HTML object>"
      ]
     },
     "metadata": {},
     "output_type": "display_data"
    },
    {
     "name": "stderr",
     "output_type": "stream",
     "text": [
      "\u001b[34m\u001b[1mwandb\u001b[0m: Agent Starting Run: ijvm6rhp with config:\n",
      "\u001b[34m\u001b[1mwandb\u001b[0m: \tcell_type: RNN\n",
      "\u001b[34m\u001b[1mwandb\u001b[0m: \tdropout: 0.2\n",
      "\u001b[34m\u001b[1mwandb\u001b[0m: \tembedding_dim: 256\n",
      "\u001b[34m\u001b[1mwandb\u001b[0m: \tencoder_layers: 1\n",
      "\u001b[34m\u001b[1mwandb\u001b[0m: \tepochs: 10\n",
      "\u001b[34m\u001b[1mwandb\u001b[0m: \thidden_size: 32\n"
     ]
    },
    {
     "data": {
      "text/html": [
       "Tracking run with wandb version 0.19.9"
      ],
      "text/plain": [
       "<IPython.core.display.HTML object>"
      ]
     },
     "metadata": {},
     "output_type": "display_data"
    },
    {
     "data": {
      "text/html": [
       "Run data is saved locally in <code>/kaggle/working/wandb/run-20250517_135112-ijvm6rhp</code>"
      ],
      "text/plain": [
       "<IPython.core.display.HTML object>"
      ]
     },
     "metadata": {},
     "output_type": "display_data"
    },
    {
     "data": {
      "text/html": [
       "Syncing run <strong><a href='https://wandb.ai/mm21b010-indian-institute-of-technology-madras/dakshina-transliteration/runs/ijvm6rhp' target=\"_blank\">sparkling-sweep-9</a></strong> to <a href='https://wandb.ai/mm21b010-indian-institute-of-technology-madras/dakshina-transliteration' target=\"_blank\">Weights & Biases</a> (<a href='https://wandb.me/developer-guide' target=\"_blank\">docs</a>)<br>Sweep page: <a href='https://wandb.ai/mm21b010-indian-institute-of-technology-madras/dakshina-transliteration/sweeps/cf5zp1w4' target=\"_blank\">https://wandb.ai/mm21b010-indian-institute-of-technology-madras/dakshina-transliteration/sweeps/cf5zp1w4</a>"
      ],
      "text/plain": [
       "<IPython.core.display.HTML object>"
      ]
     },
     "metadata": {},
     "output_type": "display_data"
    },
    {
     "data": {
      "text/html": [
       " View project at <a href='https://wandb.ai/mm21b010-indian-institute-of-technology-madras/dakshina-transliteration' target=\"_blank\">https://wandb.ai/mm21b010-indian-institute-of-technology-madras/dakshina-transliteration</a>"
      ],
      "text/plain": [
       "<IPython.core.display.HTML object>"
      ]
     },
     "metadata": {},
     "output_type": "display_data"
    },
    {
     "data": {
      "text/html": [
       " View sweep at <a href='https://wandb.ai/mm21b010-indian-institute-of-technology-madras/dakshina-transliteration/sweeps/cf5zp1w4' target=\"_blank\">https://wandb.ai/mm21b010-indian-institute-of-technology-madras/dakshina-transliteration/sweeps/cf5zp1w4</a>"
      ],
      "text/plain": [
       "<IPython.core.display.HTML object>"
      ]
     },
     "metadata": {},
     "output_type": "display_data"
    },
    {
     "data": {
      "text/html": [
       " View run at <a href='https://wandb.ai/mm21b010-indian-institute-of-technology-madras/dakshina-transliteration/runs/ijvm6rhp' target=\"_blank\">https://wandb.ai/mm21b010-indian-institute-of-technology-madras/dakshina-transliteration/runs/ijvm6rhp</a>"
      ],
      "text/plain": [
       "<IPython.core.display.HTML object>"
      ]
     },
     "metadata": {},
     "output_type": "display_data"
    },
    {
     "name": "stderr",
     "output_type": "stream",
     "text": [
      "Epoch 1: 100%|██████████| 1382/1382 [00:49<00:00, 28.19it/s, acc=0.2, loss=3.13]  \n",
      "Epoch 2: 100%|██████████| 1382/1382 [00:48<00:00, 28.31it/s, acc=0.225, loss=3.21]\n",
      "Epoch 3: 100%|██████████| 1382/1382 [00:49<00:00, 28.18it/s, acc=0.211, loss=2.87]\n",
      "Epoch 4: 100%|██████████| 1382/1382 [00:48<00:00, 28.31it/s, acc=0.227, loss=2.96]\n",
      "Epoch 5: 100%|██████████| 1382/1382 [00:48<00:00, 28.41it/s, acc=0.195, loss=3]   \n",
      "Epoch 6: 100%|██████████| 1382/1382 [00:48<00:00, 28.27it/s, acc=0.292, loss=2.79]\n",
      "Epoch 7: 100%|██████████| 1382/1382 [00:48<00:00, 28.38it/s, acc=0.254, loss=2.82]\n",
      "Epoch 8: 100%|██████████| 1382/1382 [00:48<00:00, 28.25it/s, acc=0.25, loss=3.15] \n",
      "Epoch 9: 100%|██████████| 1382/1382 [00:48<00:00, 28.27it/s, acc=0.266, loss=2.97]\n",
      "Epoch 10: 100%|██████████| 1382/1382 [00:48<00:00, 28.45it/s, acc=0.236, loss=2.95]\n"
     ]
    },
    {
     "data": {
      "text/html": [],
      "text/plain": [
       "<IPython.core.display.HTML object>"
      ]
     },
     "metadata": {},
     "output_type": "display_data"
    },
    {
     "data": {
      "text/html": [
       "<br>    <style><br>        .wandb-row {<br>            display: flex;<br>            flex-direction: row;<br>            flex-wrap: wrap;<br>            justify-content: flex-start;<br>            width: 100%;<br>        }<br>        .wandb-col {<br>            display: flex;<br>            flex-direction: column;<br>            flex-basis: 100%;<br>            flex: 1;<br>            padding: 10px;<br>        }<br>    </style><br><div class=\"wandb-row\"><div class=\"wandb-col\"><h3>Run history:</h3><br/><table class=\"wandb\"><tr><td>epoch</td><td>▁▂▃▃▄▅▆▆▇█</td></tr><tr><td>train_accuracy</td><td>▁▆▇▇▇▇██▇█</td></tr><tr><td>train_loss</td><td>█▃▂▂▂▁▁▁▁▁</td></tr><tr><td>val_accuracy</td><td>▂▁▄▄▅█▄▅▃▆</td></tr><tr><td>val_loss</td><td>█▇▆▄▄▂▄▂▄▁</td></tr></table><br/></div><div class=\"wandb-col\"><h3>Run summary:</h3><br/><table class=\"wandb\"><tr><td>epoch</td><td>9</td></tr><tr><td>train_accuracy</td><td>0.22775</td></tr><tr><td>train_loss</td><td>2.91357</td></tr><tr><td>val_accuracy</td><td>0.22285</td></tr><tr><td>val_loss</td><td>2.93005</td></tr></table><br/></div></div>"
      ],
      "text/plain": [
       "<IPython.core.display.HTML object>"
      ]
     },
     "metadata": {},
     "output_type": "display_data"
    },
    {
     "data": {
      "text/html": [
       " View run <strong style=\"color:#cdcd00\">RNN_epochs10_emb256_hid32_enc1_dec1_do20</strong> at: <a href='https://wandb.ai/mm21b010-indian-institute-of-technology-madras/dakshina-transliteration/runs/ijvm6rhp' target=\"_blank\">https://wandb.ai/mm21b010-indian-institute-of-technology-madras/dakshina-transliteration/runs/ijvm6rhp</a><br> View project at: <a href='https://wandb.ai/mm21b010-indian-institute-of-technology-madras/dakshina-transliteration' target=\"_blank\">https://wandb.ai/mm21b010-indian-institute-of-technology-madras/dakshina-transliteration</a><br>Synced 5 W&B file(s), 0 media file(s), 0 artifact file(s) and 0 other file(s)"
      ],
      "text/plain": [
       "<IPython.core.display.HTML object>"
      ]
     },
     "metadata": {},
     "output_type": "display_data"
    },
    {
     "data": {
      "text/html": [
       "Find logs at: <code>./wandb/run-20250517_135112-ijvm6rhp/logs</code>"
      ],
      "text/plain": [
       "<IPython.core.display.HTML object>"
      ]
     },
     "metadata": {},
     "output_type": "display_data"
    },
    {
     "name": "stderr",
     "output_type": "stream",
     "text": [
      "\u001b[34m\u001b[1mwandb\u001b[0m: Agent Starting Run: s29ox54e with config:\n",
      "\u001b[34m\u001b[1mwandb\u001b[0m: \tcell_type: LSTM\n",
      "\u001b[34m\u001b[1mwandb\u001b[0m: \tdropout: 0.2\n",
      "\u001b[34m\u001b[1mwandb\u001b[0m: \tembedding_dim: 16\n",
      "\u001b[34m\u001b[1mwandb\u001b[0m: \tencoder_layers: 2\n",
      "\u001b[34m\u001b[1mwandb\u001b[0m: \tepochs: 10\n",
      "\u001b[34m\u001b[1mwandb\u001b[0m: \thidden_size: 16\n"
     ]
    },
    {
     "data": {
      "text/html": [
       "Tracking run with wandb version 0.19.9"
      ],
      "text/plain": [
       "<IPython.core.display.HTML object>"
      ]
     },
     "metadata": {},
     "output_type": "display_data"
    },
    {
     "data": {
      "text/html": [
       "Run data is saved locally in <code>/kaggle/working/wandb/run-20250517_135953-s29ox54e</code>"
      ],
      "text/plain": [
       "<IPython.core.display.HTML object>"
      ]
     },
     "metadata": {},
     "output_type": "display_data"
    },
    {
     "data": {
      "text/html": [
       "Syncing run <strong><a href='https://wandb.ai/mm21b010-indian-institute-of-technology-madras/dakshina-transliteration/runs/s29ox54e' target=\"_blank\">firm-sweep-10</a></strong> to <a href='https://wandb.ai/mm21b010-indian-institute-of-technology-madras/dakshina-transliteration' target=\"_blank\">Weights & Biases</a> (<a href='https://wandb.me/developer-guide' target=\"_blank\">docs</a>)<br>Sweep page: <a href='https://wandb.ai/mm21b010-indian-institute-of-technology-madras/dakshina-transliteration/sweeps/cf5zp1w4' target=\"_blank\">https://wandb.ai/mm21b010-indian-institute-of-technology-madras/dakshina-transliteration/sweeps/cf5zp1w4</a>"
      ],
      "text/plain": [
       "<IPython.core.display.HTML object>"
      ]
     },
     "metadata": {},
     "output_type": "display_data"
    },
    {
     "data": {
      "text/html": [
       " View project at <a href='https://wandb.ai/mm21b010-indian-institute-of-technology-madras/dakshina-transliteration' target=\"_blank\">https://wandb.ai/mm21b010-indian-institute-of-technology-madras/dakshina-transliteration</a>"
      ],
      "text/plain": [
       "<IPython.core.display.HTML object>"
      ]
     },
     "metadata": {},
     "output_type": "display_data"
    },
    {
     "data": {
      "text/html": [
       " View sweep at <a href='https://wandb.ai/mm21b010-indian-institute-of-technology-madras/dakshina-transliteration/sweeps/cf5zp1w4' target=\"_blank\">https://wandb.ai/mm21b010-indian-institute-of-technology-madras/dakshina-transliteration/sweeps/cf5zp1w4</a>"
      ],
      "text/plain": [
       "<IPython.core.display.HTML object>"
      ]
     },
     "metadata": {},
     "output_type": "display_data"
    },
    {
     "data": {
      "text/html": [
       " View run at <a href='https://wandb.ai/mm21b010-indian-institute-of-technology-madras/dakshina-transliteration/runs/s29ox54e' target=\"_blank\">https://wandb.ai/mm21b010-indian-institute-of-technology-madras/dakshina-transliteration/runs/s29ox54e</a>"
      ],
      "text/plain": [
       "<IPython.core.display.HTML object>"
      ]
     },
     "metadata": {},
     "output_type": "display_data"
    },
    {
     "name": "stderr",
     "output_type": "stream",
     "text": [
      "Epoch 1: 100%|██████████| 1382/1382 [01:09<00:00, 19.93it/s, acc=0.208, loss=3.06]\n",
      "Epoch 2: 100%|██████████| 1382/1382 [01:09<00:00, 19.98it/s, acc=0.327, loss=2.78]\n",
      "Epoch 3: 100%|██████████| 1382/1382 [01:09<00:00, 19.99it/s, acc=0.262, loss=2.82]\n",
      "Epoch 4: 100%|██████████| 1382/1382 [01:09<00:00, 19.90it/s, acc=0.307, loss=2.61]\n",
      "Epoch 5: 100%|██████████| 1382/1382 [01:09<00:00, 19.85it/s, acc=0.276, loss=2.77]\n",
      "Epoch 6: 100%|██████████| 1382/1382 [01:09<00:00, 19.96it/s, acc=0.292, loss=2.4] \n",
      "Epoch 7: 100%|██████████| 1382/1382 [01:09<00:00, 19.93it/s, acc=0.354, loss=2.29]\n",
      "Epoch 8: 100%|██████████| 1382/1382 [01:09<00:00, 19.90it/s, acc=0.351, loss=2.62]\n",
      "Epoch 9: 100%|██████████| 1382/1382 [01:09<00:00, 19.85it/s, acc=0.316, loss=2.5] \n",
      "Epoch 10: 100%|██████████| 1382/1382 [01:09<00:00, 19.94it/s, acc=0.314, loss=2.17]\n"
     ]
    },
    {
     "data": {
      "text/html": [],
      "text/plain": [
       "<IPython.core.display.HTML object>"
      ]
     },
     "metadata": {},
     "output_type": "display_data"
    },
    {
     "data": {
      "text/html": [
       "<br>    <style><br>        .wandb-row {<br>            display: flex;<br>            flex-direction: row;<br>            flex-wrap: wrap;<br>            justify-content: flex-start;<br>            width: 100%;<br>        }<br>        .wandb-col {<br>            display: flex;<br>            flex-direction: column;<br>            flex-basis: 100%;<br>            flex: 1;<br>            padding: 10px;<br>        }<br>    </style><br><div class=\"wandb-row\"><div class=\"wandb-col\"><h3>Run history:</h3><br/><table class=\"wandb\"><tr><td>epoch</td><td>▁▂▃▃▄▅▆▆▇█</td></tr><tr><td>train_accuracy</td><td>▁▃▄▄▅▅▆▇▇█</td></tr><tr><td>train_loss</td><td>█▅▄▃▃▂▂▂▁▁</td></tr><tr><td>val_accuracy</td><td>▁▂▃▄▄▅▆▆▇█</td></tr><tr><td>val_loss</td><td>█▆▅▄▃▃▂▂▂▁</td></tr></table><br/></div><div class=\"wandb-col\"><h3>Run summary:</h3><br/><table class=\"wandb\"><tr><td>epoch</td><td>9</td></tr><tr><td>train_accuracy</td><td>0.3424</td></tr><tr><td>train_loss</td><td>2.44716</td></tr><tr><td>val_accuracy</td><td>0.35101</td></tr><tr><td>val_loss</td><td>2.39274</td></tr></table><br/></div></div>"
      ],
      "text/plain": [
       "<IPython.core.display.HTML object>"
      ]
     },
     "metadata": {},
     "output_type": "display_data"
    },
    {
     "data": {
      "text/html": [
       " View run <strong style=\"color:#cdcd00\">LSTM_epochs10_emb16_hid16_enc2_dec2_do20</strong> at: <a href='https://wandb.ai/mm21b010-indian-institute-of-technology-madras/dakshina-transliteration/runs/s29ox54e' target=\"_blank\">https://wandb.ai/mm21b010-indian-institute-of-technology-madras/dakshina-transliteration/runs/s29ox54e</a><br> View project at: <a href='https://wandb.ai/mm21b010-indian-institute-of-technology-madras/dakshina-transliteration' target=\"_blank\">https://wandb.ai/mm21b010-indian-institute-of-technology-madras/dakshina-transliteration</a><br>Synced 5 W&B file(s), 0 media file(s), 0 artifact file(s) and 0 other file(s)"
      ],
      "text/plain": [
       "<IPython.core.display.HTML object>"
      ]
     },
     "metadata": {},
     "output_type": "display_data"
    },
    {
     "data": {
      "text/html": [
       "Find logs at: <code>./wandb/run-20250517_135953-s29ox54e/logs</code>"
      ],
      "text/plain": [
       "<IPython.core.display.HTML object>"
      ]
     },
     "metadata": {},
     "output_type": "display_data"
    },
    {
     "name": "stderr",
     "output_type": "stream",
     "text": [
      "\u001b[34m\u001b[1mwandb\u001b[0m: Agent Starting Run: qmb7ed10 with config:\n",
      "\u001b[34m\u001b[1mwandb\u001b[0m: \tcell_type: GRU\n",
      "\u001b[34m\u001b[1mwandb\u001b[0m: \tdropout: 0.2\n",
      "\u001b[34m\u001b[1mwandb\u001b[0m: \tembedding_dim: 32\n",
      "\u001b[34m\u001b[1mwandb\u001b[0m: \tencoder_layers: 2\n",
      "\u001b[34m\u001b[1mwandb\u001b[0m: \tepochs: 10\n",
      "\u001b[34m\u001b[1mwandb\u001b[0m: \thidden_size: 64\n"
     ]
    },
    {
     "data": {
      "text/html": [
       "Tracking run with wandb version 0.19.9"
      ],
      "text/plain": [
       "<IPython.core.display.HTML object>"
      ]
     },
     "metadata": {},
     "output_type": "display_data"
    },
    {
     "data": {
      "text/html": [
       "Run data is saved locally in <code>/kaggle/working/wandb/run-20250517_141202-qmb7ed10</code>"
      ],
      "text/plain": [
       "<IPython.core.display.HTML object>"
      ]
     },
     "metadata": {},
     "output_type": "display_data"
    },
    {
     "data": {
      "text/html": [
       "Syncing run <strong><a href='https://wandb.ai/mm21b010-indian-institute-of-technology-madras/dakshina-transliteration/runs/qmb7ed10' target=\"_blank\">olive-sweep-11</a></strong> to <a href='https://wandb.ai/mm21b010-indian-institute-of-technology-madras/dakshina-transliteration' target=\"_blank\">Weights & Biases</a> (<a href='https://wandb.me/developer-guide' target=\"_blank\">docs</a>)<br>Sweep page: <a href='https://wandb.ai/mm21b010-indian-institute-of-technology-madras/dakshina-transliteration/sweeps/cf5zp1w4' target=\"_blank\">https://wandb.ai/mm21b010-indian-institute-of-technology-madras/dakshina-transliteration/sweeps/cf5zp1w4</a>"
      ],
      "text/plain": [
       "<IPython.core.display.HTML object>"
      ]
     },
     "metadata": {},
     "output_type": "display_data"
    },
    {
     "data": {
      "text/html": [
       " View project at <a href='https://wandb.ai/mm21b010-indian-institute-of-technology-madras/dakshina-transliteration' target=\"_blank\">https://wandb.ai/mm21b010-indian-institute-of-technology-madras/dakshina-transliteration</a>"
      ],
      "text/plain": [
       "<IPython.core.display.HTML object>"
      ]
     },
     "metadata": {},
     "output_type": "display_data"
    },
    {
     "data": {
      "text/html": [
       " View sweep at <a href='https://wandb.ai/mm21b010-indian-institute-of-technology-madras/dakshina-transliteration/sweeps/cf5zp1w4' target=\"_blank\">https://wandb.ai/mm21b010-indian-institute-of-technology-madras/dakshina-transliteration/sweeps/cf5zp1w4</a>"
      ],
      "text/plain": [
       "<IPython.core.display.HTML object>"
      ]
     },
     "metadata": {},
     "output_type": "display_data"
    },
    {
     "data": {
      "text/html": [
       " View run at <a href='https://wandb.ai/mm21b010-indian-institute-of-technology-madras/dakshina-transliteration/runs/qmb7ed10' target=\"_blank\">https://wandb.ai/mm21b010-indian-institute-of-technology-madras/dakshina-transliteration/runs/qmb7ed10</a>"
      ],
      "text/plain": [
       "<IPython.core.display.HTML object>"
      ]
     },
     "metadata": {},
     "output_type": "display_data"
    },
    {
     "name": "stderr",
     "output_type": "stream",
     "text": [
      "Epoch 1: 100%|██████████| 1382/1382 [01:05<00:00, 21.12it/s, acc=0.439, loss=1.99]\n",
      "Epoch 2: 100%|██████████| 1382/1382 [01:05<00:00, 21.07it/s, acc=0.579, loss=1.28]\n",
      "Epoch 3: 100%|██████████| 1382/1382 [01:05<00:00, 21.15it/s, acc=0.558, loss=1.5]  \n",
      "Epoch 4: 100%|██████████| 1382/1382 [01:05<00:00, 21.04it/s, acc=0.536, loss=1.62] \n",
      "Epoch 5: 100%|██████████| 1382/1382 [01:05<00:00, 21.11it/s, acc=0.731, loss=0.907]\n",
      "Epoch 6: 100%|██████████| 1382/1382 [01:05<00:00, 21.07it/s, acc=0.736, loss=0.763]\n",
      "Epoch 7: 100%|██████████| 1382/1382 [01:05<00:00, 21.20it/s, acc=0.545, loss=1.39] \n",
      "Epoch 8: 100%|██████████| 1382/1382 [01:05<00:00, 21.13it/s, acc=0.655, loss=1.24] \n",
      "Epoch 9: 100%|██████████| 1382/1382 [01:05<00:00, 21.16it/s, acc=0.625, loss=1.07] \n",
      "Epoch 10: 100%|██████████| 1382/1382 [01:05<00:00, 21.06it/s, acc=0.71, loss=0.853] \n"
     ]
    },
    {
     "data": {
      "text/html": [],
      "text/plain": [
       "<IPython.core.display.HTML object>"
      ]
     },
     "metadata": {},
     "output_type": "display_data"
    },
    {
     "data": {
      "text/html": [
       "<br>    <style><br>        .wandb-row {<br>            display: flex;<br>            flex-direction: row;<br>            flex-wrap: wrap;<br>            justify-content: flex-start;<br>            width: 100%;<br>        }<br>        .wandb-col {<br>            display: flex;<br>            flex-direction: column;<br>            flex-basis: 100%;<br>            flex: 1;<br>            padding: 10px;<br>        }<br>    </style><br><div class=\"wandb-row\"><div class=\"wandb-col\"><h3>Run history:</h3><br/><table class=\"wandb\"><tr><td>epoch</td><td>▁▂▃▃▄▅▆▆▇█</td></tr><tr><td>train_accuracy</td><td>▁▄▅▆▇▇▇███</td></tr><tr><td>train_loss</td><td>█▅▃▃▂▂▂▁▁▁</td></tr><tr><td>val_accuracy</td><td>▁▄▅▆▇▇▇███</td></tr><tr><td>val_loss</td><td>█▅▄▃▂▂▂▁▁▁</td></tr></table><br/></div><div class=\"wandb-col\"><h3>Run summary:</h3><br/><table class=\"wandb\"><tr><td>epoch</td><td>9</td></tr><tr><td>train_accuracy</td><td>0.71436</td></tr><tr><td>train_loss</td><td>0.94121</td></tr><tr><td>val_accuracy</td><td>0.7164</td></tr><tr><td>val_loss</td><td>0.94845</td></tr></table><br/></div></div>"
      ],
      "text/plain": [
       "<IPython.core.display.HTML object>"
      ]
     },
     "metadata": {},
     "output_type": "display_data"
    },
    {
     "data": {
      "text/html": [
       " View run <strong style=\"color:#cdcd00\">GRU_epochs10_emb32_hid64_enc2_dec2_do20</strong> at: <a href='https://wandb.ai/mm21b010-indian-institute-of-technology-madras/dakshina-transliteration/runs/qmb7ed10' target=\"_blank\">https://wandb.ai/mm21b010-indian-institute-of-technology-madras/dakshina-transliteration/runs/qmb7ed10</a><br> View project at: <a href='https://wandb.ai/mm21b010-indian-institute-of-technology-madras/dakshina-transliteration' target=\"_blank\">https://wandb.ai/mm21b010-indian-institute-of-technology-madras/dakshina-transliteration</a><br>Synced 5 W&B file(s), 0 media file(s), 0 artifact file(s) and 0 other file(s)"
      ],
      "text/plain": [
       "<IPython.core.display.HTML object>"
      ]
     },
     "metadata": {},
     "output_type": "display_data"
    },
    {
     "data": {
      "text/html": [
       "Find logs at: <code>./wandb/run-20250517_141202-qmb7ed10/logs</code>"
      ],
      "text/plain": [
       "<IPython.core.display.HTML object>"
      ]
     },
     "metadata": {},
     "output_type": "display_data"
    },
    {
     "name": "stderr",
     "output_type": "stream",
     "text": [
      "\u001b[34m\u001b[1mwandb\u001b[0m: Agent Starting Run: zrt770p9 with config:\n",
      "\u001b[34m\u001b[1mwandb\u001b[0m: \tcell_type: LSTM\n",
      "\u001b[34m\u001b[1mwandb\u001b[0m: \tdropout: 0.3\n",
      "\u001b[34m\u001b[1mwandb\u001b[0m: \tembedding_dim: 32\n",
      "\u001b[34m\u001b[1mwandb\u001b[0m: \tencoder_layers: 1\n",
      "\u001b[34m\u001b[1mwandb\u001b[0m: \tepochs: 5\n",
      "\u001b[34m\u001b[1mwandb\u001b[0m: \thidden_size: 16\n"
     ]
    },
    {
     "data": {
      "text/html": [
       "Tracking run with wandb version 0.19.9"
      ],
      "text/plain": [
       "<IPython.core.display.HTML object>"
      ]
     },
     "metadata": {},
     "output_type": "display_data"
    },
    {
     "data": {
      "text/html": [
       "Run data is saved locally in <code>/kaggle/working/wandb/run-20250517_142330-zrt770p9</code>"
      ],
      "text/plain": [
       "<IPython.core.display.HTML object>"
      ]
     },
     "metadata": {},
     "output_type": "display_data"
    },
    {
     "data": {
      "text/html": [
       "Syncing run <strong><a href='https://wandb.ai/mm21b010-indian-institute-of-technology-madras/dakshina-transliteration/runs/zrt770p9' target=\"_blank\">magic-sweep-12</a></strong> to <a href='https://wandb.ai/mm21b010-indian-institute-of-technology-madras/dakshina-transliteration' target=\"_blank\">Weights & Biases</a> (<a href='https://wandb.me/developer-guide' target=\"_blank\">docs</a>)<br>Sweep page: <a href='https://wandb.ai/mm21b010-indian-institute-of-technology-madras/dakshina-transliteration/sweeps/cf5zp1w4' target=\"_blank\">https://wandb.ai/mm21b010-indian-institute-of-technology-madras/dakshina-transliteration/sweeps/cf5zp1w4</a>"
      ],
      "text/plain": [
       "<IPython.core.display.HTML object>"
      ]
     },
     "metadata": {},
     "output_type": "display_data"
    },
    {
     "data": {
      "text/html": [
       " View project at <a href='https://wandb.ai/mm21b010-indian-institute-of-technology-madras/dakshina-transliteration' target=\"_blank\">https://wandb.ai/mm21b010-indian-institute-of-technology-madras/dakshina-transliteration</a>"
      ],
      "text/plain": [
       "<IPython.core.display.HTML object>"
      ]
     },
     "metadata": {},
     "output_type": "display_data"
    },
    {
     "data": {
      "text/html": [
       " View sweep at <a href='https://wandb.ai/mm21b010-indian-institute-of-technology-madras/dakshina-transliteration/sweeps/cf5zp1w4' target=\"_blank\">https://wandb.ai/mm21b010-indian-institute-of-technology-madras/dakshina-transliteration/sweeps/cf5zp1w4</a>"
      ],
      "text/plain": [
       "<IPython.core.display.HTML object>"
      ]
     },
     "metadata": {},
     "output_type": "display_data"
    },
    {
     "data": {
      "text/html": [
       " View run at <a href='https://wandb.ai/mm21b010-indian-institute-of-technology-madras/dakshina-transliteration/runs/zrt770p9' target=\"_blank\">https://wandb.ai/mm21b010-indian-institute-of-technology-madras/dakshina-transliteration/runs/zrt770p9</a>"
      ],
      "text/plain": [
       "<IPython.core.display.HTML object>"
      ]
     },
     "metadata": {},
     "output_type": "display_data"
    },
    {
     "name": "stderr",
     "output_type": "stream",
     "text": [
      "Epoch 1: 100%|██████████| 1382/1382 [00:55<00:00, 24.83it/s, acc=0.28, loss=2.82] \n",
      "Epoch 2: 100%|██████████| 1382/1382 [00:55<00:00, 24.75it/s, acc=0.233, loss=2.88]\n",
      "Epoch 3: 100%|██████████| 1382/1382 [00:55<00:00, 24.74it/s, acc=0.276, loss=2.73]\n",
      "Epoch 4: 100%|██████████| 1382/1382 [00:55<00:00, 24.76it/s, acc=0.338, loss=2.45]\n",
      "Epoch 5: 100%|██████████| 1382/1382 [00:55<00:00, 24.84it/s, acc=0.213, loss=3.01]\n"
     ]
    },
    {
     "data": {
      "text/html": [],
      "text/plain": [
       "<IPython.core.display.HTML object>"
      ]
     },
     "metadata": {},
     "output_type": "display_data"
    },
    {
     "data": {
      "text/html": [
       "<br>    <style><br>        .wandb-row {<br>            display: flex;<br>            flex-direction: row;<br>            flex-wrap: wrap;<br>            justify-content: flex-start;<br>            width: 100%;<br>        }<br>        .wandb-col {<br>            display: flex;<br>            flex-direction: column;<br>            flex-basis: 100%;<br>            flex: 1;<br>            padding: 10px;<br>        }<br>    </style><br><div class=\"wandb-row\"><div class=\"wandb-col\"><h3>Run history:</h3><br/><table class=\"wandb\"><tr><td>epoch</td><td>▁▃▅▆█</td></tr><tr><td>train_accuracy</td><td>▁▅▆▇█</td></tr><tr><td>train_loss</td><td>█▄▃▂▁</td></tr><tr><td>val_accuracy</td><td>▁▂▄▇█</td></tr><tr><td>val_loss</td><td>█▇▅▂▁</td></tr></table><br/></div><div class=\"wandb-col\"><h3>Run summary:</h3><br/><table class=\"wandb\"><tr><td>epoch</td><td>4</td></tr><tr><td>train_accuracy</td><td>0.28914</td></tr><tr><td>train_loss</td><td>2.64733</td></tr><tr><td>val_accuracy</td><td>0.28578</td></tr><tr><td>val_loss</td><td>2.65062</td></tr></table><br/></div></div>"
      ],
      "text/plain": [
       "<IPython.core.display.HTML object>"
      ]
     },
     "metadata": {},
     "output_type": "display_data"
    },
    {
     "data": {
      "text/html": [
       " View run <strong style=\"color:#cdcd00\">LSTM_epochs5_emb32_hid16_enc1_dec1_do30</strong> at: <a href='https://wandb.ai/mm21b010-indian-institute-of-technology-madras/dakshina-transliteration/runs/zrt770p9' target=\"_blank\">https://wandb.ai/mm21b010-indian-institute-of-technology-madras/dakshina-transliteration/runs/zrt770p9</a><br> View project at: <a href='https://wandb.ai/mm21b010-indian-institute-of-technology-madras/dakshina-transliteration' target=\"_blank\">https://wandb.ai/mm21b010-indian-institute-of-technology-madras/dakshina-transliteration</a><br>Synced 5 W&B file(s), 0 media file(s), 0 artifact file(s) and 0 other file(s)"
      ],
      "text/plain": [
       "<IPython.core.display.HTML object>"
      ]
     },
     "metadata": {},
     "output_type": "display_data"
    },
    {
     "data": {
      "text/html": [
       "Find logs at: <code>./wandb/run-20250517_142330-zrt770p9/logs</code>"
      ],
      "text/plain": [
       "<IPython.core.display.HTML object>"
      ]
     },
     "metadata": {},
     "output_type": "display_data"
    },
    {
     "name": "stderr",
     "output_type": "stream",
     "text": [
      "\u001b[34m\u001b[1mwandb\u001b[0m: Agent Starting Run: m1h5h9t0 with config:\n",
      "\u001b[34m\u001b[1mwandb\u001b[0m: \tcell_type: LSTM\n",
      "\u001b[34m\u001b[1mwandb\u001b[0m: \tdropout: 0.2\n",
      "\u001b[34m\u001b[1mwandb\u001b[0m: \tembedding_dim: 16\n",
      "\u001b[34m\u001b[1mwandb\u001b[0m: \tencoder_layers: 1\n",
      "\u001b[34m\u001b[1mwandb\u001b[0m: \tepochs: 10\n",
      "\u001b[34m\u001b[1mwandb\u001b[0m: \thidden_size: 32\n"
     ]
    },
    {
     "data": {
      "text/html": [
       "Tracking run with wandb version 0.19.9"
      ],
      "text/plain": [
       "<IPython.core.display.HTML object>"
      ]
     },
     "metadata": {},
     "output_type": "display_data"
    },
    {
     "data": {
      "text/html": [
       "Run data is saved locally in <code>/kaggle/working/wandb/run-20250517_142834-m1h5h9t0</code>"
      ],
      "text/plain": [
       "<IPython.core.display.HTML object>"
      ]
     },
     "metadata": {},
     "output_type": "display_data"
    },
    {
     "data": {
      "text/html": [
       "Syncing run <strong><a href='https://wandb.ai/mm21b010-indian-institute-of-technology-madras/dakshina-transliteration/runs/m1h5h9t0' target=\"_blank\">comfy-sweep-13</a></strong> to <a href='https://wandb.ai/mm21b010-indian-institute-of-technology-madras/dakshina-transliteration' target=\"_blank\">Weights & Biases</a> (<a href='https://wandb.me/developer-guide' target=\"_blank\">docs</a>)<br>Sweep page: <a href='https://wandb.ai/mm21b010-indian-institute-of-technology-madras/dakshina-transliteration/sweeps/cf5zp1w4' target=\"_blank\">https://wandb.ai/mm21b010-indian-institute-of-technology-madras/dakshina-transliteration/sweeps/cf5zp1w4</a>"
      ],
      "text/plain": [
       "<IPython.core.display.HTML object>"
      ]
     },
     "metadata": {},
     "output_type": "display_data"
    },
    {
     "data": {
      "text/html": [
       " View project at <a href='https://wandb.ai/mm21b010-indian-institute-of-technology-madras/dakshina-transliteration' target=\"_blank\">https://wandb.ai/mm21b010-indian-institute-of-technology-madras/dakshina-transliteration</a>"
      ],
      "text/plain": [
       "<IPython.core.display.HTML object>"
      ]
     },
     "metadata": {},
     "output_type": "display_data"
    },
    {
     "data": {
      "text/html": [
       " View sweep at <a href='https://wandb.ai/mm21b010-indian-institute-of-technology-madras/dakshina-transliteration/sweeps/cf5zp1w4' target=\"_blank\">https://wandb.ai/mm21b010-indian-institute-of-technology-madras/dakshina-transliteration/sweeps/cf5zp1w4</a>"
      ],
      "text/plain": [
       "<IPython.core.display.HTML object>"
      ]
     },
     "metadata": {},
     "output_type": "display_data"
    },
    {
     "data": {
      "text/html": [
       " View run at <a href='https://wandb.ai/mm21b010-indian-institute-of-technology-madras/dakshina-transliteration/runs/m1h5h9t0' target=\"_blank\">https://wandb.ai/mm21b010-indian-institute-of-technology-madras/dakshina-transliteration/runs/m1h5h9t0</a>"
      ],
      "text/plain": [
       "<IPython.core.display.HTML object>"
      ]
     },
     "metadata": {},
     "output_type": "display_data"
    },
    {
     "name": "stderr",
     "output_type": "stream",
     "text": [
      "Epoch 1: 100%|██████████| 1382/1382 [00:55<00:00, 24.68it/s, acc=0.243, loss=2.88]\n",
      "Epoch 2: 100%|██████████| 1382/1382 [00:55<00:00, 24.70it/s, acc=0.246, loss=2.73]\n",
      "Epoch 3: 100%|██████████| 1382/1382 [00:56<00:00, 24.65it/s, acc=0.306, loss=2.53]\n",
      "Epoch 4:  51%|█████     | 702/1382 [00:28<00:27, 24.51it/s, acc=0.304, loss=2.6] "
     ]
    }
   ],
   "source": [
    "# login only once at the start of notebook\n",
    "wandb.login(key=\"011c3a6cd3743b4b10442ed458038feb25f78ad6\")\n",
    "\n",
    "# create sweep\n",
    "sweep_id = wandb.sweep(sweep_config, project='dakshina-transliteration')\n",
    "\n",
    "# launch agents (single or multiple)\n",
    "wandb.agent(sweep_id, function=train, count=40)  # change count as needed"
   ]
  },
  {
   "cell_type": "code",
   "execution_count": null,
   "metadata": {
    "execution": {
     "execution_failed": "2025-05-17T18:06:57.374Z"
    },
    "trusted": true
   },
   "outputs": [],
   "source": [
    "wandb.finish()"
   ]
  },
  {
   "cell_type": "code",
   "execution_count": 7,
   "metadata": {
    "execution": {
     "iopub.execute_input": "2025-05-19T10:42:35.704501Z",
     "iopub.status.busy": "2025-05-19T10:42:35.704080Z",
     "iopub.status.idle": "2025-05-19T10:42:35.709136Z",
     "shell.execute_reply": "2025-05-19T10:42:35.708449Z",
     "shell.execute_reply.started": "2025-05-19T10:42:35.704480Z"
    },
    "trusted": true
   },
   "outputs": [],
   "source": [
    "sweep_config = {\n",
    "    'method': 'random',  # or 'grid' or 'bayes'\n",
    "    'metric': {\n",
    "        'name': 'val_loss',\n",
    "        'goal': 'minimize'\n",
    "    },\n",
    "    'parameters': {\n",
    "        'embedding_dim': {\n",
    "            'values': [16, 32]\n",
    "        },\n",
    "        'epochs': {\n",
    "            'values': [10]\n",
    "        },\n",
    "        'hidden_size': {\n",
    "            'values': [64, 256]\n",
    "        },\n",
    "        'encoder_layers': {\n",
    "            'values': [2, 3]\n",
    "        },\n",
    "        # 'decoder_layers': {\n",
    "        #     'values': [1, 2, 3]\n",
    "        # },\n",
    "        # 'num_layers': {'values': [1, 2, 3]},\n",
    "        'cell_type': {\n",
    "            'values': ['GRU', 'LSTM']\n",
    "        },\n",
    "        'dropout': {\n",
    "            'values': [0.24, 0.31]\n",
    "        }\n",
    "    }\n",
    "}"
   ]
  },
  {
   "cell_type": "code",
   "execution_count": null,
   "metadata": {
    "execution": {
     "iopub.execute_input": "2025-05-19T10:42:49.407551Z",
     "iopub.status.busy": "2025-05-19T10:42:49.407293Z"
    },
    "trusted": true
   },
   "outputs": [
    {
     "name": "stderr",
     "output_type": "stream",
     "text": [
      "\u001b[34m\u001b[1mwandb\u001b[0m: Using wandb-core as the SDK backend.  Please refer to https://wandb.me/wandb-core for more information.\n",
      "\u001b[34m\u001b[1mwandb\u001b[0m: \u001b[33mWARNING\u001b[0m If you're specifying your api key in code, ensure this code is not shared publicly.\n",
      "\u001b[34m\u001b[1mwandb\u001b[0m: \u001b[33mWARNING\u001b[0m Consider setting the WANDB_API_KEY environment variable, or running `wandb login` from the command line.\n",
      "\u001b[34m\u001b[1mwandb\u001b[0m: No netrc file found, creating one.\n",
      "\u001b[34m\u001b[1mwandb\u001b[0m: Appending key for api.wandb.ai to your netrc file: /root/.netrc\n",
      "\u001b[34m\u001b[1mwandb\u001b[0m: Currently logged in as: \u001b[33mmm21b010\u001b[0m (\u001b[33mmm21b010-indian-institute-of-technology-madras\u001b[0m) to \u001b[32mhttps://api.wandb.ai\u001b[0m. Use \u001b[1m`wandb login --relogin`\u001b[0m to force relogin\n"
     ]
    },
    {
     "name": "stdout",
     "output_type": "stream",
     "text": [
      "Create sweep with ID: 76v8usa3\n",
      "Sweep URL: https://wandb.ai/mm21b010-indian-institute-of-technology-madras/dakshina-transliteration/sweeps/76v8usa3\n"
     ]
    },
    {
     "name": "stderr",
     "output_type": "stream",
     "text": [
      "\u001b[34m\u001b[1mwandb\u001b[0m: Agent Starting Run: a9ptnb8a with config:\n",
      "\u001b[34m\u001b[1mwandb\u001b[0m: \tcell_type: GRU\n",
      "\u001b[34m\u001b[1mwandb\u001b[0m: \tdropout: 0.31\n",
      "\u001b[34m\u001b[1mwandb\u001b[0m: \tembedding_dim: 16\n",
      "\u001b[34m\u001b[1mwandb\u001b[0m: \tencoder_layers: 3\n",
      "\u001b[34m\u001b[1mwandb\u001b[0m: \tepochs: 10\n",
      "\u001b[34m\u001b[1mwandb\u001b[0m: \thidden_size: 64\n"
     ]
    },
    {
     "data": {
      "text/html": [
       "Tracking run with wandb version 0.19.9"
      ],
      "text/plain": [
       "<IPython.core.display.HTML object>"
      ]
     },
     "metadata": {},
     "output_type": "display_data"
    },
    {
     "data": {
      "text/html": [
       "Run data is saved locally in <code>/kaggle/working/wandb/run-20250519_104302-a9ptnb8a</code>"
      ],
      "text/plain": [
       "<IPython.core.display.HTML object>"
      ]
     },
     "metadata": {},
     "output_type": "display_data"
    },
    {
     "data": {
      "text/html": [
       "Syncing run <strong><a href='https://wandb.ai/mm21b010-indian-institute-of-technology-madras/dakshina-transliteration/runs/a9ptnb8a' target=\"_blank\">volcanic-sweep-1</a></strong> to <a href='https://wandb.ai/mm21b010-indian-institute-of-technology-madras/dakshina-transliteration' target=\"_blank\">Weights & Biases</a> (<a href='https://wandb.me/developer-guide' target=\"_blank\">docs</a>)<br>Sweep page: <a href='https://wandb.ai/mm21b010-indian-institute-of-technology-madras/dakshina-transliteration/sweeps/76v8usa3' target=\"_blank\">https://wandb.ai/mm21b010-indian-institute-of-technology-madras/dakshina-transliteration/sweeps/76v8usa3</a>"
      ],
      "text/plain": [
       "<IPython.core.display.HTML object>"
      ]
     },
     "metadata": {},
     "output_type": "display_data"
    },
    {
     "data": {
      "text/html": [
       " View project at <a href='https://wandb.ai/mm21b010-indian-institute-of-technology-madras/dakshina-transliteration' target=\"_blank\">https://wandb.ai/mm21b010-indian-institute-of-technology-madras/dakshina-transliteration</a>"
      ],
      "text/plain": [
       "<IPython.core.display.HTML object>"
      ]
     },
     "metadata": {},
     "output_type": "display_data"
    },
    {
     "data": {
      "text/html": [
       " View sweep at <a href='https://wandb.ai/mm21b010-indian-institute-of-technology-madras/dakshina-transliteration/sweeps/76v8usa3' target=\"_blank\">https://wandb.ai/mm21b010-indian-institute-of-technology-madras/dakshina-transliteration/sweeps/76v8usa3</a>"
      ],
      "text/plain": [
       "<IPython.core.display.HTML object>"
      ]
     },
     "metadata": {},
     "output_type": "display_data"
    },
    {
     "data": {
      "text/html": [
       " View run at <a href='https://wandb.ai/mm21b010-indian-institute-of-technology-madras/dakshina-transliteration/runs/a9ptnb8a' target=\"_blank\">https://wandb.ai/mm21b010-indian-institute-of-technology-madras/dakshina-transliteration/runs/a9ptnb8a</a>"
      ],
      "text/plain": [
       "<IPython.core.display.HTML object>"
      ]
     },
     "metadata": {},
     "output_type": "display_data"
    },
    {
     "name": "stderr",
     "output_type": "stream",
     "text": [
      "Epoch 1: 100%|██████████| 1382/1382 [01:16<00:00, 18.02it/s, acc=0.5, loss=1.91]  \n",
      "Epoch 2: 100%|██████████| 1382/1382 [01:15<00:00, 18.31it/s, acc=0.533, loss=1.47]\n",
      "Epoch 3: 100%|██████████| 1382/1382 [01:16<00:00, 18.17it/s, acc=0.594, loss=1.2] \n",
      "Epoch 4: 100%|██████████| 1382/1382 [01:15<00:00, 18.23it/s, acc=0.577, loss=1.25] \n",
      "Epoch 5: 100%|██████████| 1382/1382 [01:15<00:00, 18.26it/s, acc=0.697, loss=0.874]\n",
      "Epoch 6: 100%|██████████| 1382/1382 [01:15<00:00, 18.27it/s, acc=0.681, loss=1.05] \n",
      "Epoch 7: 100%|██████████| 1382/1382 [01:15<00:00, 18.22it/s, acc=0.597, loss=1.09] \n",
      "Epoch 8: 100%|██████████| 1382/1382 [01:15<00:00, 18.30it/s, acc=0.723, loss=0.832]\n",
      "Epoch 9: 100%|██████████| 1382/1382 [01:15<00:00, 18.25it/s, acc=0.797, loss=0.642]\n",
      "Epoch 10: 100%|██████████| 1382/1382 [01:15<00:00, 18.26it/s, acc=0.73, loss=0.766] \n"
     ]
    },
    {
     "data": {
      "text/html": [],
      "text/plain": [
       "<IPython.core.display.HTML object>"
      ]
     },
     "metadata": {},
     "output_type": "display_data"
    },
    {
     "data": {
      "text/html": [
       "<br>    <style><br>        .wandb-row {<br>            display: flex;<br>            flex-direction: row;<br>            flex-wrap: wrap;<br>            justify-content: flex-start;<br>            width: 100%;<br>        }<br>        .wandb-col {<br>            display: flex;<br>            flex-direction: column;<br>            flex-basis: 100%;<br>            flex: 1;<br>            padding: 10px;<br>        }<br>    </style><br><div class=\"wandb-row\"><div class=\"wandb-col\"><h3>Run history:</h3><br/><table class=\"wandb\"><tr><td>epoch</td><td>▁▂▃▃▄▅▆▆▇█</td></tr><tr><td>train_accuracy</td><td>▁▄▆▆▇▇▇███</td></tr><tr><td>train_loss</td><td>█▄▃▂▂▂▁▁▁▁</td></tr><tr><td>val_accuracy</td><td>▁▄▆▆▇▇████</td></tr><tr><td>val_loss</td><td>█▄▃▂▂▂▁▁▁▁</td></tr></table><br/></div><div class=\"wandb-col\"><h3>Run summary:</h3><br/><table class=\"wandb\"><tr><td>epoch</td><td>9</td></tr><tr><td>train_accuracy</td><td>0.71527</td></tr><tr><td>train_loss</td><td>0.92823</td></tr><tr><td>val_accuracy</td><td>0.74166</td></tr><tr><td>val_loss</td><td>0.85787</td></tr></table><br/></div></div>"
      ],
      "text/plain": [
       "<IPython.core.display.HTML object>"
      ]
     },
     "metadata": {},
     "output_type": "display_data"
    },
    {
     "data": {
      "text/html": [
       " View run <strong style=\"color:#cdcd00\">GRU_epochs10_emb16_hid64_enc3_dec3_do31</strong> at: <a href='https://wandb.ai/mm21b010-indian-institute-of-technology-madras/dakshina-transliteration/runs/a9ptnb8a' target=\"_blank\">https://wandb.ai/mm21b010-indian-institute-of-technology-madras/dakshina-transliteration/runs/a9ptnb8a</a><br> View project at: <a href='https://wandb.ai/mm21b010-indian-institute-of-technology-madras/dakshina-transliteration' target=\"_blank\">https://wandb.ai/mm21b010-indian-institute-of-technology-madras/dakshina-transliteration</a><br>Synced 5 W&B file(s), 0 media file(s), 0 artifact file(s) and 0 other file(s)"
      ],
      "text/plain": [
       "<IPython.core.display.HTML object>"
      ]
     },
     "metadata": {},
     "output_type": "display_data"
    },
    {
     "data": {
      "text/html": [
       "Find logs at: <code>./wandb/run-20250519_104302-a9ptnb8a/logs</code>"
      ],
      "text/plain": [
       "<IPython.core.display.HTML object>"
      ]
     },
     "metadata": {},
     "output_type": "display_data"
    },
    {
     "name": "stderr",
     "output_type": "stream",
     "text": [
      "\u001b[34m\u001b[1mwandb\u001b[0m: Agent Starting Run: hs1zvh04 with config:\n",
      "\u001b[34m\u001b[1mwandb\u001b[0m: \tcell_type: LSTM\n",
      "\u001b[34m\u001b[1mwandb\u001b[0m: \tdropout: 0.24\n",
      "\u001b[34m\u001b[1mwandb\u001b[0m: \tembedding_dim: 32\n",
      "\u001b[34m\u001b[1mwandb\u001b[0m: \tencoder_layers: 2\n",
      "\u001b[34m\u001b[1mwandb\u001b[0m: \tepochs: 10\n",
      "\u001b[34m\u001b[1mwandb\u001b[0m: \thidden_size: 256\n"
     ]
    },
    {
     "data": {
      "text/html": [
       "Tracking run with wandb version 0.19.9"
      ],
      "text/plain": [
       "<IPython.core.display.HTML object>"
      ]
     },
     "metadata": {},
     "output_type": "display_data"
    },
    {
     "data": {
      "text/html": [
       "Run data is saved locally in <code>/kaggle/working/wandb/run-20250519_105622-hs1zvh04</code>"
      ],
      "text/plain": [
       "<IPython.core.display.HTML object>"
      ]
     },
     "metadata": {},
     "output_type": "display_data"
    },
    {
     "data": {
      "text/html": [
       "Syncing run <strong><a href='https://wandb.ai/mm21b010-indian-institute-of-technology-madras/dakshina-transliteration/runs/hs1zvh04' target=\"_blank\">efficient-sweep-2</a></strong> to <a href='https://wandb.ai/mm21b010-indian-institute-of-technology-madras/dakshina-transliteration' target=\"_blank\">Weights & Biases</a> (<a href='https://wandb.me/developer-guide' target=\"_blank\">docs</a>)<br>Sweep page: <a href='https://wandb.ai/mm21b010-indian-institute-of-technology-madras/dakshina-transliteration/sweeps/76v8usa3' target=\"_blank\">https://wandb.ai/mm21b010-indian-institute-of-technology-madras/dakshina-transliteration/sweeps/76v8usa3</a>"
      ],
      "text/plain": [
       "<IPython.core.display.HTML object>"
      ]
     },
     "metadata": {},
     "output_type": "display_data"
    },
    {
     "data": {
      "text/html": [
       " View project at <a href='https://wandb.ai/mm21b010-indian-institute-of-technology-madras/dakshina-transliteration' target=\"_blank\">https://wandb.ai/mm21b010-indian-institute-of-technology-madras/dakshina-transliteration</a>"
      ],
      "text/plain": [
       "<IPython.core.display.HTML object>"
      ]
     },
     "metadata": {},
     "output_type": "display_data"
    },
    {
     "data": {
      "text/html": [
       " View sweep at <a href='https://wandb.ai/mm21b010-indian-institute-of-technology-madras/dakshina-transliteration/sweeps/76v8usa3' target=\"_blank\">https://wandb.ai/mm21b010-indian-institute-of-technology-madras/dakshina-transliteration/sweeps/76v8usa3</a>"
      ],
      "text/plain": [
       "<IPython.core.display.HTML object>"
      ]
     },
     "metadata": {},
     "output_type": "display_data"
    },
    {
     "data": {
      "text/html": [
       " View run at <a href='https://wandb.ai/mm21b010-indian-institute-of-technology-madras/dakshina-transliteration/runs/hs1zvh04' target=\"_blank\">https://wandb.ai/mm21b010-indian-institute-of-technology-madras/dakshina-transliteration/runs/hs1zvh04</a>"
      ],
      "text/plain": [
       "<IPython.core.display.HTML object>"
      ]
     },
     "metadata": {},
     "output_type": "display_data"
    },
    {
     "name": "stderr",
     "output_type": "stream",
     "text": [
      "Epoch 1: 100%|██████████| 1382/1382 [01:15<00:00, 18.30it/s, acc=0.27, loss=2.84] \n",
      "Epoch 2: 100%|██████████| 1382/1382 [01:15<00:00, 18.19it/s, acc=0.535, loss=1.4] \n",
      "Epoch 3: 100%|██████████| 1382/1382 [01:15<00:00, 18.22it/s, acc=0.676, loss=0.935]\n",
      "Epoch 4: 100%|██████████| 1382/1382 [01:16<00:00, 18.18it/s, acc=0.803, loss=0.66] \n",
      "Epoch 5: 100%|██████████| 1382/1382 [01:16<00:00, 18.15it/s, acc=0.7, loss=1.1]    \n",
      "Epoch 6: 100%|██████████| 1382/1382 [01:16<00:00, 18.18it/s, acc=0.918, loss=0.282]\n",
      "Epoch 7: 100%|██████████| 1382/1382 [01:16<00:00, 18.12it/s, acc=0.937, loss=0.217]\n",
      "Epoch 8: 100%|██████████| 1382/1382 [01:16<00:00, 18.08it/s, acc=0.812, loss=0.661]\n",
      "Epoch 9: 100%|██████████| 1382/1382 [01:16<00:00, 18.11it/s, acc=0.921, loss=0.296]\n",
      "Epoch 10: 100%|██████████| 1382/1382 [01:16<00:00, 18.11it/s, acc=0.817, loss=0.566]\n"
     ]
    },
    {
     "data": {
      "text/html": [],
      "text/plain": [
       "<IPython.core.display.HTML object>"
      ]
     },
     "metadata": {},
     "output_type": "display_data"
    },
    {
     "data": {
      "text/html": [
       "<br>    <style><br>        .wandb-row {<br>            display: flex;<br>            flex-direction: row;<br>            flex-wrap: wrap;<br>            justify-content: flex-start;<br>            width: 100%;<br>        }<br>        .wandb-col {<br>            display: flex;<br>            flex-direction: column;<br>            flex-basis: 100%;<br>            flex: 1;<br>            padding: 10px;<br>        }<br>    </style><br><div class=\"wandb-row\"><div class=\"wandb-col\"><h3>Run history:</h3><br/><table class=\"wandb\"><tr><td>epoch</td><td>▁▂▃▃▄▅▆▆▇█</td></tr><tr><td>train_accuracy</td><td>▁▃▅▆▇▇████</td></tr><tr><td>train_loss</td><td>█▆▃▂▂▂▁▁▁▁</td></tr><tr><td>val_accuracy</td><td>▁▅▇███████</td></tr><tr><td>val_loss</td><td>█▄▂▁▁▁▁▁▁▁</td></tr></table><br/></div><div class=\"wandb-col\"><h3>Run summary:</h3><br/><table class=\"wandb\"><tr><td>epoch</td><td>9</td></tr><tr><td>train_accuracy</td><td>0.88426</td></tr><tr><td>train_loss</td><td>0.38598</td></tr><tr><td>val_accuracy</td><td>0.79026</td></tr><tr><td>val_loss</td><td>0.75867</td></tr></table><br/></div></div>"
      ],
      "text/plain": [
       "<IPython.core.display.HTML object>"
      ]
     },
     "metadata": {},
     "output_type": "display_data"
    },
    {
     "data": {
      "text/html": [
       " View run <strong style=\"color:#cdcd00\">LSTM_epochs10_emb32_hid256_enc2_dec2_do24</strong> at: <a href='https://wandb.ai/mm21b010-indian-institute-of-technology-madras/dakshina-transliteration/runs/hs1zvh04' target=\"_blank\">https://wandb.ai/mm21b010-indian-institute-of-technology-madras/dakshina-transliteration/runs/hs1zvh04</a><br> View project at: <a href='https://wandb.ai/mm21b010-indian-institute-of-technology-madras/dakshina-transliteration' target=\"_blank\">https://wandb.ai/mm21b010-indian-institute-of-technology-madras/dakshina-transliteration</a><br>Synced 5 W&B file(s), 0 media file(s), 0 artifact file(s) and 0 other file(s)"
      ],
      "text/plain": [
       "<IPython.core.display.HTML object>"
      ]
     },
     "metadata": {},
     "output_type": "display_data"
    },
    {
     "data": {
      "text/html": [
       "Find logs at: <code>./wandb/run-20250519_105622-hs1zvh04/logs</code>"
      ],
      "text/plain": [
       "<IPython.core.display.HTML object>"
      ]
     },
     "metadata": {},
     "output_type": "display_data"
    },
    {
     "name": "stderr",
     "output_type": "stream",
     "text": [
      "\u001b[34m\u001b[1mwandb\u001b[0m: Sweep Agent: Waiting for job.\n",
      "\u001b[34m\u001b[1mwandb\u001b[0m: Job received.\n",
      "\u001b[34m\u001b[1mwandb\u001b[0m: Agent Starting Run: est2leij with config:\n",
      "\u001b[34m\u001b[1mwandb\u001b[0m: \tcell_type: LSTM\n",
      "\u001b[34m\u001b[1mwandb\u001b[0m: \tdropout: 0.24\n",
      "\u001b[34m\u001b[1mwandb\u001b[0m: \tembedding_dim: 16\n",
      "\u001b[34m\u001b[1mwandb\u001b[0m: \tencoder_layers: 3\n",
      "\u001b[34m\u001b[1mwandb\u001b[0m: \tepochs: 10\n",
      "\u001b[34m\u001b[1mwandb\u001b[0m: \thidden_size: 256\n"
     ]
    },
    {
     "data": {
      "text/html": [
       "Tracking run with wandb version 0.19.9"
      ],
      "text/plain": [
       "<IPython.core.display.HTML object>"
      ]
     },
     "metadata": {},
     "output_type": "display_data"
    },
    {
     "data": {
      "text/html": [
       "Run data is saved locally in <code>/kaggle/working/wandb/run-20250519_110947-est2leij</code>"
      ],
      "text/plain": [
       "<IPython.core.display.HTML object>"
      ]
     },
     "metadata": {},
     "output_type": "display_data"
    },
    {
     "data": {
      "text/html": [
       "Syncing run <strong><a href='https://wandb.ai/mm21b010-indian-institute-of-technology-madras/dakshina-transliteration/runs/est2leij' target=\"_blank\">skilled-sweep-3</a></strong> to <a href='https://wandb.ai/mm21b010-indian-institute-of-technology-madras/dakshina-transliteration' target=\"_blank\">Weights & Biases</a> (<a href='https://wandb.me/developer-guide' target=\"_blank\">docs</a>)<br>Sweep page: <a href='https://wandb.ai/mm21b010-indian-institute-of-technology-madras/dakshina-transliteration/sweeps/76v8usa3' target=\"_blank\">https://wandb.ai/mm21b010-indian-institute-of-technology-madras/dakshina-transliteration/sweeps/76v8usa3</a>"
      ],
      "text/plain": [
       "<IPython.core.display.HTML object>"
      ]
     },
     "metadata": {},
     "output_type": "display_data"
    },
    {
     "data": {
      "text/html": [
       " View project at <a href='https://wandb.ai/mm21b010-indian-institute-of-technology-madras/dakshina-transliteration' target=\"_blank\">https://wandb.ai/mm21b010-indian-institute-of-technology-madras/dakshina-transliteration</a>"
      ],
      "text/plain": [
       "<IPython.core.display.HTML object>"
      ]
     },
     "metadata": {},
     "output_type": "display_data"
    },
    {
     "data": {
      "text/html": [
       " View sweep at <a href='https://wandb.ai/mm21b010-indian-institute-of-technology-madras/dakshina-transliteration/sweeps/76v8usa3' target=\"_blank\">https://wandb.ai/mm21b010-indian-institute-of-technology-madras/dakshina-transliteration/sweeps/76v8usa3</a>"
      ],
      "text/plain": [
       "<IPython.core.display.HTML object>"
      ]
     },
     "metadata": {},
     "output_type": "display_data"
    },
    {
     "data": {
      "text/html": [
       " View run at <a href='https://wandb.ai/mm21b010-indian-institute-of-technology-madras/dakshina-transliteration/runs/est2leij' target=\"_blank\">https://wandb.ai/mm21b010-indian-institute-of-technology-madras/dakshina-transliteration/runs/est2leij</a>"
      ],
      "text/plain": [
       "<IPython.core.display.HTML object>"
      ]
     },
     "metadata": {},
     "output_type": "display_data"
    },
    {
     "name": "stderr",
     "output_type": "stream",
     "text": [
      "Epoch 1: 100%|██████████| 1382/1382 [01:31<00:00, 15.13it/s, acc=0.362, loss=2.47]\n",
      "Epoch 2: 100%|██████████| 1382/1382 [01:31<00:00, 15.10it/s, acc=0.411, loss=2.18]\n",
      "Epoch 3: 100%|██████████| 1382/1382 [01:31<00:00, 15.09it/s, acc=0.462, loss=1.79]\n",
      "Epoch 4: 100%|██████████| 1382/1382 [01:31<00:00, 15.06it/s, acc=0.474, loss=1.57]\n",
      "Epoch 5: 100%|██████████| 1382/1382 [01:31<00:00, 15.04it/s, acc=0.654, loss=1.23] \n",
      "Epoch 6: 100%|██████████| 1382/1382 [01:35<00:00, 14.49it/s, acc=0.753, loss=0.89] \n",
      "Epoch 7: 100%|██████████| 1382/1382 [01:41<00:00, 13.58it/s, acc=0.772, loss=0.753]\n",
      "Epoch 8: 100%|██████████| 1382/1382 [01:41<00:00, 13.57it/s, acc=0.819, loss=0.557]\n",
      "Epoch 9: 100%|██████████| 1382/1382 [01:42<00:00, 13.43it/s, acc=0.77, loss=0.784] \n",
      "Epoch 10: 100%|██████████| 1382/1382 [01:41<00:00, 13.58it/s, acc=0.87, loss=0.54]  \n"
     ]
    },
    {
     "data": {
      "text/html": [],
      "text/plain": [
       "<IPython.core.display.HTML object>"
      ]
     },
     "metadata": {},
     "output_type": "display_data"
    },
    {
     "data": {
      "text/html": [
       "<br>    <style><br>        .wandb-row {<br>            display: flex;<br>            flex-direction: row;<br>            flex-wrap: wrap;<br>            justify-content: flex-start;<br>            width: 100%;<br>        }<br>        .wandb-col {<br>            display: flex;<br>            flex-direction: column;<br>            flex-basis: 100%;<br>            flex: 1;<br>            padding: 10px;<br>        }<br>    </style><br><div class=\"wandb-row\"><div class=\"wandb-col\"><h3>Run history:</h3><br/><table class=\"wandb\"><tr><td>epoch</td><td>▁▂▃▃▄▅▆▆▇█</td></tr><tr><td>train_accuracy</td><td>▁▃▄▅▆▇▇▇██</td></tr><tr><td>train_loss</td><td>█▆▅▄▃▂▂▁▁▁</td></tr><tr><td>val_accuracy</td><td>▁▃▄▅▆▇▇███</td></tr><tr><td>val_loss</td><td>█▆▅▄▂▂▂▁▁▁</td></tr></table><br/></div><div class=\"wandb-col\"><h3>Run summary:</h3><br/><table class=\"wandb\"><tr><td>epoch</td><td>9</td></tr><tr><td>train_accuracy</td><td>0.80793</td></tr><tr><td>train_loss</td><td>0.64018</td></tr><tr><td>val_accuracy</td><td>0.76633</td></tr><tr><td>val_loss</td><td>0.7943</td></tr></table><br/></div></div>"
      ],
      "text/plain": [
       "<IPython.core.display.HTML object>"
      ]
     },
     "metadata": {},
     "output_type": "display_data"
    },
    {
     "data": {
      "text/html": [
       " View run <strong style=\"color:#cdcd00\">LSTM_epochs10_emb16_hid256_enc3_dec3_do24</strong> at: <a href='https://wandb.ai/mm21b010-indian-institute-of-technology-madras/dakshina-transliteration/runs/est2leij' target=\"_blank\">https://wandb.ai/mm21b010-indian-institute-of-technology-madras/dakshina-transliteration/runs/est2leij</a><br> View project at: <a href='https://wandb.ai/mm21b010-indian-institute-of-technology-madras/dakshina-transliteration' target=\"_blank\">https://wandb.ai/mm21b010-indian-institute-of-technology-madras/dakshina-transliteration</a><br>Synced 5 W&B file(s), 0 media file(s), 0 artifact file(s) and 0 other file(s)"
      ],
      "text/plain": [
       "<IPython.core.display.HTML object>"
      ]
     },
     "metadata": {},
     "output_type": "display_data"
    },
    {
     "data": {
      "text/html": [
       "Find logs at: <code>./wandb/run-20250519_110947-est2leij/logs</code>"
      ],
      "text/plain": [
       "<IPython.core.display.HTML object>"
      ]
     },
     "metadata": {},
     "output_type": "display_data"
    },
    {
     "name": "stderr",
     "output_type": "stream",
     "text": [
      "\u001b[34m\u001b[1mwandb\u001b[0m: Agent Starting Run: drvwsgy5 with config:\n",
      "\u001b[34m\u001b[1mwandb\u001b[0m: \tcell_type: GRU\n",
      "\u001b[34m\u001b[1mwandb\u001b[0m: \tdropout: 0.31\n",
      "\u001b[34m\u001b[1mwandb\u001b[0m: \tembedding_dim: 32\n",
      "\u001b[34m\u001b[1mwandb\u001b[0m: \tencoder_layers: 2\n",
      "\u001b[34m\u001b[1mwandb\u001b[0m: \tepochs: 10\n",
      "\u001b[34m\u001b[1mwandb\u001b[0m: \thidden_size: 64\n"
     ]
    },
    {
     "data": {
      "text/html": [
       "Tracking run with wandb version 0.19.9"
      ],
      "text/plain": [
       "<IPython.core.display.HTML object>"
      ]
     },
     "metadata": {},
     "output_type": "display_data"
    },
    {
     "data": {
      "text/html": [
       "Run data is saved locally in <code>/kaggle/working/wandb/run-20250519_112629-drvwsgy5</code>"
      ],
      "text/plain": [
       "<IPython.core.display.HTML object>"
      ]
     },
     "metadata": {},
     "output_type": "display_data"
    },
    {
     "data": {
      "text/html": [
       "Syncing run <strong><a href='https://wandb.ai/mm21b010-indian-institute-of-technology-madras/dakshina-transliteration/runs/drvwsgy5' target=\"_blank\">wobbly-sweep-4</a></strong> to <a href='https://wandb.ai/mm21b010-indian-institute-of-technology-madras/dakshina-transliteration' target=\"_blank\">Weights & Biases</a> (<a href='https://wandb.me/developer-guide' target=\"_blank\">docs</a>)<br>Sweep page: <a href='https://wandb.ai/mm21b010-indian-institute-of-technology-madras/dakshina-transliteration/sweeps/76v8usa3' target=\"_blank\">https://wandb.ai/mm21b010-indian-institute-of-technology-madras/dakshina-transliteration/sweeps/76v8usa3</a>"
      ],
      "text/plain": [
       "<IPython.core.display.HTML object>"
      ]
     },
     "metadata": {},
     "output_type": "display_data"
    },
    {
     "data": {
      "text/html": [
       " View project at <a href='https://wandb.ai/mm21b010-indian-institute-of-technology-madras/dakshina-transliteration' target=\"_blank\">https://wandb.ai/mm21b010-indian-institute-of-technology-madras/dakshina-transliteration</a>"
      ],
      "text/plain": [
       "<IPython.core.display.HTML object>"
      ]
     },
     "metadata": {},
     "output_type": "display_data"
    },
    {
     "data": {
      "text/html": [
       " View sweep at <a href='https://wandb.ai/mm21b010-indian-institute-of-technology-madras/dakshina-transliteration/sweeps/76v8usa3' target=\"_blank\">https://wandb.ai/mm21b010-indian-institute-of-technology-madras/dakshina-transliteration/sweeps/76v8usa3</a>"
      ],
      "text/plain": [
       "<IPython.core.display.HTML object>"
      ]
     },
     "metadata": {},
     "output_type": "display_data"
    },
    {
     "data": {
      "text/html": [
       " View run at <a href='https://wandb.ai/mm21b010-indian-institute-of-technology-madras/dakshina-transliteration/runs/drvwsgy5' target=\"_blank\">https://wandb.ai/mm21b010-indian-institute-of-technology-madras/dakshina-transliteration/runs/drvwsgy5</a>"
      ],
      "text/plain": [
       "<IPython.core.display.HTML object>"
      ]
     },
     "metadata": {},
     "output_type": "display_data"
    },
    {
     "name": "stderr",
     "output_type": "stream",
     "text": [
      "Epoch 1: 100%|██████████| 1382/1382 [01:07<00:00, 20.46it/s, acc=0.325, loss=2.49]\n",
      "Epoch 2: 100%|██████████| 1382/1382 [01:07<00:00, 20.49it/s, acc=0.494, loss=1.82]\n",
      "Epoch 3: 100%|██████████| 1382/1382 [01:07<00:00, 20.44it/s, acc=0.506, loss=1.92]\n",
      "Epoch 4: 100%|██████████| 1382/1382 [01:07<00:00, 20.44it/s, acc=0.627, loss=1.15]\n",
      "Epoch 5: 100%|██████████| 1382/1382 [01:07<00:00, 20.54it/s, acc=0.486, loss=1.3]  \n",
      "Epoch 6: 100%|██████████| 1382/1382 [01:07<00:00, 20.51it/s, acc=0.585, loss=1.26] \n",
      "Epoch 7: 100%|██████████| 1382/1382 [01:07<00:00, 20.37it/s, acc=0.493, loss=1.5]  \n",
      "Epoch 8: 100%|██████████| 1382/1382 [01:07<00:00, 20.43it/s, acc=0.667, loss=1.2]  \n",
      "Epoch 9: 100%|██████████| 1382/1382 [01:07<00:00, 20.33it/s, acc=0.667, loss=1.15] \n",
      "Epoch 10: 100%|██████████| 1382/1382 [01:06<00:00, 20.64it/s, acc=0.676, loss=1.03] \n"
     ]
    },
    {
     "data": {
      "text/html": [],
      "text/plain": [
       "<IPython.core.display.HTML object>"
      ]
     },
     "metadata": {},
     "output_type": "display_data"
    },
    {
     "data": {
      "text/html": [
       "<br>    <style><br>        .wandb-row {<br>            display: flex;<br>            flex-direction: row;<br>            flex-wrap: wrap;<br>            justify-content: flex-start;<br>            width: 100%;<br>        }<br>        .wandb-col {<br>            display: flex;<br>            flex-direction: column;<br>            flex-basis: 100%;<br>            flex: 1;<br>            padding: 10px;<br>        }<br>    </style><br><div class=\"wandb-row\"><div class=\"wandb-col\"><h3>Run history:</h3><br/><table class=\"wandb\"><tr><td>epoch</td><td>▁▂▃▃▄▅▆▆▇█</td></tr><tr><td>train_accuracy</td><td>▁▃▅▆▆▇▇▇██</td></tr><tr><td>train_loss</td><td>█▅▄▃▃▂▂▁▁▁</td></tr><tr><td>val_accuracy</td><td>▁▃▅▆▆▇▇███</td></tr><tr><td>val_loss</td><td>█▅▄▃▂▂▂▁▁▁</td></tr></table><br/></div><div class=\"wandb-col\"><h3>Run summary:</h3><br/><table class=\"wandb\"><tr><td>epoch</td><td>9</td></tr><tr><td>train_accuracy</td><td>0.67564</td></tr><tr><td>train_loss</td><td>1.07187</td></tr><tr><td>val_accuracy</td><td>0.68381</td></tr><tr><td>val_loss</td><td>1.05246</td></tr></table><br/></div></div>"
      ],
      "text/plain": [
       "<IPython.core.display.HTML object>"
      ]
     },
     "metadata": {},
     "output_type": "display_data"
    },
    {
     "data": {
      "text/html": [
       " View run <strong style=\"color:#cdcd00\">GRU_epochs10_emb32_hid64_enc2_dec2_do31</strong> at: <a href='https://wandb.ai/mm21b010-indian-institute-of-technology-madras/dakshina-transliteration/runs/drvwsgy5' target=\"_blank\">https://wandb.ai/mm21b010-indian-institute-of-technology-madras/dakshina-transliteration/runs/drvwsgy5</a><br> View project at: <a href='https://wandb.ai/mm21b010-indian-institute-of-technology-madras/dakshina-transliteration' target=\"_blank\">https://wandb.ai/mm21b010-indian-institute-of-technology-madras/dakshina-transliteration</a><br>Synced 5 W&B file(s), 0 media file(s), 0 artifact file(s) and 0 other file(s)"
      ],
      "text/plain": [
       "<IPython.core.display.HTML object>"
      ]
     },
     "metadata": {},
     "output_type": "display_data"
    },
    {
     "data": {
      "text/html": [
       "Find logs at: <code>./wandb/run-20250519_112629-drvwsgy5/logs</code>"
      ],
      "text/plain": [
       "<IPython.core.display.HTML object>"
      ]
     },
     "metadata": {},
     "output_type": "display_data"
    },
    {
     "name": "stderr",
     "output_type": "stream",
     "text": [
      "\u001b[34m\u001b[1mwandb\u001b[0m: Agent Starting Run: mm4h1vlz with config:\n",
      "\u001b[34m\u001b[1mwandb\u001b[0m: \tcell_type: LSTM\n",
      "\u001b[34m\u001b[1mwandb\u001b[0m: \tdropout: 0.24\n",
      "\u001b[34m\u001b[1mwandb\u001b[0m: \tembedding_dim: 16\n",
      "\u001b[34m\u001b[1mwandb\u001b[0m: \tencoder_layers: 3\n",
      "\u001b[34m\u001b[1mwandb\u001b[0m: \tepochs: 10\n",
      "\u001b[34m\u001b[1mwandb\u001b[0m: \thidden_size: 64\n"
     ]
    },
    {
     "data": {
      "text/html": [
       "Tracking run with wandb version 0.19.9"
      ],
      "text/plain": [
       "<IPython.core.display.HTML object>"
      ]
     },
     "metadata": {},
     "output_type": "display_data"
    },
    {
     "data": {
      "text/html": [
       "Run data is saved locally in <code>/kaggle/working/wandb/run-20250519_113819-mm4h1vlz</code>"
      ],
      "text/plain": [
       "<IPython.core.display.HTML object>"
      ]
     },
     "metadata": {},
     "output_type": "display_data"
    },
    {
     "data": {
      "text/html": [
       "Syncing run <strong><a href='https://wandb.ai/mm21b010-indian-institute-of-technology-madras/dakshina-transliteration/runs/mm4h1vlz' target=\"_blank\">balmy-sweep-5</a></strong> to <a href='https://wandb.ai/mm21b010-indian-institute-of-technology-madras/dakshina-transliteration' target=\"_blank\">Weights & Biases</a> (<a href='https://wandb.me/developer-guide' target=\"_blank\">docs</a>)<br>Sweep page: <a href='https://wandb.ai/mm21b010-indian-institute-of-technology-madras/dakshina-transliteration/sweeps/76v8usa3' target=\"_blank\">https://wandb.ai/mm21b010-indian-institute-of-technology-madras/dakshina-transliteration/sweeps/76v8usa3</a>"
      ],
      "text/plain": [
       "<IPython.core.display.HTML object>"
      ]
     },
     "metadata": {},
     "output_type": "display_data"
    },
    {
     "data": {
      "text/html": [
       " View project at <a href='https://wandb.ai/mm21b010-indian-institute-of-technology-madras/dakshina-transliteration' target=\"_blank\">https://wandb.ai/mm21b010-indian-institute-of-technology-madras/dakshina-transliteration</a>"
      ],
      "text/plain": [
       "<IPython.core.display.HTML object>"
      ]
     },
     "metadata": {},
     "output_type": "display_data"
    },
    {
     "data": {
      "text/html": [
       " View sweep at <a href='https://wandb.ai/mm21b010-indian-institute-of-technology-madras/dakshina-transliteration/sweeps/76v8usa3' target=\"_blank\">https://wandb.ai/mm21b010-indian-institute-of-technology-madras/dakshina-transliteration/sweeps/76v8usa3</a>"
      ],
      "text/plain": [
       "<IPython.core.display.HTML object>"
      ]
     },
     "metadata": {},
     "output_type": "display_data"
    },
    {
     "data": {
      "text/html": [
       " View run at <a href='https://wandb.ai/mm21b010-indian-institute-of-technology-madras/dakshina-transliteration/runs/mm4h1vlz' target=\"_blank\">https://wandb.ai/mm21b010-indian-institute-of-technology-madras/dakshina-transliteration/runs/mm4h1vlz</a>"
      ],
      "text/plain": [
       "<IPython.core.display.HTML object>"
      ]
     },
     "metadata": {},
     "output_type": "display_data"
    },
    {
     "name": "stderr",
     "output_type": "stream",
     "text": [
      "Epoch 1: 100%|██████████| 1382/1382 [01:26<00:00, 16.01it/s, acc=0.278, loss=2.72]\n",
      "Epoch 2: 100%|██████████| 1382/1382 [01:26<00:00, 15.96it/s, acc=0.32, loss=2.41] \n",
      "Epoch 3: 100%|██████████| 1382/1382 [01:27<00:00, 15.85it/s, acc=0.44, loss=2]    \n",
      "Epoch 4: 100%|██████████| 1382/1382 [01:29<00:00, 15.45it/s, acc=0.453, loss=1.69]\n",
      "Epoch 5: 100%|██████████| 1382/1382 [01:28<00:00, 15.53it/s, acc=0.543, loss=1.66]\n",
      "Epoch 6: 100%|██████████| 1382/1382 [01:29<00:00, 15.45it/s, acc=0.651, loss=1.05] \n",
      "Epoch 7: 100%|██████████| 1382/1382 [01:28<00:00, 15.58it/s, acc=0.692, loss=0.965]\n",
      "Epoch 8: 100%|██████████| 1382/1382 [01:28<00:00, 15.59it/s, acc=0.654, loss=1.02] \n",
      "Epoch 9: 100%|██████████| 1382/1382 [01:28<00:00, 15.55it/s, acc=0.77, loss=0.814] \n",
      "Epoch 10: 100%|██████████| 1382/1382 [01:28<00:00, 15.60it/s, acc=0.574, loss=1.51] \n"
     ]
    },
    {
     "data": {
      "text/html": [],
      "text/plain": [
       "<IPython.core.display.HTML object>"
      ]
     },
     "metadata": {},
     "output_type": "display_data"
    },
    {
     "data": {
      "text/html": [
       "<br>    <style><br>        .wandb-row {<br>            display: flex;<br>            flex-direction: row;<br>            flex-wrap: wrap;<br>            justify-content: flex-start;<br>            width: 100%;<br>        }<br>        .wandb-col {<br>            display: flex;<br>            flex-direction: column;<br>            flex-basis: 100%;<br>            flex: 1;<br>            padding: 10px;<br>        }<br>    </style><br><div class=\"wandb-row\"><div class=\"wandb-col\"><h3>Run history:</h3><br/><table class=\"wandb\"><tr><td>epoch</td><td>▁▂▃▃▄▅▆▆▇█</td></tr><tr><td>train_accuracy</td><td>▁▂▄▅▆▇▇███</td></tr><tr><td>train_loss</td><td>█▇▅▄▃▂▂▁▁▁</td></tr><tr><td>val_accuracy</td><td>▁▂▄▆▇▇████</td></tr><tr><td>val_loss</td><td>█▆▄▃▂▂▁▁▁▁</td></tr></table><br/></div><div class=\"wandb-col\"><h3>Run summary:</h3><br/><table class=\"wandb\"><tr><td>epoch</td><td>9</td></tr><tr><td>train_accuracy</td><td>0.70017</td></tr><tr><td>train_loss</td><td>1.00108</td></tr><tr><td>val_accuracy</td><td>0.7165</td></tr><tr><td>val_loss</td><td>0.9569</td></tr></table><br/></div></div>"
      ],
      "text/plain": [
       "<IPython.core.display.HTML object>"
      ]
     },
     "metadata": {},
     "output_type": "display_data"
    },
    {
     "data": {
      "text/html": [
       " View run <strong style=\"color:#cdcd00\">LSTM_epochs10_emb16_hid64_enc3_dec3_do24</strong> at: <a href='https://wandb.ai/mm21b010-indian-institute-of-technology-madras/dakshina-transliteration/runs/mm4h1vlz' target=\"_blank\">https://wandb.ai/mm21b010-indian-institute-of-technology-madras/dakshina-transliteration/runs/mm4h1vlz</a><br> View project at: <a href='https://wandb.ai/mm21b010-indian-institute-of-technology-madras/dakshina-transliteration' target=\"_blank\">https://wandb.ai/mm21b010-indian-institute-of-technology-madras/dakshina-transliteration</a><br>Synced 5 W&B file(s), 0 media file(s), 0 artifact file(s) and 0 other file(s)"
      ],
      "text/plain": [
       "<IPython.core.display.HTML object>"
      ]
     },
     "metadata": {},
     "output_type": "display_data"
    },
    {
     "data": {
      "text/html": [
       "Find logs at: <code>./wandb/run-20250519_113819-mm4h1vlz/logs</code>"
      ],
      "text/plain": [
       "<IPython.core.display.HTML object>"
      ]
     },
     "metadata": {},
     "output_type": "display_data"
    },
    {
     "name": "stderr",
     "output_type": "stream",
     "text": [
      "\u001b[34m\u001b[1mwandb\u001b[0m: Sweep Agent: Waiting for job.\n",
      "\u001b[34m\u001b[1mwandb\u001b[0m: Job received.\n",
      "\u001b[34m\u001b[1mwandb\u001b[0m: Agent Starting Run: itc44axd with config:\n",
      "\u001b[34m\u001b[1mwandb\u001b[0m: \tcell_type: LSTM\n",
      "\u001b[34m\u001b[1mwandb\u001b[0m: \tdropout: 0.24\n",
      "\u001b[34m\u001b[1mwandb\u001b[0m: \tembedding_dim: 32\n",
      "\u001b[34m\u001b[1mwandb\u001b[0m: \tencoder_layers: 3\n",
      "\u001b[34m\u001b[1mwandb\u001b[0m: \tepochs: 10\n",
      "\u001b[34m\u001b[1mwandb\u001b[0m: \thidden_size: 256\n"
     ]
    },
    {
     "data": {
      "text/html": [
       "Tracking run with wandb version 0.19.9"
      ],
      "text/plain": [
       "<IPython.core.display.HTML object>"
      ]
     },
     "metadata": {},
     "output_type": "display_data"
    },
    {
     "data": {
      "text/html": [
       "Run data is saved locally in <code>/kaggle/working/wandb/run-20250519_115345-itc44axd</code>"
      ],
      "text/plain": [
       "<IPython.core.display.HTML object>"
      ]
     },
     "metadata": {},
     "output_type": "display_data"
    },
    {
     "data": {
      "text/html": [
       "Syncing run <strong><a href='https://wandb.ai/mm21b010-indian-institute-of-technology-madras/dakshina-transliteration/runs/itc44axd' target=\"_blank\">swept-sweep-6</a></strong> to <a href='https://wandb.ai/mm21b010-indian-institute-of-technology-madras/dakshina-transliteration' target=\"_blank\">Weights & Biases</a> (<a href='https://wandb.me/developer-guide' target=\"_blank\">docs</a>)<br>Sweep page: <a href='https://wandb.ai/mm21b010-indian-institute-of-technology-madras/dakshina-transliteration/sweeps/76v8usa3' target=\"_blank\">https://wandb.ai/mm21b010-indian-institute-of-technology-madras/dakshina-transliteration/sweeps/76v8usa3</a>"
      ],
      "text/plain": [
       "<IPython.core.display.HTML object>"
      ]
     },
     "metadata": {},
     "output_type": "display_data"
    },
    {
     "data": {
      "text/html": [
       " View project at <a href='https://wandb.ai/mm21b010-indian-institute-of-technology-madras/dakshina-transliteration' target=\"_blank\">https://wandb.ai/mm21b010-indian-institute-of-technology-madras/dakshina-transliteration</a>"
      ],
      "text/plain": [
       "<IPython.core.display.HTML object>"
      ]
     },
     "metadata": {},
     "output_type": "display_data"
    },
    {
     "data": {
      "text/html": [
       " View sweep at <a href='https://wandb.ai/mm21b010-indian-institute-of-technology-madras/dakshina-transliteration/sweeps/76v8usa3' target=\"_blank\">https://wandb.ai/mm21b010-indian-institute-of-technology-madras/dakshina-transliteration/sweeps/76v8usa3</a>"
      ],
      "text/plain": [
       "<IPython.core.display.HTML object>"
      ]
     },
     "metadata": {},
     "output_type": "display_data"
    },
    {
     "data": {
      "text/html": [
       " View run at <a href='https://wandb.ai/mm21b010-indian-institute-of-technology-madras/dakshina-transliteration/runs/itc44axd' target=\"_blank\">https://wandb.ai/mm21b010-indian-institute-of-technology-madras/dakshina-transliteration/runs/itc44axd</a>"
      ],
      "text/plain": [
       "<IPython.core.display.HTML object>"
      ]
     },
     "metadata": {},
     "output_type": "display_data"
    },
    {
     "name": "stderr",
     "output_type": "stream",
     "text": [
      "Epoch 1: 100%|██████████| 1382/1382 [01:37<00:00, 14.10it/s, acc=0.264, loss=2.63]\n",
      "Epoch 2: 100%|██████████| 1382/1382 [01:37<00:00, 14.14it/s, acc=0.585, loss=1.46]\n",
      "Epoch 3: 100%|██████████| 1382/1382 [01:38<00:00, 14.10it/s, acc=0.45, loss=1.69]  \n",
      "Epoch 4: 100%|██████████| 1382/1382 [01:37<00:00, 14.10it/s, acc=0.695, loss=1.04] \n",
      "Epoch 5:  97%|█████████▋| 1342/1382 [01:35<00:02, 13.93it/s, acc=0.74, loss=0.873] "
     ]
    }
   ],
   "source": [
    "# login only once at the start of notebook\n",
    "wandb.login(key=\"011c3a6cd3743b4b10442ed458038feb25f78ad6\")\n",
    "\n",
    "# create sweep\n",
    "sweep_id = wandb.sweep(sweep_config, project='dakshina-transliteration')\n",
    "\n",
    "# launch agents (single or multiple)\n",
    "wandb.agent(sweep_id, function=train, count=10)  # change count as needed\n",
    "wandb.finish()"
   ]
  },
  {
   "cell_type": "markdown",
   "metadata": {},
   "source": [
    "# training the optimal model"
   ]
  },
  {
   "cell_type": "code",
   "execution_count": null,
   "metadata": {
    "execution": {
     "execution_failed": "2025-05-20T19:27:27.924Z"
    },
    "trusted": true
   },
   "outputs": [],
   "source": [
    "import torch\n",
    "import torch.nn as nn\n",
    "import torch.optim as optim\n",
    "from torch.utils.data import DataLoader, ConcatDataset\n",
    "import pandas as pd\n",
    "from tqdm import tqdm\n",
    "import os\n",
    "\n",
    "# Assume these are defined elsewhere\n",
    "# from model import Seq2SeqModel\n",
    "# from data_loader import TransliterationDataset, build_vocab, encode_sequence, pad_sequence, load_kaggle_data\n",
    "\n",
    "# Define best hyperparameters (from sweep results)\n",
    "best_config = {\n",
    "    'embedding_dim': 32,\n",
    "    'hidden_size': 256,\n",
    "    'encoder_layers': 3,\n",
    "    'decoder_layers': 3,\n",
    "    'cell_type': 'LSTM',\n",
    "    'dropout': 0.3,\n",
    "    'epochs': 10,\n",
    "    'batch_size': 32\n",
    "}\n",
    "\n",
    "# Load and combine data\n",
    "def load_combined_data():\n",
    "    base_path = r\"/kaggle/input/dakshina-dataset1\"\n",
    "    train_df = pd.read_csv(f'{base_path}/hi.translit.sampled.train.tsv', sep='\\t', header=None, names=['devanagari', 'romanized', 'freq'])\n",
    "    val_df = pd.read_csv(f'{base_path}/hi.translit.sampled.dev.tsv', sep='\\t', header=None, names=['devanagari', 'romanized', 'freq'])\n",
    "    test_df = pd.read_csv(f'{base_path}/hi.translit.sampled.test.tsv', sep='\\t', header=None, names=['devanagari', 'romanized', 'freq'])\n",
    "\n",
    "    # Combine and clean data\n",
    "    combined_df = pd.concat([train_df, val_df], ignore_index=True)\n",
    "    combined_df.dropna(subset=['romanized', 'devanagari'], inplace=True)\n",
    "    test_df.dropna(subset=['romanized', 'devanagari'], inplace=True)  # Just in case\n",
    "    train_df.dropna(subset=['romanized', 'devanagari'], inplace=True)\n",
    "    # src_vocab = build_vocab(combined_df['romanized'])\n",
    "    # tgt_vocab = build_vocab(combined_df['devanagari'])\n",
    "    src_vocab = build_vocab(train_df['romanized'])  # ONLY training\n",
    "    tgt_vocab = build_vocab(train_df['devanagari'])  # ONLY training\n",
    "\n",
    "    train_dataset = TransliterationDataset(combined_df, src_vocab, tgt_vocab)\n",
    "    test_dataset = TransliterationDataset(test_df, src_vocab, tgt_vocab)\n",
    "\n",
    "    train_loader = DataLoader(train_dataset, batch_size=best_config['batch_size'], shuffle=True)\n",
    "    test_loader = DataLoader(test_dataset, batch_size=best_config['batch_size'])\n",
    "\n",
    "    return train_loader, test_loader, src_vocab, tgt_vocab, test_df\n",
    "\n",
    "\n",
    "# Accuracy function\n",
    "def compute_accuracy(preds, targets):\n",
    "    match = 0\n",
    "    total = 0\n",
    "    for pred, tgt in zip(preds, targets):\n",
    "        if pred == tgt:\n",
    "            match += 1\n",
    "        total += 1\n",
    "    return match / total\n",
    "\n",
    "# Evaluation and prediction\n",
    "def evaluate(model, data_loader, tgt_vocab, device):\n",
    "    model.eval()\n",
    "    idx_to_char = {i: c for c, i in tgt_vocab.items()}\n",
    "    predictions = []\n",
    "    targets = []\n",
    "\n",
    "    pad_idx = tgt_vocab[\"<pad>\"]\n",
    "    sos_idx = tgt_vocab[\"<sos>\"]\n",
    "    eos_idx = tgt_vocab[\"<eos>\"]\n",
    "\n",
    "    with torch.no_grad():\n",
    "        for src_batch, tgt_batch in tqdm(data_loader, desc=\"Evaluating\"):\n",
    "            src_batch = src_batch.to(device)\n",
    "            tgt_batch = tgt_batch.to(device)\n",
    "\n",
    "            # Use model's predict method\n",
    "            predicted_indices = model.predict(src_batch, tgt_vocab, max_len=tgt_batch.shape[1])\n",
    "\n",
    "            # Decode predicted and target sequences\n",
    "            for pred_seq, tgt_seq in zip(predicted_indices, tgt_batch):\n",
    "                pred_str = ''.join([idx_to_char[idx.item()] for idx in pred_seq if idx.item() not in [pad_idx, sos_idx, eos_idx]])\n",
    "                tgt_str = ''.join([idx_to_char[idx.item()] for idx in tgt_seq if idx.item() not in [pad_idx, sos_idx, eos_idx]])\n",
    "                predictions.append(pred_str)\n",
    "                targets.append(tgt_str)\n",
    "\n",
    "    acc = compute_accuracy(predictions, targets)\n",
    "    return predictions, targets, acc\n",
    "\n",
    "\n",
    "# Train the best model and evaluate\n",
    "def run_final_training():\n",
    "    train_loader, test_loader, src_vocab, tgt_vocab, test_df = load_combined_data()\n",
    "    input_vocab_size = len(src_vocab)\n",
    "    target_vocab_size = len(tgt_vocab)\n",
    "    device = torch.device(\"cuda\" if torch.cuda.is_available() else \"cpu\")\n",
    "\n",
    "    model = Seq2SeqModel(input_vocab_size=input_vocab_size,\n",
    "                         target_vocab_size=target_vocab_size,\n",
    "                         embedding_dim=best_config['embedding_dim'],\n",
    "                         hidden_size=best_config['hidden_size'],\n",
    "                         encoder_layers=best_config['encoder_layers'],\n",
    "                         decoder_layers=best_config['decoder_layers'],\n",
    "                         cell_type=best_config['cell_type'],\n",
    "                         dropout=best_config['dropout']).to(device)\n",
    "\n",
    "    optimizer = optim.Adam(model.parameters())\n",
    "    criterion = nn.CrossEntropyLoss(ignore_index=src_vocab[\"<pad>\"])\n",
    "\n",
    "    model.train()\n",
    "    for epoch in range(best_config['epochs']):\n",
    "        total_loss = 0\n",
    "        loop = tqdm(train_loader, desc=f\"Epoch {epoch+1}\")\n",
    "        for src_batch, tgt_batch in loop:\n",
    "            src_batch, tgt_batch = src_batch.to(device), tgt_batch.to(device)\n",
    "            optimizer.zero_grad()\n",
    "            output = model(src_batch, tgt_batch)\n",
    "            loss = criterion(output[:, 1:].reshape(-1, target_vocab_size), tgt_batch[:, 1:].reshape(-1))\n",
    "            loss.backward()\n",
    "            optimizer.step()\n",
    "            total_loss += loss.item()\n",
    "            loop.set_postfix(loss=loss.item())\n",
    "\n",
    "        print(f\"Epoch {epoch+1} avg loss: {total_loss / len(train_loader):.4f}\")\n",
    "\n",
    "    # Save model\n",
    "    os.makedirs(\"models\", exist_ok=True)\n",
    "    torch.save(model.state_dict(), \"models/best_model.pth\")\n",
    "    print(\"Model saved to models/best_model.pth\")\n",
    "\n",
    "    # Evaluate\n",
    "    predictions, targets, test_acc = evaluate(model, test_loader, tgt_vocab, device)\n",
    "    print(f\"Test Accuracy: {test_acc:.4f}\")\n",
    "\n",
    "    # Save predictions\n",
    "    os.makedirs(\"predictions_vanilla\", exist_ok=True)\n",
    "    out_df = pd.DataFrame({\n",
    "        \"Input (Romanized)\": test_df['romanized'],\n",
    "        \"Target (Devanagari)\": test_df['devanagari'],\n",
    "        \"Prediction\": predictions\n",
    "    })\n",
    "    out_df.to_csv(\"predictions_vanilla/test_predictions.tsv\", sep=\"\\t\", index=False)\n",
    "    print(\"Predictions saved to predictions_vanilla/test_predictions.tsv\")\n",
    "\n",
    "    # Sample visualization\n",
    "    print(\"\\nSample Predictions:\")\n",
    "    print(out_df.sample(10).to_markdown(index=False))\n",
    "\n",
    "# Run the final training and evaluation\n",
    "run_final_training()"
   ]
  },
  {
   "cell_type": "code",
   "execution_count": 10,
   "metadata": {
    "execution": {
     "iopub.execute_input": "2025-05-20T09:31:47.144614Z",
     "iopub.status.busy": "2025-05-20T09:31:47.144343Z",
     "iopub.status.idle": "2025-05-20T09:31:47.262274Z",
     "shell.execute_reply": "2025-05-20T09:31:47.261606Z",
     "shell.execute_reply.started": "2025-05-20T09:31:47.144595Z"
    },
    "trusted": true
   },
   "outputs": [
    {
     "name": "stdout",
     "output_type": "stream",
     "text": [
      "{'<pad>': 0, '<sos>': 1, '<eos>': 2, 'अ': 3, 'ं': 4, 'क': 5, 'ग': 6, 'ण': 7, 'ि': 8, 'त': 9, 'ल': 10, 'ु': 11, 'र': 12, 'श': 13, 'द': 14, 'न': 15, 'े': 16, 'भ': 17, '्': 18, 'ष': 19, 'ा': 20, 'ी': 21, 'ठ': 22, 'य': 23, 'ो': 24, 'ू': 25, 'ज': 26, 'च': 27, 'म': 28, 'ट': 29, 'ड': 30, 'व': 31, 'ः': 32, 'ह': 33, 'प': 34, 'ृ': 35, 'स': 36, 'ध': 37, 'ै': 38, '़': 39, 'ब': 40, 'उ': 41, 'ॉ': 42, 'ई': 43, 'ख': 44, 'घ': 45, 'छ': 46, 'ञ': 47, 'फ': 48, 'ओ': 49, 'थ': 50, 'ढ': 51, 'झ': 52, 'ौ': 53, 'आ': 54, 'इ': 55, 'ँ': 56, 'ए': 57, 'ऊ': 58, 'ॅ': 59, 'ऋ': 60, 'ऑ': 61, 'ऐ': 62, 'औ': 63, 'ङ': 64, 'ॐ': 65}\n"
     ]
    }
   ],
   "source": [
    "train_loader, test_loader, src_vocab, tgt_vocab, test_df = load_combined_data()\n",
    "print(tgt_vocab)"
   ]
  },
  {
   "cell_type": "code",
   "execution_count": 11,
   "metadata": {
    "execution": {
     "iopub.execute_input": "2025-05-20T09:31:57.598015Z",
     "iopub.status.busy": "2025-05-20T09:31:57.597494Z",
     "iopub.status.idle": "2025-05-20T09:31:57.704516Z",
     "shell.execute_reply": "2025-05-20T09:31:57.703976Z",
     "shell.execute_reply.started": "2025-05-20T09:31:57.597988Z"
    },
    "trusted": true
   },
   "outputs": [
    {
     "name": "stdout",
     "output_type": "stream",
     "text": [
      "True\n"
     ]
    }
   ],
   "source": [
    "train_loader, dev_loader, src_vocab, tgt_vocab2=load_data()\n",
    "print( tgt_vocab2==tgt_vocab)"
   ]
  },
  {
   "cell_type": "markdown",
   "metadata": {},
   "source": [
    "## Test set predctions on the saved model"
   ]
  },
  {
   "cell_type": "code",
   "execution_count": 16,
   "metadata": {
    "execution": {
     "iopub.execute_input": "2025-05-20T09:44:50.603871Z",
     "iopub.status.busy": "2025-05-20T09:44:50.603335Z",
     "iopub.status.idle": "2025-05-20T09:44:56.644361Z",
     "shell.execute_reply": "2025-05-20T09:44:56.643742Z",
     "shell.execute_reply.started": "2025-05-20T09:44:50.603848Z"
    },
    "trusted": true
   },
   "outputs": [
    {
     "name": "stdout",
     "output_type": "stream",
     "text": [
      "✅ Loaded model weights from models/best_model.pth\n"
     ]
    },
    {
     "name": "stderr",
     "output_type": "stream",
     "text": [
      "Evaluating: 100%|██████████| 141/141 [00:05<00:00, 24.03it/s]"
     ]
    },
    {
     "name": "stdout",
     "output_type": "stream",
     "text": [
      "Test Accuracy: 0.3836\n",
      "📄 Predictions saved to predictions_vanilla/test_predictions.tsv\n",
      "\n",
      "🔍 Sample Predictions:\n",
      "| Input (Romanized)   | Target (Devanagari)   | Prediction   |\n",
      "|:--------------------|:----------------------|:-------------|\n",
      "| vlad                | व्लाद                   | व्लाद          |\n",
      "| sataane             | सताने                   | सताने          |\n",
      "| pisa                | पीसा                    | पिसा           |\n",
      "| lagega              | लगेगा                   | लगेगा          |\n",
      "| shanivar            | शनिवार                  | शानिवार         |\n",
      "| masaledar           | मसालेदार                 | मसालेडर        |\n",
      "| hamala              | हमला                   | हमला          |\n",
      "| corridor            | कोरिडोर                  | कॉरिसर         |\n",
      "| dolne               | डोलने                   | डोलने          |\n",
      "| nandanvan           | नंदनवन                 | नंदनवान        |\n"
     ]
    },
    {
     "name": "stderr",
     "output_type": "stream",
     "text": [
      "\n"
     ]
    }
   ],
   "source": [
    "def run_inference_only():\n",
    "    _, test_loader, src_vocab, tgt_vocab, test_df = load_combined_data()\n",
    "    input_vocab_size = len(src_vocab)\n",
    "    target_vocab_size = len(tgt_vocab)\n",
    "    device = torch.device(\"cuda\" if torch.cuda.is_available() else \"cpu\")\n",
    "\n",
    "    # Initialize model with same architecture\n",
    "    model = Seq2SeqModel(input_vocab_size=input_vocab_size,\n",
    "                         target_vocab_size=target_vocab_size,\n",
    "                         embedding_dim=best_config['embedding_dim'],\n",
    "                         hidden_size=best_config['hidden_size'],\n",
    "                         encoder_layers=best_config['encoder_layers'],\n",
    "                         decoder_layers=best_config['decoder_layers'],\n",
    "                         cell_type=best_config['cell_type'],\n",
    "                         dropout=best_config['dropout']).to(device)\n",
    "\n",
    "    # Load pre-trained weights\n",
    "    model.load_state_dict(torch.load(\"/kaggle/input/lstm_transiliteration/pytorch/default/1/best_model.pth\", map_location=device))\n",
    "    print(\"✅ Loaded model weights from models/best_model.pth\")\n",
    "\n",
    "    # Run evaluation and prediction\n",
    "    predictions, targets, test_acc = evaluate(model, test_loader, tgt_vocab, device)\n",
    "    print(f\"Test Accuracy: {test_acc:.4f}\")\n",
    "\n",
    "    # Save predictions\n",
    "    os.makedirs(\"predictions_vanilla\", exist_ok=True)\n",
    "    out_df = pd.DataFrame({\n",
    "        \"Input (Romanized)\": test_df['romanized'],\n",
    "        \"Target (Devanagari)\": test_df['devanagari'],\n",
    "        \"Prediction\": predictions\n",
    "    })\n",
    "    out_df.to_csv(\"predictions_vanilla/test_predictions.tsv\", sep=\"\\t\", index=False)\n",
    "    print(\"📄 Predictions saved to predictions_vanilla/test_predictions.tsv\")\n",
    "\n",
    "    # Sample visualization\n",
    "    print(\"\\n🔍 Sample Predictions:\")\n",
    "    print(out_df.sample(10).to_markdown(index=False))\n",
    "run_inference_only()"
   ]
  },
  {
   "cell_type": "markdown",
   "metadata": {},
   "source": [
    "## Attention based modelling"
   ]
  },
  {
   "cell_type": "code",
   "execution_count": 7,
   "metadata": {
    "execution": {
     "iopub.execute_input": "2025-05-20T16:13:09.266381Z",
     "iopub.status.busy": "2025-05-20T16:13:09.265841Z",
     "iopub.status.idle": "2025-05-20T16:13:09.272463Z",
     "shell.execute_reply": "2025-05-20T16:13:09.271667Z",
     "shell.execute_reply.started": "2025-05-20T16:13:09.266357Z"
    },
    "trusted": true
   },
   "outputs": [],
   "source": [
    "class Attention(nn.Module):\n",
    "    def __init__(self, hidden_size):\n",
    "        super().__init__()\n",
    "        self.attn = nn.Linear(hidden_size * 2, hidden_size)\n",
    "        self.v = nn.Parameter(torch.rand(hidden_size))\n",
    "\n",
    "    def forward(self, hidden, encoder_outputs, mask=None):\n",
    "        # hidden: [B, H], encoder_outputs: [B, T, H]\n",
    "        T = encoder_outputs.size(1)\n",
    "        hidden = hidden.unsqueeze(1).repeat(1, T, 1)  # [B, T, H]\n",
    "        energy = torch.tanh(self.attn(torch.cat((hidden, encoder_outputs), dim=2)))  # [B, T, H]\n",
    "        energy = energy @ self.v  # [B, T]\n",
    "        if mask is not None:\n",
    "            energy = energy.masked_fill(mask == 0, -1e10)\n",
    "        attn_weights = torch.softmax(energy, dim=1)  # [B, T]\n",
    "        context = torch.bmm(attn_weights.unsqueeze(1), encoder_outputs)  # [B, 1, H]\n",
    "        return context, attn_weights"
   ]
  },
  {
   "cell_type": "code",
   "execution_count": 8,
   "metadata": {
    "execution": {
     "iopub.execute_input": "2025-05-20T16:13:12.672913Z",
     "iopub.status.busy": "2025-05-20T16:13:12.672205Z",
     "iopub.status.idle": "2025-05-20T16:13:12.688361Z",
     "shell.execute_reply": "2025-05-20T16:13:12.687713Z",
     "shell.execute_reply.started": "2025-05-20T16:13:12.672886Z"
    },
    "trusted": true
   },
   "outputs": [],
   "source": [
    "class AttnSeq2SeqModel(nn.Module):\n",
    "    def __init__(self, input_vocab_size, target_vocab_size, embedding_dim, hidden_size, cell_type='LSTM', dropout=0.2):\n",
    "        super().__init__()\n",
    "        self.cell_type = cell_type.upper()\n",
    "        rnn_cls = getattr(nn, self.cell_type)\n",
    "\n",
    "        self.embedding = nn.Embedding(input_vocab_size, embedding_dim)\n",
    "        self.target_embedding = nn.Embedding(target_vocab_size, embedding_dim)\n",
    "\n",
    "        self.encoder = rnn_cls(embedding_dim, hidden_size, batch_first=True)\n",
    "        self.decoder = rnn_cls(embedding_dim + hidden_size, hidden_size, batch_first=True)\n",
    "        self.attention = Attention(hidden_size)\n",
    "        self.fc_out = nn.Linear(hidden_size * 2, target_vocab_size)\n",
    "\n",
    "    def forward(self, src, trg, teacher_forcing_ratio=0.5):\n",
    "        device = src.device\n",
    "        batch_size, trg_len = trg.shape\n",
    "        target_vocab_size = self.fc_out.out_features\n",
    "\n",
    "        outputs = torch.zeros(batch_size, trg_len, target_vocab_size).to(device)\n",
    "\n",
    "        embedded_src = self.embedding(src)\n",
    "        encoder_outputs, hidden = self.encoder(embedded_src)  # [B, T, H]\n",
    "\n",
    "        if self.cell_type == 'LSTM':\n",
    "            decoder_hidden = (hidden[0], hidden[1])  # (h, c)\n",
    "        else:\n",
    "            decoder_hidden = hidden\n",
    "\n",
    "        input_token = trg[:, 0]\n",
    "        for t in range(1, trg_len):\n",
    "            embedded_trg = self.target_embedding(input_token).unsqueeze(1)  # [B, 1, E]\n",
    "\n",
    "            if self.cell_type == 'LSTM':\n",
    "                context, _ = self.attention(decoder_hidden[0][-1], encoder_outputs)\n",
    "            else:\n",
    "                context, _ = self.attention(decoder_hidden[-1], encoder_outputs)\n",
    "\n",
    "            rnn_input = torch.cat((embedded_trg, context), dim=2)  # [B, 1, E+H]\n",
    "            decoder_output, decoder_hidden = self.decoder(rnn_input, decoder_hidden)  # [B, 1, H]\n",
    "            output = self.fc_out(torch.cat((decoder_output.squeeze(1), context.squeeze(1)), dim=1))  # [B, V]\n",
    "            outputs[:, t] = output\n",
    "\n",
    "            top1 = output.argmax(1)\n",
    "            input_token = trg[:, t] if torch.rand(1).item() < teacher_forcing_ratio else top1\n",
    "\n",
    "        return outputs\n",
    "        \n",
    "    def predict(self, src, tgt_vocab, max_len=50):\n",
    "        self.eval()\n",
    "        batch_size = src.size(0)\n",
    "        pad_idx = tgt_vocab[\"<pad>\"]\n",
    "        sos_idx = tgt_vocab[\"<sos>\"]\n",
    "        eos_idx = tgt_vocab[\"<eos>\"]\n",
    "    \n",
    "        with torch.no_grad():\n",
    "            embedded_src = self.embedding(src)\n",
    "            encoder_outputs, hidden = self.encoder(embedded_src)\n",
    "    \n",
    "            input_token = torch.full((batch_size,), sos_idx, dtype=torch.long, device=src.device)\n",
    "            outputs = []\n",
    "    \n",
    "            if self.cell_type == 'LSTM':\n",
    "                decoder_hidden = (hidden[0], hidden[1])\n",
    "            else:\n",
    "                decoder_hidden = hidden\n",
    "    \n",
    "            for _ in range(max_len):\n",
    "                embedded_input = self.target_embedding(input_token).unsqueeze(1)  # [B, 1, E]\n",
    "                if self.cell_type == 'LSTM':\n",
    "                    context, _ = self.attention(decoder_hidden[0][-1], encoder_outputs)\n",
    "                else:\n",
    "                    context, _ = self.attention(decoder_hidden[-1], encoder_outputs)\n",
    "    \n",
    "                rnn_input = torch.cat((embedded_input, context), dim=2)  # [B, 1, E+H]\n",
    "                decoder_output, decoder_hidden = self.decoder(rnn_input, decoder_hidden)\n",
    "                logits = self.fc_out(torch.cat((decoder_output.squeeze(1), context.squeeze(1)), dim=1))  # [B, V]\n",
    "                top1 = logits.argmax(1)\n",
    "                outputs.append(top1)\n",
    "                input_token = top1\n",
    "    \n",
    "            outputs = torch.stack(outputs, dim=1)  # [B, T]\n",
    "            return outputs\n",
    "    def predict_with_attention(self, src, tgt_vocab, max_len=50):\n",
    "        self.eval()\n",
    "        batch_size = src.size(0)\n",
    "        pad_idx = tgt_vocab[\"<pad>\"]\n",
    "        sos_idx = tgt_vocab[\"<sos>\"]\n",
    "        eos_idx = tgt_vocab[\"<eos>\"]\n",
    "    \n",
    "        all_attn_weights = []  # NEW\n",
    "        outputs = []\n",
    "    \n",
    "        with torch.no_grad():\n",
    "            embedded_src = self.embedding(src)\n",
    "            encoder_outputs, hidden = self.encoder(embedded_src)\n",
    "    \n",
    "            input_token = torch.full((batch_size,), sos_idx, dtype=torch.long, device=src.device)\n",
    "    \n",
    "            if self.cell_type == 'LSTM':\n",
    "                decoder_hidden = (hidden[0], hidden[1])\n",
    "            else:\n",
    "                decoder_hidden = hidden\n",
    "    \n",
    "            for _ in range(max_len):\n",
    "                embedded_input = self.target_embedding(input_token).unsqueeze(1)\n",
    "                if self.cell_type == 'LSTM':\n",
    "                    context, attn_weights = self.attention(decoder_hidden[0][-1], encoder_outputs)\n",
    "                else:\n",
    "                    context, attn_weights = self.attention(decoder_hidden[-1], encoder_outputs)\n",
    "    \n",
    "                all_attn_weights.append(attn_weights.squeeze(1))  # [B, S]\n",
    "    \n",
    "                rnn_input = torch.cat((embedded_input, context), dim=2)\n",
    "                decoder_output, decoder_hidden = self.decoder(rnn_input, decoder_hidden)\n",
    "    \n",
    "                logits = self.fc_out(torch.cat((decoder_output.squeeze(1), context.squeeze(1)), dim=1))\n",
    "                top1 = logits.argmax(1)\n",
    "                outputs.append(top1)\n",
    "                input_token = top1\n",
    "    \n",
    "            outputs = torch.stack(outputs, dim=1)  # [B, T]\n",
    "            attn_tensor = torch.stack(all_attn_weights, dim=1)  # [B, T, S]\n",
    "            return outputs, attn_tensor\n"
   ]
  },
  {
   "cell_type": "code",
   "execution_count": 9,
   "metadata": {
    "execution": {
     "iopub.execute_input": "2025-05-20T16:13:19.614827Z",
     "iopub.status.busy": "2025-05-20T16:13:19.614539Z",
     "iopub.status.idle": "2025-05-20T16:13:19.625627Z",
     "shell.execute_reply": "2025-05-20T16:13:19.624994Z",
     "shell.execute_reply.started": "2025-05-20T16:13:19.614806Z"
    },
    "trusted": true
   },
   "outputs": [],
   "source": [
    "import wandb\n",
    "import torch\n",
    "import torch.nn as nn\n",
    "import torch.optim as optim\n",
    "from tqdm import tqdm\n",
    "\n",
    "def calculate_accuracy(preds, targets, pad_idx):\n",
    "    preds = preds.argmax(dim=-1)\n",
    "    mask = targets != pad_idx\n",
    "    correct = (preds == targets) & mask\n",
    "    return correct.sum().item() / mask.sum().item()\n",
    "\n",
    "def train(config=None):\n",
    "    with wandb.init(config=config):\n",
    "        config = wandb.config\n",
    "        wandb.run.name = f\"{config.cell_type}_epochs{config.epochs}_emb{config.embedding_dim}_hid{config.hidden_size}_enc{config.encoder_layers}_dec{config.encoder_layers}_do{int(config.dropout * 100)}\"\n",
    "\n",
    "        train_loader, dev_loader, src_vocab, tgt_vocab = load_data()\n",
    "        input_vocab_size = len(src_vocab)\n",
    "        target_vocab_size = len(tgt_vocab)\n",
    "\n",
    "        device = torch.device('cuda' if torch.cuda.is_available() else 'cpu')\n",
    "        pad_idx = src_vocab[\"<pad>\"]\n",
    "\n",
    "        \n",
    "        model = AttnSeq2SeqModel(\n",
    "            input_vocab_size=input_vocab_size,\n",
    "            target_vocab_size=target_vocab_size,\n",
    "            embedding_dim=config.embedding_dim,\n",
    "            hidden_size=config.hidden_size,\n",
    "            cell_type=config.cell_type,\n",
    "            dropout=config.dropout\n",
    "        ).to(device)\n",
    "\n",
    "        optimizer = optim.Adam(model.parameters())\n",
    "        criterion = nn.CrossEntropyLoss(ignore_index=pad_idx)\n",
    "\n",
    "        for epoch in range(config.epochs):\n",
    "            model.train()\n",
    "            total_loss = 0\n",
    "            total_acc = 0\n",
    "            progress_bar = tqdm(train_loader, desc=f\"Epoch {epoch+1}\", leave=True)\n",
    "            for src_batch, tgt_batch in progress_bar:\n",
    "                src_batch, tgt_batch = src_batch.to(device), tgt_batch.to(device)\n",
    "                optimizer.zero_grad()\n",
    "                output = model(src_batch, tgt_batch)  # [B, T, V]\n",
    "                loss = criterion(\n",
    "                    output[:, 1:].reshape(-1, target_vocab_size),\n",
    "                    tgt_batch[:, 1:].reshape(-1)\n",
    "                )\n",
    "                acc = calculate_accuracy(output[:, 1:], tgt_batch[:, 1:], pad_idx)\n",
    "\n",
    "                loss.backward()\n",
    "                optimizer.step()\n",
    "\n",
    "                total_loss += loss.item()\n",
    "                total_acc += acc\n",
    "                progress_bar.set_postfix(loss=loss.item(), acc=acc)\n",
    "\n",
    "            avg_train_loss = total_loss / len(train_loader)\n",
    "            avg_train_acc = total_acc / len(train_loader)\n",
    "\n",
    "            # 🔍 Validation step\n",
    "            model.eval()\n",
    "            val_loss = 0\n",
    "            val_acc = 0\n",
    "            with torch.no_grad():\n",
    "                for src_batch, tgt_batch in dev_loader:\n",
    "                    src_batch, tgt_batch = src_batch.to(device), tgt_batch.to(device)\n",
    "                    output = model(src_batch, tgt_batch)\n",
    "                    loss = criterion(\n",
    "                        output[:, 1:].reshape(-1, target_vocab_size),\n",
    "                        tgt_batch[:, 1:].reshape(-1)\n",
    "                    )\n",
    "                    acc = calculate_accuracy(output[:, 1:], tgt_batch[:, 1:], pad_idx)\n",
    "                    val_loss += loss.item()\n",
    "                    val_acc += acc\n",
    "            avg_val_loss = val_loss / len(dev_loader)\n",
    "            avg_val_acc = val_acc / len(dev_loader)\n",
    "\n",
    "            # 📊 Logging\n",
    "            wandb.log({\n",
    "                'epoch': epoch,\n",
    "                'train_loss': avg_train_loss,\n",
    "                'train_accuracy': avg_train_acc,\n",
    "                'val_loss': avg_val_loss,\n",
    "                'val_accuracy': avg_val_acc\n",
    "            })\n",
    "\n"
   ]
  },
  {
   "cell_type": "code",
   "execution_count": 21,
   "metadata": {
    "execution": {
     "iopub.execute_input": "2025-05-19T16:18:19.537777Z",
     "iopub.status.busy": "2025-05-19T16:18:19.537514Z",
     "iopub.status.idle": "2025-05-19T16:18:19.542530Z",
     "shell.execute_reply": "2025-05-19T16:18:19.541807Z",
     "shell.execute_reply.started": "2025-05-19T16:18:19.537758Z"
    },
    "trusted": true
   },
   "outputs": [],
   "source": [
    "sweep_config = {\n",
    "    'method': 'random',  # or 'grid' or 'bayes'\n",
    "    'metric': {\n",
    "        'name': 'val_loss',\n",
    "        'goal': 'minimize'\n",
    "    },\n",
    "    'parameters': {\n",
    "        'embedding_dim': {\n",
    "            'values': [16, 32]\n",
    "        },\n",
    "        'epochs': {\n",
    "            'values': [10]\n",
    "        },\n",
    "        'hidden_size': {\n",
    "            'values': [64, 256]\n",
    "        },\n",
    "        'encoder_layers': {\n",
    "            'values': [2, 3]\n",
    "        },\n",
    "        # 'decoder_layers': {\n",
    "        #     'values': [1, 2, 3]\n",
    "        # },\n",
    "        # 'num_layers': {'values': [1, 2, 3]},\n",
    "        'cell_type': {\n",
    "            'values': ['GRU', 'LSTM']\n",
    "        },\n",
    "        'dropout': {\n",
    "            'values': [0.24, 0.31]\n",
    "        }\n",
    "    }\n",
    "}"
   ]
  },
  {
   "cell_type": "code",
   "execution_count": 22,
   "metadata": {
    "execution": {
     "iopub.execute_input": "2025-05-19T16:18:24.216922Z",
     "iopub.status.busy": "2025-05-19T16:18:24.216368Z",
     "iopub.status.idle": "2025-05-19T22:06:48.684618Z",
     "shell.execute_reply": "2025-05-19T22:06:48.683866Z",
     "shell.execute_reply.started": "2025-05-19T16:18:24.216902Z"
    },
    "trusted": true
   },
   "outputs": [
    {
     "name": "stderr",
     "output_type": "stream",
     "text": [
      "\u001b[34m\u001b[1mwandb\u001b[0m: Using wandb-core as the SDK backend.  Please refer to https://wandb.me/wandb-core for more information.\n",
      "\u001b[34m\u001b[1mwandb\u001b[0m: \u001b[33mWARNING\u001b[0m If you're specifying your api key in code, ensure this code is not shared publicly.\n",
      "\u001b[34m\u001b[1mwandb\u001b[0m: \u001b[33mWARNING\u001b[0m Consider setting the WANDB_API_KEY environment variable, or running `wandb login` from the command line.\n",
      "\u001b[34m\u001b[1mwandb\u001b[0m: No netrc file found, creating one.\n",
      "\u001b[34m\u001b[1mwandb\u001b[0m: Appending key for api.wandb.ai to your netrc file: /root/.netrc\n",
      "\u001b[34m\u001b[1mwandb\u001b[0m: Currently logged in as: \u001b[33mmm21b010\u001b[0m (\u001b[33mmm21b010-indian-institute-of-technology-madras\u001b[0m) to \u001b[32mhttps://api.wandb.ai\u001b[0m. Use \u001b[1m`wandb login --relogin`\u001b[0m to force relogin\n"
     ]
    },
    {
     "name": "stdout",
     "output_type": "stream",
     "text": [
      "Create sweep with ID: 9tg1us73\n",
      "Sweep URL: https://wandb.ai/mm21b010-indian-institute-of-technology-madras/dakshina-transliteration/sweeps/9tg1us73\n"
     ]
    },
    {
     "name": "stderr",
     "output_type": "stream",
     "text": [
      "\u001b[34m\u001b[1mwandb\u001b[0m: Agent Starting Run: yxbvriw9 with config:\n",
      "\u001b[34m\u001b[1mwandb\u001b[0m: \tcell_type: GRU\n",
      "\u001b[34m\u001b[1mwandb\u001b[0m: \tdropout: 0.24\n",
      "\u001b[34m\u001b[1mwandb\u001b[0m: \tembedding_dim: 32\n",
      "\u001b[34m\u001b[1mwandb\u001b[0m: \tencoder_layers: 2\n",
      "\u001b[34m\u001b[1mwandb\u001b[0m: \tepochs: 10\n",
      "\u001b[34m\u001b[1mwandb\u001b[0m: \thidden_size: 256\n"
     ]
    },
    {
     "data": {
      "text/html": [
       "Tracking run with wandb version 0.19.9"
      ],
      "text/plain": [
       "<IPython.core.display.HTML object>"
      ]
     },
     "metadata": {},
     "output_type": "display_data"
    },
    {
     "data": {
      "text/html": [
       "Run data is saved locally in <code>/kaggle/working/wandb/run-20250519_161837-yxbvriw9</code>"
      ],
      "text/plain": [
       "<IPython.core.display.HTML object>"
      ]
     },
     "metadata": {},
     "output_type": "display_data"
    },
    {
     "data": {
      "text/html": [
       "Syncing run <strong><a href='https://wandb.ai/mm21b010-indian-institute-of-technology-madras/dakshina-transliteration/runs/yxbvriw9' target=\"_blank\">young-sweep-1</a></strong> to <a href='https://wandb.ai/mm21b010-indian-institute-of-technology-madras/dakshina-transliteration' target=\"_blank\">Weights & Biases</a> (<a href='https://wandb.me/developer-guide' target=\"_blank\">docs</a>)<br>Sweep page: <a href='https://wandb.ai/mm21b010-indian-institute-of-technology-madras/dakshina-transliteration/sweeps/9tg1us73' target=\"_blank\">https://wandb.ai/mm21b010-indian-institute-of-technology-madras/dakshina-transliteration/sweeps/9tg1us73</a>"
      ],
      "text/plain": [
       "<IPython.core.display.HTML object>"
      ]
     },
     "metadata": {},
     "output_type": "display_data"
    },
    {
     "data": {
      "text/html": [
       " View project at <a href='https://wandb.ai/mm21b010-indian-institute-of-technology-madras/dakshina-transliteration' target=\"_blank\">https://wandb.ai/mm21b010-indian-institute-of-technology-madras/dakshina-transliteration</a>"
      ],
      "text/plain": [
       "<IPython.core.display.HTML object>"
      ]
     },
     "metadata": {},
     "output_type": "display_data"
    },
    {
     "data": {
      "text/html": [
       " View sweep at <a href='https://wandb.ai/mm21b010-indian-institute-of-technology-madras/dakshina-transliteration/sweeps/9tg1us73' target=\"_blank\">https://wandb.ai/mm21b010-indian-institute-of-technology-madras/dakshina-transliteration/sweeps/9tg1us73</a>"
      ],
      "text/plain": [
       "<IPython.core.display.HTML object>"
      ]
     },
     "metadata": {},
     "output_type": "display_data"
    },
    {
     "data": {
      "text/html": [
       " View run at <a href='https://wandb.ai/mm21b010-indian-institute-of-technology-madras/dakshina-transliteration/runs/yxbvriw9' target=\"_blank\">https://wandb.ai/mm21b010-indian-institute-of-technology-madras/dakshina-transliteration/runs/yxbvriw9</a>"
      ],
      "text/plain": [
       "<IPython.core.display.HTML object>"
      ]
     },
     "metadata": {},
     "output_type": "display_data"
    },
    {
     "name": "stderr",
     "output_type": "stream",
     "text": [
      "Epoch 1: 100%|██████████| 1382/1382 [01:37<00:00, 14.19it/s, acc=0.789, loss=0.75] \n",
      "Epoch 2: 100%|██████████| 1382/1382 [01:38<00:00, 13.97it/s, acc=0.803, loss=0.525]\n",
      "Epoch 3: 100%|██████████| 1382/1382 [01:39<00:00, 13.95it/s, acc=0.853, loss=0.599]\n",
      "Epoch 4: 100%|██████████| 1382/1382 [01:39<00:00, 13.95it/s, acc=0.859, loss=0.34] \n",
      "Epoch 5: 100%|██████████| 1382/1382 [01:39<00:00, 13.90it/s, acc=0.864, loss=0.317]\n",
      "Epoch 6: 100%|██████████| 1382/1382 [01:39<00:00, 13.87it/s, acc=0.932, loss=0.389]\n",
      "Epoch 7: 100%|██████████| 1382/1382 [01:39<00:00, 13.88it/s, acc=0.842, loss=0.592]\n",
      "Epoch 8: 100%|██████████| 1382/1382 [01:39<00:00, 13.92it/s, acc=0.836, loss=0.601]\n",
      "Epoch 9: 100%|██████████| 1382/1382 [01:39<00:00, 13.90it/s, acc=0.919, loss=0.305]\n",
      "Epoch 10: 100%|██████████| 1382/1382 [01:39<00:00, 13.93it/s, acc=0.947, loss=0.172]\n"
     ]
    },
    {
     "data": {
      "text/html": [],
      "text/plain": [
       "<IPython.core.display.HTML object>"
      ]
     },
     "metadata": {},
     "output_type": "display_data"
    },
    {
     "data": {
      "text/html": [
       "<br>    <style><br>        .wandb-row {<br>            display: flex;<br>            flex-direction: row;<br>            flex-wrap: wrap;<br>            justify-content: flex-start;<br>            width: 100%;<br>        }<br>        .wandb-col {<br>            display: flex;<br>            flex-direction: column;<br>            flex-basis: 100%;<br>            flex: 1;<br>            padding: 10px;<br>        }<br>    </style><br><div class=\"wandb-row\"><div class=\"wandb-col\"><h3>Run history:</h3><br/><table class=\"wandb\"><tr><td>epoch</td><td>▁▂▃▃▄▅▆▆▇█</td></tr><tr><td>train_accuracy</td><td>▁▅▆▆▇▇▇███</td></tr><tr><td>train_loss</td><td>█▄▃▂▂▂▁▁▁▁</td></tr><tr><td>val_accuracy</td><td>▁▅▇▇▇█▇▇▇▇</td></tr><tr><td>val_loss</td><td>█▄▁▂▂▁▂▃▃▄</td></tr></table><br/></div><div class=\"wandb-col\"><h3>Run summary:</h3><br/><table class=\"wandb\"><tr><td>epoch</td><td>9</td></tr><tr><td>train_accuracy</td><td>0.91036</td></tr><tr><td>train_loss</td><td>0.29449</td></tr><tr><td>val_accuracy</td><td>0.80188</td></tr><tr><td>val_loss</td><td>0.71361</td></tr></table><br/></div></div>"
      ],
      "text/plain": [
       "<IPython.core.display.HTML object>"
      ]
     },
     "metadata": {},
     "output_type": "display_data"
    },
    {
     "data": {
      "text/html": [
       " View run <strong style=\"color:#cdcd00\">GRU_epochs10_emb32_hid256_enc2_dec2_do24</strong> at: <a href='https://wandb.ai/mm21b010-indian-institute-of-technology-madras/dakshina-transliteration/runs/yxbvriw9' target=\"_blank\">https://wandb.ai/mm21b010-indian-institute-of-technology-madras/dakshina-transliteration/runs/yxbvriw9</a><br> View project at: <a href='https://wandb.ai/mm21b010-indian-institute-of-technology-madras/dakshina-transliteration' target=\"_blank\">https://wandb.ai/mm21b010-indian-institute-of-technology-madras/dakshina-transliteration</a><br>Synced 5 W&B file(s), 0 media file(s), 0 artifact file(s) and 0 other file(s)"
      ],
      "text/plain": [
       "<IPython.core.display.HTML object>"
      ]
     },
     "metadata": {},
     "output_type": "display_data"
    },
    {
     "data": {
      "text/html": [
       "Find logs at: <code>./wandb/run-20250519_161837-yxbvriw9/logs</code>"
      ],
      "text/plain": [
       "<IPython.core.display.HTML object>"
      ]
     },
     "metadata": {},
     "output_type": "display_data"
    },
    {
     "name": "stderr",
     "output_type": "stream",
     "text": [
      "\u001b[34m\u001b[1mwandb\u001b[0m: Agent Starting Run: 891dc59e with config:\n",
      "\u001b[34m\u001b[1mwandb\u001b[0m: \tcell_type: LSTM\n",
      "\u001b[34m\u001b[1mwandb\u001b[0m: \tdropout: 0.24\n",
      "\u001b[34m\u001b[1mwandb\u001b[0m: \tembedding_dim: 16\n",
      "\u001b[34m\u001b[1mwandb\u001b[0m: \tencoder_layers: 2\n",
      "\u001b[34m\u001b[1mwandb\u001b[0m: \tepochs: 10\n",
      "\u001b[34m\u001b[1mwandb\u001b[0m: \thidden_size: 64\n"
     ]
    },
    {
     "data": {
      "text/html": [
       "Tracking run with wandb version 0.19.9"
      ],
      "text/plain": [
       "<IPython.core.display.HTML object>"
      ]
     },
     "metadata": {},
     "output_type": "display_data"
    },
    {
     "data": {
      "text/html": [
       "Run data is saved locally in <code>/kaggle/working/wandb/run-20250519_163555-891dc59e</code>"
      ],
      "text/plain": [
       "<IPython.core.display.HTML object>"
      ]
     },
     "metadata": {},
     "output_type": "display_data"
    },
    {
     "data": {
      "text/html": [
       "Syncing run <strong><a href='https://wandb.ai/mm21b010-indian-institute-of-technology-madras/dakshina-transliteration/runs/891dc59e' target=\"_blank\">electric-sweep-2</a></strong> to <a href='https://wandb.ai/mm21b010-indian-institute-of-technology-madras/dakshina-transliteration' target=\"_blank\">Weights & Biases</a> (<a href='https://wandb.me/developer-guide' target=\"_blank\">docs</a>)<br>Sweep page: <a href='https://wandb.ai/mm21b010-indian-institute-of-technology-madras/dakshina-transliteration/sweeps/9tg1us73' target=\"_blank\">https://wandb.ai/mm21b010-indian-institute-of-technology-madras/dakshina-transliteration/sweeps/9tg1us73</a>"
      ],
      "text/plain": [
       "<IPython.core.display.HTML object>"
      ]
     },
     "metadata": {},
     "output_type": "display_data"
    },
    {
     "data": {
      "text/html": [
       " View project at <a href='https://wandb.ai/mm21b010-indian-institute-of-technology-madras/dakshina-transliteration' target=\"_blank\">https://wandb.ai/mm21b010-indian-institute-of-technology-madras/dakshina-transliteration</a>"
      ],
      "text/plain": [
       "<IPython.core.display.HTML object>"
      ]
     },
     "metadata": {},
     "output_type": "display_data"
    },
    {
     "data": {
      "text/html": [
       " View sweep at <a href='https://wandb.ai/mm21b010-indian-institute-of-technology-madras/dakshina-transliteration/sweeps/9tg1us73' target=\"_blank\">https://wandb.ai/mm21b010-indian-institute-of-technology-madras/dakshina-transliteration/sweeps/9tg1us73</a>"
      ],
      "text/plain": [
       "<IPython.core.display.HTML object>"
      ]
     },
     "metadata": {},
     "output_type": "display_data"
    },
    {
     "data": {
      "text/html": [
       " View run at <a href='https://wandb.ai/mm21b010-indian-institute-of-technology-madras/dakshina-transliteration/runs/891dc59e' target=\"_blank\">https://wandb.ai/mm21b010-indian-institute-of-technology-madras/dakshina-transliteration/runs/891dc59e</a>"
      ],
      "text/plain": [
       "<IPython.core.display.HTML object>"
      ]
     },
     "metadata": {},
     "output_type": "display_data"
    },
    {
     "name": "stderr",
     "output_type": "stream",
     "text": [
      "Epoch 1: 100%|██████████| 1382/1382 [01:36<00:00, 14.39it/s, acc=0.667, loss=1.14] \n",
      "Epoch 2: 100%|██████████| 1382/1382 [01:37<00:00, 14.15it/s, acc=0.675, loss=0.956]\n",
      "Epoch 3: 100%|██████████| 1382/1382 [01:37<00:00, 14.14it/s, acc=0.712, loss=0.92] \n",
      "Epoch 4: 100%|██████████| 1382/1382 [01:38<00:00, 14.10it/s, acc=0.789, loss=0.781]\n",
      "Epoch 5: 100%|██████████| 1382/1382 [01:38<00:00, 14.04it/s, acc=0.682, loss=0.861]\n",
      "Epoch 6: 100%|██████████| 1382/1382 [01:38<00:00, 14.02it/s, acc=0.73, loss=0.886] \n",
      "Epoch 7: 100%|██████████| 1382/1382 [01:38<00:00, 14.00it/s, acc=0.901, loss=0.398]\n",
      "Epoch 8: 100%|██████████| 1382/1382 [01:39<00:00, 13.93it/s, acc=0.766, loss=0.846]\n",
      "Epoch 9: 100%|██████████| 1382/1382 [01:41<00:00, 13.58it/s, acc=0.844, loss=0.473]\n",
      "Epoch 10: 100%|██████████| 1382/1382 [01:39<00:00, 13.95it/s, acc=0.765, loss=0.582]\n"
     ]
    },
    {
     "data": {
      "text/html": [],
      "text/plain": [
       "<IPython.core.display.HTML object>"
      ]
     },
     "metadata": {},
     "output_type": "display_data"
    },
    {
     "data": {
      "text/html": [
       "<br>    <style><br>        .wandb-row {<br>            display: flex;<br>            flex-direction: row;<br>            flex-wrap: wrap;<br>            justify-content: flex-start;<br>            width: 100%;<br>        }<br>        .wandb-col {<br>            display: flex;<br>            flex-direction: column;<br>            flex-basis: 100%;<br>            flex: 1;<br>            padding: 10px;<br>        }<br>    </style><br><div class=\"wandb-row\"><div class=\"wandb-col\"><h3>Run history:</h3><br/><table class=\"wandb\"><tr><td>epoch</td><td>▁▂▃▃▄▅▆▆▇█</td></tr><tr><td>train_accuracy</td><td>▁▆▇▇▇▇████</td></tr><tr><td>train_loss</td><td>█▃▂▂▂▁▁▁▁▁</td></tr><tr><td>val_accuracy</td><td>▁▅▆▆▇▇▇███</td></tr><tr><td>val_loss</td><td>█▄▃▃▂▂▂▁▁▁</td></tr></table><br/></div><div class=\"wandb-col\"><h3>Run summary:</h3><br/><table class=\"wandb\"><tr><td>epoch</td><td>9</td></tr><tr><td>train_accuracy</td><td>0.80911</td></tr><tr><td>train_loss</td><td>0.62849</td></tr><tr><td>val_accuracy</td><td>0.7703</td></tr><tr><td>val_loss</td><td>0.77141</td></tr></table><br/></div></div>"
      ],
      "text/plain": [
       "<IPython.core.display.HTML object>"
      ]
     },
     "metadata": {},
     "output_type": "display_data"
    },
    {
     "data": {
      "text/html": [
       " View run <strong style=\"color:#cdcd00\">LSTM_epochs10_emb16_hid64_enc2_dec2_do24</strong> at: <a href='https://wandb.ai/mm21b010-indian-institute-of-technology-madras/dakshina-transliteration/runs/891dc59e' target=\"_blank\">https://wandb.ai/mm21b010-indian-institute-of-technology-madras/dakshina-transliteration/runs/891dc59e</a><br> View project at: <a href='https://wandb.ai/mm21b010-indian-institute-of-technology-madras/dakshina-transliteration' target=\"_blank\">https://wandb.ai/mm21b010-indian-institute-of-technology-madras/dakshina-transliteration</a><br>Synced 5 W&B file(s), 0 media file(s), 0 artifact file(s) and 0 other file(s)"
      ],
      "text/plain": [
       "<IPython.core.display.HTML object>"
      ]
     },
     "metadata": {},
     "output_type": "display_data"
    },
    {
     "data": {
      "text/html": [
       "Find logs at: <code>./wandb/run-20250519_163555-891dc59e/logs</code>"
      ],
      "text/plain": [
       "<IPython.core.display.HTML object>"
      ]
     },
     "metadata": {},
     "output_type": "display_data"
    },
    {
     "name": "stderr",
     "output_type": "stream",
     "text": [
      "\u001b[34m\u001b[1mwandb\u001b[0m: Agent Starting Run: 4yh4uiwj with config:\n",
      "\u001b[34m\u001b[1mwandb\u001b[0m: \tcell_type: LSTM\n",
      "\u001b[34m\u001b[1mwandb\u001b[0m: \tdropout: 0.31\n",
      "\u001b[34m\u001b[1mwandb\u001b[0m: \tembedding_dim: 16\n",
      "\u001b[34m\u001b[1mwandb\u001b[0m: \tencoder_layers: 3\n",
      "\u001b[34m\u001b[1mwandb\u001b[0m: \tepochs: 10\n",
      "\u001b[34m\u001b[1mwandb\u001b[0m: \thidden_size: 256\n"
     ]
    },
    {
     "data": {
      "text/html": [
       "Tracking run with wandb version 0.19.9"
      ],
      "text/plain": [
       "<IPython.core.display.HTML object>"
      ]
     },
     "metadata": {},
     "output_type": "display_data"
    },
    {
     "data": {
      "text/html": [
       "Run data is saved locally in <code>/kaggle/working/wandb/run-20250519_165304-4yh4uiwj</code>"
      ],
      "text/plain": [
       "<IPython.core.display.HTML object>"
      ]
     },
     "metadata": {},
     "output_type": "display_data"
    },
    {
     "data": {
      "text/html": [
       "Syncing run <strong><a href='https://wandb.ai/mm21b010-indian-institute-of-technology-madras/dakshina-transliteration/runs/4yh4uiwj' target=\"_blank\">sleek-sweep-3</a></strong> to <a href='https://wandb.ai/mm21b010-indian-institute-of-technology-madras/dakshina-transliteration' target=\"_blank\">Weights & Biases</a> (<a href='https://wandb.me/developer-guide' target=\"_blank\">docs</a>)<br>Sweep page: <a href='https://wandb.ai/mm21b010-indian-institute-of-technology-madras/dakshina-transliteration/sweeps/9tg1us73' target=\"_blank\">https://wandb.ai/mm21b010-indian-institute-of-technology-madras/dakshina-transliteration/sweeps/9tg1us73</a>"
      ],
      "text/plain": [
       "<IPython.core.display.HTML object>"
      ]
     },
     "metadata": {},
     "output_type": "display_data"
    },
    {
     "data": {
      "text/html": [
       " View project at <a href='https://wandb.ai/mm21b010-indian-institute-of-technology-madras/dakshina-transliteration' target=\"_blank\">https://wandb.ai/mm21b010-indian-institute-of-technology-madras/dakshina-transliteration</a>"
      ],
      "text/plain": [
       "<IPython.core.display.HTML object>"
      ]
     },
     "metadata": {},
     "output_type": "display_data"
    },
    {
     "data": {
      "text/html": [
       " View sweep at <a href='https://wandb.ai/mm21b010-indian-institute-of-technology-madras/dakshina-transliteration/sweeps/9tg1us73' target=\"_blank\">https://wandb.ai/mm21b010-indian-institute-of-technology-madras/dakshina-transliteration/sweeps/9tg1us73</a>"
      ],
      "text/plain": [
       "<IPython.core.display.HTML object>"
      ]
     },
     "metadata": {},
     "output_type": "display_data"
    },
    {
     "data": {
      "text/html": [
       " View run at <a href='https://wandb.ai/mm21b010-indian-institute-of-technology-madras/dakshina-transliteration/runs/4yh4uiwj' target=\"_blank\">https://wandb.ai/mm21b010-indian-institute-of-technology-madras/dakshina-transliteration/runs/4yh4uiwj</a>"
      ],
      "text/plain": [
       "<IPython.core.display.HTML object>"
      ]
     },
     "metadata": {},
     "output_type": "display_data"
    },
    {
     "name": "stderr",
     "output_type": "stream",
     "text": [
      "Epoch 1: 100%|██████████| 1382/1382 [01:43<00:00, 13.38it/s, acc=0.589, loss=1.11] \n",
      "Epoch 2: 100%|██████████| 1382/1382 [01:43<00:00, 13.39it/s, acc=0.776, loss=0.872]\n",
      "Epoch 3: 100%|██████████| 1382/1382 [01:43<00:00, 13.37it/s, acc=0.865, loss=0.489]\n",
      "Epoch 4: 100%|██████████| 1382/1382 [01:43<00:00, 13.35it/s, acc=0.873, loss=0.453]\n",
      "Epoch 5: 100%|██████████| 1382/1382 [01:43<00:00, 13.37it/s, acc=0.822, loss=0.481]\n",
      "Epoch 6: 100%|██████████| 1382/1382 [01:43<00:00, 13.36it/s, acc=0.894, loss=0.391]\n",
      "Epoch 7: 100%|██████████| 1382/1382 [01:43<00:00, 13.34it/s, acc=0.714, loss=0.955]\n",
      "Epoch 8: 100%|██████████| 1382/1382 [01:43<00:00, 13.35it/s, acc=0.921, loss=0.233]\n",
      "Epoch 9: 100%|██████████| 1382/1382 [01:43<00:00, 13.32it/s, acc=0.806, loss=0.483]\n",
      "Epoch 10: 100%|██████████| 1382/1382 [01:43<00:00, 13.33it/s, acc=0.896, loss=0.289]\n"
     ]
    },
    {
     "data": {
      "text/html": [],
      "text/plain": [
       "<IPython.core.display.HTML object>"
      ]
     },
     "metadata": {},
     "output_type": "display_data"
    },
    {
     "data": {
      "text/html": [
       "<br>    <style><br>        .wandb-row {<br>            display: flex;<br>            flex-direction: row;<br>            flex-wrap: wrap;<br>            justify-content: flex-start;<br>            width: 100%;<br>        }<br>        .wandb-col {<br>            display: flex;<br>            flex-direction: column;<br>            flex-basis: 100%;<br>            flex: 1;<br>            padding: 10px;<br>        }<br>    </style><br><div class=\"wandb-row\"><div class=\"wandb-col\"><h3>Run history:</h3><br/><table class=\"wandb\"><tr><td>epoch</td><td>▁▂▃▃▄▅▆▆▇█</td></tr><tr><td>train_accuracy</td><td>▁▅▆▇▇▇████</td></tr><tr><td>train_loss</td><td>█▃▃▂▂▂▁▁▁▁</td></tr><tr><td>val_accuracy</td><td>▁▅▆▇▇▇▇▇██</td></tr><tr><td>val_loss</td><td>█▄▂▂▂▁▂▂▂▁</td></tr></table><br/></div><div class=\"wandb-col\"><h3>Run summary:</h3><br/><table class=\"wandb\"><tr><td>epoch</td><td>9</td></tr><tr><td>train_accuracy</td><td>0.9137</td></tr><tr><td>train_loss</td><td>0.28527</td></tr><tr><td>val_accuracy</td><td>0.82253</td></tr><tr><td>val_loss</td><td>0.63242</td></tr></table><br/></div></div>"
      ],
      "text/plain": [
       "<IPython.core.display.HTML object>"
      ]
     },
     "metadata": {},
     "output_type": "display_data"
    },
    {
     "data": {
      "text/html": [
       " View run <strong style=\"color:#cdcd00\">LSTM_epochs10_emb16_hid256_enc3_dec3_do31</strong> at: <a href='https://wandb.ai/mm21b010-indian-institute-of-technology-madras/dakshina-transliteration/runs/4yh4uiwj' target=\"_blank\">https://wandb.ai/mm21b010-indian-institute-of-technology-madras/dakshina-transliteration/runs/4yh4uiwj</a><br> View project at: <a href='https://wandb.ai/mm21b010-indian-institute-of-technology-madras/dakshina-transliteration' target=\"_blank\">https://wandb.ai/mm21b010-indian-institute-of-technology-madras/dakshina-transliteration</a><br>Synced 5 W&B file(s), 0 media file(s), 0 artifact file(s) and 0 other file(s)"
      ],
      "text/plain": [
       "<IPython.core.display.HTML object>"
      ]
     },
     "metadata": {},
     "output_type": "display_data"
    },
    {
     "data": {
      "text/html": [
       "Find logs at: <code>./wandb/run-20250519_165304-4yh4uiwj/logs</code>"
      ],
      "text/plain": [
       "<IPython.core.display.HTML object>"
      ]
     },
     "metadata": {},
     "output_type": "display_data"
    },
    {
     "name": "stderr",
     "output_type": "stream",
     "text": [
      "\u001b[34m\u001b[1mwandb\u001b[0m: Sweep Agent: Waiting for job.\n",
      "\u001b[34m\u001b[1mwandb\u001b[0m: Job received.\n",
      "\u001b[34m\u001b[1mwandb\u001b[0m: Agent Starting Run: zae02eul with config:\n",
      "\u001b[34m\u001b[1mwandb\u001b[0m: \tcell_type: GRU\n",
      "\u001b[34m\u001b[1mwandb\u001b[0m: \tdropout: 0.24\n",
      "\u001b[34m\u001b[1mwandb\u001b[0m: \tembedding_dim: 16\n",
      "\u001b[34m\u001b[1mwandb\u001b[0m: \tencoder_layers: 2\n",
      "\u001b[34m\u001b[1mwandb\u001b[0m: \tepochs: 10\n",
      "\u001b[34m\u001b[1mwandb\u001b[0m: \thidden_size: 64\n"
     ]
    },
    {
     "data": {
      "text/html": [
       "Tracking run with wandb version 0.19.9"
      ],
      "text/plain": [
       "<IPython.core.display.HTML object>"
      ]
     },
     "metadata": {},
     "output_type": "display_data"
    },
    {
     "data": {
      "text/html": [
       "Run data is saved locally in <code>/kaggle/working/wandb/run-20250519_171112-zae02eul</code>"
      ],
      "text/plain": [
       "<IPython.core.display.HTML object>"
      ]
     },
     "metadata": {},
     "output_type": "display_data"
    },
    {
     "data": {
      "text/html": [
       "Syncing run <strong><a href='https://wandb.ai/mm21b010-indian-institute-of-technology-madras/dakshina-transliteration/runs/zae02eul' target=\"_blank\">grateful-sweep-4</a></strong> to <a href='https://wandb.ai/mm21b010-indian-institute-of-technology-madras/dakshina-transliteration' target=\"_blank\">Weights & Biases</a> (<a href='https://wandb.me/developer-guide' target=\"_blank\">docs</a>)<br>Sweep page: <a href='https://wandb.ai/mm21b010-indian-institute-of-technology-madras/dakshina-transliteration/sweeps/9tg1us73' target=\"_blank\">https://wandb.ai/mm21b010-indian-institute-of-technology-madras/dakshina-transliteration/sweeps/9tg1us73</a>"
      ],
      "text/plain": [
       "<IPython.core.display.HTML object>"
      ]
     },
     "metadata": {},
     "output_type": "display_data"
    },
    {
     "data": {
      "text/html": [
       " View project at <a href='https://wandb.ai/mm21b010-indian-institute-of-technology-madras/dakshina-transliteration' target=\"_blank\">https://wandb.ai/mm21b010-indian-institute-of-technology-madras/dakshina-transliteration</a>"
      ],
      "text/plain": [
       "<IPython.core.display.HTML object>"
      ]
     },
     "metadata": {},
     "output_type": "display_data"
    },
    {
     "data": {
      "text/html": [
       " View sweep at <a href='https://wandb.ai/mm21b010-indian-institute-of-technology-madras/dakshina-transliteration/sweeps/9tg1us73' target=\"_blank\">https://wandb.ai/mm21b010-indian-institute-of-technology-madras/dakshina-transliteration/sweeps/9tg1us73</a>"
      ],
      "text/plain": [
       "<IPython.core.display.HTML object>"
      ]
     },
     "metadata": {},
     "output_type": "display_data"
    },
    {
     "data": {
      "text/html": [
       " View run at <a href='https://wandb.ai/mm21b010-indian-institute-of-technology-madras/dakshina-transliteration/runs/zae02eul' target=\"_blank\">https://wandb.ai/mm21b010-indian-institute-of-technology-madras/dakshina-transliteration/runs/zae02eul</a>"
      ],
      "text/plain": [
       "<IPython.core.display.HTML object>"
      ]
     },
     "metadata": {},
     "output_type": "display_data"
    },
    {
     "name": "stderr",
     "output_type": "stream",
     "text": [
      "Epoch 1: 100%|██████████| 1382/1382 [01:36<00:00, 14.33it/s, acc=0.672, loss=1.04] \n",
      "Epoch 2: 100%|██████████| 1382/1382 [01:36<00:00, 14.32it/s, acc=0.709, loss=1.13] \n",
      "Epoch 3: 100%|██████████| 1382/1382 [01:36<00:00, 14.28it/s, acc=0.795, loss=0.537]\n",
      "Epoch 4: 100%|██████████| 1382/1382 [01:36<00:00, 14.39it/s, acc=0.774, loss=0.605]\n",
      "Epoch 5: 100%|██████████| 1382/1382 [01:34<00:00, 14.63it/s, acc=0.838, loss=0.481]\n",
      "Epoch 6: 100%|██████████| 1382/1382 [01:34<00:00, 14.64it/s, acc=0.897, loss=0.486]\n",
      "Epoch 7: 100%|██████████| 1382/1382 [01:34<00:00, 14.64it/s, acc=0.836, loss=0.455]\n",
      "Epoch 8: 100%|██████████| 1382/1382 [01:34<00:00, 14.62it/s, acc=0.747, loss=0.867]\n",
      "Epoch 9: 100%|██████████| 1382/1382 [01:34<00:00, 14.63it/s, acc=0.835, loss=0.505]\n",
      "Epoch 10: 100%|██████████| 1382/1382 [01:34<00:00, 14.58it/s, acc=0.866, loss=0.536]\n"
     ]
    },
    {
     "data": {
      "text/html": [],
      "text/plain": [
       "<IPython.core.display.HTML object>"
      ]
     },
     "metadata": {},
     "output_type": "display_data"
    },
    {
     "data": {
      "text/html": [
       "<br>    <style><br>        .wandb-row {<br>            display: flex;<br>            flex-direction: row;<br>            flex-wrap: wrap;<br>            justify-content: flex-start;<br>            width: 100%;<br>        }<br>        .wandb-col {<br>            display: flex;<br>            flex-direction: column;<br>            flex-basis: 100%;<br>            flex: 1;<br>            padding: 10px;<br>        }<br>    </style><br><div class=\"wandb-row\"><div class=\"wandb-col\"><h3>Run history:</h3><br/><table class=\"wandb\"><tr><td>epoch</td><td>▁▂▃▃▄▅▆▆▇█</td></tr><tr><td>train_accuracy</td><td>▁▆▇▇▇▇████</td></tr><tr><td>train_loss</td><td>█▃▂▂▂▁▁▁▁▁</td></tr><tr><td>val_accuracy</td><td>▁▄▆▆▇▇▇▇██</td></tr><tr><td>val_loss</td><td>█▅▃▃▂▂▂▂▁▁</td></tr></table><br/></div><div class=\"wandb-col\"><h3>Run summary:</h3><br/><table class=\"wandb\"><tr><td>epoch</td><td>9</td></tr><tr><td>train_accuracy</td><td>0.81875</td></tr><tr><td>train_loss</td><td>0.5964</td></tr><tr><td>val_accuracy</td><td>0.78626</td></tr><tr><td>val_loss</td><td>0.71011</td></tr></table><br/></div></div>"
      ],
      "text/plain": [
       "<IPython.core.display.HTML object>"
      ]
     },
     "metadata": {},
     "output_type": "display_data"
    },
    {
     "data": {
      "text/html": [
       " View run <strong style=\"color:#cdcd00\">GRU_epochs10_emb16_hid64_enc2_dec2_do24</strong> at: <a href='https://wandb.ai/mm21b010-indian-institute-of-technology-madras/dakshina-transliteration/runs/zae02eul' target=\"_blank\">https://wandb.ai/mm21b010-indian-institute-of-technology-madras/dakshina-transliteration/runs/zae02eul</a><br> View project at: <a href='https://wandb.ai/mm21b010-indian-institute-of-technology-madras/dakshina-transliteration' target=\"_blank\">https://wandb.ai/mm21b010-indian-institute-of-technology-madras/dakshina-transliteration</a><br>Synced 5 W&B file(s), 0 media file(s), 0 artifact file(s) and 0 other file(s)"
      ],
      "text/plain": [
       "<IPython.core.display.HTML object>"
      ]
     },
     "metadata": {},
     "output_type": "display_data"
    },
    {
     "data": {
      "text/html": [
       "Find logs at: <code>./wandb/run-20250519_171112-zae02eul/logs</code>"
      ],
      "text/plain": [
       "<IPython.core.display.HTML object>"
      ]
     },
     "metadata": {},
     "output_type": "display_data"
    },
    {
     "name": "stderr",
     "output_type": "stream",
     "text": [
      "\u001b[34m\u001b[1mwandb\u001b[0m: Agent Starting Run: 8htgihwf with config:\n",
      "\u001b[34m\u001b[1mwandb\u001b[0m: \tcell_type: LSTM\n",
      "\u001b[34m\u001b[1mwandb\u001b[0m: \tdropout: 0.31\n",
      "\u001b[34m\u001b[1mwandb\u001b[0m: \tembedding_dim: 16\n",
      "\u001b[34m\u001b[1mwandb\u001b[0m: \tencoder_layers: 3\n",
      "\u001b[34m\u001b[1mwandb\u001b[0m: \tepochs: 10\n",
      "\u001b[34m\u001b[1mwandb\u001b[0m: \thidden_size: 64\n"
     ]
    },
    {
     "data": {
      "text/html": [
       "Tracking run with wandb version 0.19.9"
      ],
      "text/plain": [
       "<IPython.core.display.HTML object>"
      ]
     },
     "metadata": {},
     "output_type": "display_data"
    },
    {
     "data": {
      "text/html": [
       "Run data is saved locally in <code>/kaggle/working/wandb/run-20250519_172750-8htgihwf</code>"
      ],
      "text/plain": [
       "<IPython.core.display.HTML object>"
      ]
     },
     "metadata": {},
     "output_type": "display_data"
    },
    {
     "data": {
      "text/html": [
       "Syncing run <strong><a href='https://wandb.ai/mm21b010-indian-institute-of-technology-madras/dakshina-transliteration/runs/8htgihwf' target=\"_blank\">laced-sweep-5</a></strong> to <a href='https://wandb.ai/mm21b010-indian-institute-of-technology-madras/dakshina-transliteration' target=\"_blank\">Weights & Biases</a> (<a href='https://wandb.me/developer-guide' target=\"_blank\">docs</a>)<br>Sweep page: <a href='https://wandb.ai/mm21b010-indian-institute-of-technology-madras/dakshina-transliteration/sweeps/9tg1us73' target=\"_blank\">https://wandb.ai/mm21b010-indian-institute-of-technology-madras/dakshina-transliteration/sweeps/9tg1us73</a>"
      ],
      "text/plain": [
       "<IPython.core.display.HTML object>"
      ]
     },
     "metadata": {},
     "output_type": "display_data"
    },
    {
     "data": {
      "text/html": [
       " View project at <a href='https://wandb.ai/mm21b010-indian-institute-of-technology-madras/dakshina-transliteration' target=\"_blank\">https://wandb.ai/mm21b010-indian-institute-of-technology-madras/dakshina-transliteration</a>"
      ],
      "text/plain": [
       "<IPython.core.display.HTML object>"
      ]
     },
     "metadata": {},
     "output_type": "display_data"
    },
    {
     "data": {
      "text/html": [
       " View sweep at <a href='https://wandb.ai/mm21b010-indian-institute-of-technology-madras/dakshina-transliteration/sweeps/9tg1us73' target=\"_blank\">https://wandb.ai/mm21b010-indian-institute-of-technology-madras/dakshina-transliteration/sweeps/9tg1us73</a>"
      ],
      "text/plain": [
       "<IPython.core.display.HTML object>"
      ]
     },
     "metadata": {},
     "output_type": "display_data"
    },
    {
     "data": {
      "text/html": [
       " View run at <a href='https://wandb.ai/mm21b010-indian-institute-of-technology-madras/dakshina-transliteration/runs/8htgihwf' target=\"_blank\">https://wandb.ai/mm21b010-indian-institute-of-technology-madras/dakshina-transliteration/runs/8htgihwf</a>"
      ],
      "text/plain": [
       "<IPython.core.display.HTML object>"
      ]
     },
     "metadata": {},
     "output_type": "display_data"
    },
    {
     "name": "stderr",
     "output_type": "stream",
     "text": [
      "Epoch 1: 100%|██████████| 1382/1382 [01:38<00:00, 14.09it/s, acc=0.535, loss=1.62]\n",
      "Epoch 2: 100%|██████████| 1382/1382 [01:38<00:00, 14.06it/s, acc=0.545, loss=1.49] \n",
      "Epoch 3: 100%|██████████| 1382/1382 [01:38<00:00, 14.04it/s, acc=0.738, loss=0.982]\n",
      "Epoch 4: 100%|██████████| 1382/1382 [01:38<00:00, 14.00it/s, acc=0.712, loss=0.915]\n",
      "Epoch 5: 100%|██████████| 1382/1382 [01:38<00:00, 14.05it/s, acc=0.681, loss=0.838]\n",
      "Epoch 6: 100%|██████████| 1382/1382 [01:38<00:00, 14.00it/s, acc=0.747, loss=0.908]\n",
      "Epoch 7: 100%|██████████| 1382/1382 [01:38<00:00, 13.99it/s, acc=0.74, loss=0.812] \n",
      "Epoch 8: 100%|██████████| 1382/1382 [01:38<00:00, 14.02it/s, acc=0.677, loss=0.954]\n",
      "Epoch 9: 100%|██████████| 1382/1382 [01:38<00:00, 13.99it/s, acc=0.829, loss=0.575]\n",
      "Epoch 10: 100%|██████████| 1382/1382 [01:38<00:00, 14.03it/s, acc=0.776, loss=0.83] \n"
     ]
    },
    {
     "data": {
      "text/html": [],
      "text/plain": [
       "<IPython.core.display.HTML object>"
      ]
     },
     "metadata": {},
     "output_type": "display_data"
    },
    {
     "data": {
      "text/html": [
       "<br>    <style><br>        .wandb-row {<br>            display: flex;<br>            flex-direction: row;<br>            flex-wrap: wrap;<br>            justify-content: flex-start;<br>            width: 100%;<br>        }<br>        .wandb-col {<br>            display: flex;<br>            flex-direction: column;<br>            flex-basis: 100%;<br>            flex: 1;<br>            padding: 10px;<br>        }<br>    </style><br><div class=\"wandb-row\"><div class=\"wandb-col\"><h3>Run history:</h3><br/><table class=\"wandb\"><tr><td>epoch</td><td>▁▂▃▃▄▅▆▆▇█</td></tr><tr><td>train_accuracy</td><td>▁▆▇▇▇█████</td></tr><tr><td>train_loss</td><td>█▃▂▂▂▁▁▁▁▁</td></tr><tr><td>val_accuracy</td><td>▁▅▆▆▇▇▇███</td></tr><tr><td>val_loss</td><td>█▄▃▂▂▂▂▁▁▁</td></tr></table><br/></div><div class=\"wandb-col\"><h3>Run summary:</h3><br/><table class=\"wandb\"><tr><td>epoch</td><td>9</td></tr><tr><td>train_accuracy</td><td>0.80945</td></tr><tr><td>train_loss</td><td>0.62801</td></tr><tr><td>val_accuracy</td><td>0.78384</td></tr><tr><td>val_loss</td><td>0.71542</td></tr></table><br/></div></div>"
      ],
      "text/plain": [
       "<IPython.core.display.HTML object>"
      ]
     },
     "metadata": {},
     "output_type": "display_data"
    },
    {
     "data": {
      "text/html": [
       " View run <strong style=\"color:#cdcd00\">LSTM_epochs10_emb16_hid64_enc3_dec3_do31</strong> at: <a href='https://wandb.ai/mm21b010-indian-institute-of-technology-madras/dakshina-transliteration/runs/8htgihwf' target=\"_blank\">https://wandb.ai/mm21b010-indian-institute-of-technology-madras/dakshina-transliteration/runs/8htgihwf</a><br> View project at: <a href='https://wandb.ai/mm21b010-indian-institute-of-technology-madras/dakshina-transliteration' target=\"_blank\">https://wandb.ai/mm21b010-indian-institute-of-technology-madras/dakshina-transliteration</a><br>Synced 5 W&B file(s), 0 media file(s), 0 artifact file(s) and 0 other file(s)"
      ],
      "text/plain": [
       "<IPython.core.display.HTML object>"
      ]
     },
     "metadata": {},
     "output_type": "display_data"
    },
    {
     "data": {
      "text/html": [
       "Find logs at: <code>./wandb/run-20250519_172750-8htgihwf/logs</code>"
      ],
      "text/plain": [
       "<IPython.core.display.HTML object>"
      ]
     },
     "metadata": {},
     "output_type": "display_data"
    },
    {
     "name": "stderr",
     "output_type": "stream",
     "text": [
      "\u001b[34m\u001b[1mwandb\u001b[0m: Agent Starting Run: wnbxdb76 with config:\n",
      "\u001b[34m\u001b[1mwandb\u001b[0m: \tcell_type: LSTM\n",
      "\u001b[34m\u001b[1mwandb\u001b[0m: \tdropout: 0.24\n",
      "\u001b[34m\u001b[1mwandb\u001b[0m: \tembedding_dim: 32\n",
      "\u001b[34m\u001b[1mwandb\u001b[0m: \tencoder_layers: 3\n",
      "\u001b[34m\u001b[1mwandb\u001b[0m: \tepochs: 10\n",
      "\u001b[34m\u001b[1mwandb\u001b[0m: \thidden_size: 64\n"
     ]
    },
    {
     "data": {
      "text/html": [
       "Tracking run with wandb version 0.19.9"
      ],
      "text/plain": [
       "<IPython.core.display.HTML object>"
      ]
     },
     "metadata": {},
     "output_type": "display_data"
    },
    {
     "data": {
      "text/html": [
       "Run data is saved locally in <code>/kaggle/working/wandb/run-20250519_174459-wnbxdb76</code>"
      ],
      "text/plain": [
       "<IPython.core.display.HTML object>"
      ]
     },
     "metadata": {},
     "output_type": "display_data"
    },
    {
     "data": {
      "text/html": [
       "Syncing run <strong><a href='https://wandb.ai/mm21b010-indian-institute-of-technology-madras/dakshina-transliteration/runs/wnbxdb76' target=\"_blank\">snowy-sweep-6</a></strong> to <a href='https://wandb.ai/mm21b010-indian-institute-of-technology-madras/dakshina-transliteration' target=\"_blank\">Weights & Biases</a> (<a href='https://wandb.me/developer-guide' target=\"_blank\">docs</a>)<br>Sweep page: <a href='https://wandb.ai/mm21b010-indian-institute-of-technology-madras/dakshina-transliteration/sweeps/9tg1us73' target=\"_blank\">https://wandb.ai/mm21b010-indian-institute-of-technology-madras/dakshina-transliteration/sweeps/9tg1us73</a>"
      ],
      "text/plain": [
       "<IPython.core.display.HTML object>"
      ]
     },
     "metadata": {},
     "output_type": "display_data"
    },
    {
     "data": {
      "text/html": [
       " View project at <a href='https://wandb.ai/mm21b010-indian-institute-of-technology-madras/dakshina-transliteration' target=\"_blank\">https://wandb.ai/mm21b010-indian-institute-of-technology-madras/dakshina-transliteration</a>"
      ],
      "text/plain": [
       "<IPython.core.display.HTML object>"
      ]
     },
     "metadata": {},
     "output_type": "display_data"
    },
    {
     "data": {
      "text/html": [
       " View sweep at <a href='https://wandb.ai/mm21b010-indian-institute-of-technology-madras/dakshina-transliteration/sweeps/9tg1us73' target=\"_blank\">https://wandb.ai/mm21b010-indian-institute-of-technology-madras/dakshina-transliteration/sweeps/9tg1us73</a>"
      ],
      "text/plain": [
       "<IPython.core.display.HTML object>"
      ]
     },
     "metadata": {},
     "output_type": "display_data"
    },
    {
     "data": {
      "text/html": [
       " View run at <a href='https://wandb.ai/mm21b010-indian-institute-of-technology-madras/dakshina-transliteration/runs/wnbxdb76' target=\"_blank\">https://wandb.ai/mm21b010-indian-institute-of-technology-madras/dakshina-transliteration/runs/wnbxdb76</a>"
      ],
      "text/plain": [
       "<IPython.core.display.HTML object>"
      ]
     },
     "metadata": {},
     "output_type": "display_data"
    },
    {
     "name": "stderr",
     "output_type": "stream",
     "text": [
      "Epoch 1: 100%|██████████| 1382/1382 [01:38<00:00, 13.99it/s, acc=0.703, loss=0.929]\n",
      "Epoch 2: 100%|██████████| 1382/1382 [01:38<00:00, 13.99it/s, acc=0.75, loss=0.792] \n",
      "Epoch 3: 100%|██████████| 1382/1382 [01:38<00:00, 14.01it/s, acc=0.797, loss=0.682]\n",
      "Epoch 4: 100%|██████████| 1382/1382 [01:38<00:00, 14.00it/s, acc=0.743, loss=0.782]\n",
      "Epoch 5: 100%|██████████| 1382/1382 [01:38<00:00, 14.00it/s, acc=0.816, loss=0.497]\n",
      "Epoch 6: 100%|██████████| 1382/1382 [01:38<00:00, 14.01it/s, acc=0.734, loss=0.656]\n",
      "Epoch 7: 100%|██████████| 1382/1382 [01:38<00:00, 13.99it/s, acc=0.8, loss=0.591]  \n",
      "Epoch 8: 100%|██████████| 1382/1382 [01:38<00:00, 14.01it/s, acc=0.846, loss=0.439]\n",
      "Epoch 9: 100%|██████████| 1382/1382 [01:39<00:00, 13.96it/s, acc=0.789, loss=0.528]\n",
      "Epoch 10: 100%|██████████| 1382/1382 [01:41<00:00, 13.58it/s, acc=0.924, loss=0.327]\n"
     ]
    },
    {
     "data": {
      "text/html": [],
      "text/plain": [
       "<IPython.core.display.HTML object>"
      ]
     },
     "metadata": {},
     "output_type": "display_data"
    },
    {
     "data": {
      "text/html": [
       "<br>    <style><br>        .wandb-row {<br>            display: flex;<br>            flex-direction: row;<br>            flex-wrap: wrap;<br>            justify-content: flex-start;<br>            width: 100%;<br>        }<br>        .wandb-col {<br>            display: flex;<br>            flex-direction: column;<br>            flex-basis: 100%;<br>            flex: 1;<br>            padding: 10px;<br>        }<br>    </style><br><div class=\"wandb-row\"><div class=\"wandb-col\"><h3>Run history:</h3><br/><table class=\"wandb\"><tr><td>epoch</td><td>▁▂▃▃▄▅▆▆▇█</td></tr><tr><td>train_accuracy</td><td>▁▆▆▇▇▇████</td></tr><tr><td>train_loss</td><td>█▃▂▂▂▁▁▁▁▁</td></tr><tr><td>val_accuracy</td><td>▁▃▅▆▇▆████</td></tr><tr><td>val_loss</td><td>█▅▄▃▂▂▁▁▁▁</td></tr></table><br/></div><div class=\"wandb-col\"><h3>Run summary:</h3><br/><table class=\"wandb\"><tr><td>epoch</td><td>9</td></tr><tr><td>train_accuracy</td><td>0.82358</td></tr><tr><td>train_loss</td><td>0.58307</td></tr><tr><td>val_accuracy</td><td>0.785</td></tr><tr><td>val_loss</td><td>0.72653</td></tr></table><br/></div></div>"
      ],
      "text/plain": [
       "<IPython.core.display.HTML object>"
      ]
     },
     "metadata": {},
     "output_type": "display_data"
    },
    {
     "data": {
      "text/html": [
       " View run <strong style=\"color:#cdcd00\">LSTM_epochs10_emb32_hid64_enc3_dec3_do24</strong> at: <a href='https://wandb.ai/mm21b010-indian-institute-of-technology-madras/dakshina-transliteration/runs/wnbxdb76' target=\"_blank\">https://wandb.ai/mm21b010-indian-institute-of-technology-madras/dakshina-transliteration/runs/wnbxdb76</a><br> View project at: <a href='https://wandb.ai/mm21b010-indian-institute-of-technology-madras/dakshina-transliteration' target=\"_blank\">https://wandb.ai/mm21b010-indian-institute-of-technology-madras/dakshina-transliteration</a><br>Synced 5 W&B file(s), 0 media file(s), 0 artifact file(s) and 0 other file(s)"
      ],
      "text/plain": [
       "<IPython.core.display.HTML object>"
      ]
     },
     "metadata": {},
     "output_type": "display_data"
    },
    {
     "data": {
      "text/html": [
       "Find logs at: <code>./wandb/run-20250519_174459-wnbxdb76/logs</code>"
      ],
      "text/plain": [
       "<IPython.core.display.HTML object>"
      ]
     },
     "metadata": {},
     "output_type": "display_data"
    },
    {
     "name": "stderr",
     "output_type": "stream",
     "text": [
      "\u001b[34m\u001b[1mwandb\u001b[0m: Agent Starting Run: idfbrq1w with config:\n",
      "\u001b[34m\u001b[1mwandb\u001b[0m: \tcell_type: GRU\n",
      "\u001b[34m\u001b[1mwandb\u001b[0m: \tdropout: 0.24\n",
      "\u001b[34m\u001b[1mwandb\u001b[0m: \tembedding_dim: 32\n",
      "\u001b[34m\u001b[1mwandb\u001b[0m: \tencoder_layers: 2\n",
      "\u001b[34m\u001b[1mwandb\u001b[0m: \tepochs: 10\n",
      "\u001b[34m\u001b[1mwandb\u001b[0m: \thidden_size: 64\n"
     ]
    },
    {
     "data": {
      "text/html": [
       "Tracking run with wandb version 0.19.9"
      ],
      "text/plain": [
       "<IPython.core.display.HTML object>"
      ]
     },
     "metadata": {},
     "output_type": "display_data"
    },
    {
     "data": {
      "text/html": [
       "Run data is saved locally in <code>/kaggle/working/wandb/run-20250519_180213-idfbrq1w</code>"
      ],
      "text/plain": [
       "<IPython.core.display.HTML object>"
      ]
     },
     "metadata": {},
     "output_type": "display_data"
    },
    {
     "data": {
      "text/html": [
       "Syncing run <strong><a href='https://wandb.ai/mm21b010-indian-institute-of-technology-madras/dakshina-transliteration/runs/idfbrq1w' target=\"_blank\">magic-sweep-7</a></strong> to <a href='https://wandb.ai/mm21b010-indian-institute-of-technology-madras/dakshina-transliteration' target=\"_blank\">Weights & Biases</a> (<a href='https://wandb.me/developer-guide' target=\"_blank\">docs</a>)<br>Sweep page: <a href='https://wandb.ai/mm21b010-indian-institute-of-technology-madras/dakshina-transliteration/sweeps/9tg1us73' target=\"_blank\">https://wandb.ai/mm21b010-indian-institute-of-technology-madras/dakshina-transliteration/sweeps/9tg1us73</a>"
      ],
      "text/plain": [
       "<IPython.core.display.HTML object>"
      ]
     },
     "metadata": {},
     "output_type": "display_data"
    },
    {
     "data": {
      "text/html": [
       " View project at <a href='https://wandb.ai/mm21b010-indian-institute-of-technology-madras/dakshina-transliteration' target=\"_blank\">https://wandb.ai/mm21b010-indian-institute-of-technology-madras/dakshina-transliteration</a>"
      ],
      "text/plain": [
       "<IPython.core.display.HTML object>"
      ]
     },
     "metadata": {},
     "output_type": "display_data"
    },
    {
     "data": {
      "text/html": [
       " View sweep at <a href='https://wandb.ai/mm21b010-indian-institute-of-technology-madras/dakshina-transliteration/sweeps/9tg1us73' target=\"_blank\">https://wandb.ai/mm21b010-indian-institute-of-technology-madras/dakshina-transliteration/sweeps/9tg1us73</a>"
      ],
      "text/plain": [
       "<IPython.core.display.HTML object>"
      ]
     },
     "metadata": {},
     "output_type": "display_data"
    },
    {
     "data": {
      "text/html": [
       " View run at <a href='https://wandb.ai/mm21b010-indian-institute-of-technology-madras/dakshina-transliteration/runs/idfbrq1w' target=\"_blank\">https://wandb.ai/mm21b010-indian-institute-of-technology-madras/dakshina-transliteration/runs/idfbrq1w</a>"
      ],
      "text/plain": [
       "<IPython.core.display.HTML object>"
      ]
     },
     "metadata": {},
     "output_type": "display_data"
    },
    {
     "name": "stderr",
     "output_type": "stream",
     "text": [
      "Epoch 1: 100%|██████████| 1382/1382 [01:36<00:00, 14.28it/s, acc=0.784, loss=0.837]\n",
      "Epoch 2: 100%|██████████| 1382/1382 [01:36<00:00, 14.35it/s, acc=0.7, loss=1.11]   \n",
      "Epoch 3: 100%|██████████| 1382/1382 [01:36<00:00, 14.39it/s, acc=0.85, loss=0.498] \n",
      "Epoch 4: 100%|██████████| 1382/1382 [01:36<00:00, 14.36it/s, acc=0.732, loss=0.922]\n",
      "Epoch 5: 100%|██████████| 1382/1382 [01:36<00:00, 14.31it/s, acc=0.803, loss=0.862]\n",
      "Epoch 6: 100%|██████████| 1382/1382 [01:36<00:00, 14.35it/s, acc=0.773, loss=0.776]\n",
      "Epoch 7: 100%|██████████| 1382/1382 [01:36<00:00, 14.32it/s, acc=0.833, loss=0.443]\n",
      "Epoch 8: 100%|██████████| 1382/1382 [01:36<00:00, 14.34it/s, acc=0.838, loss=0.597]\n",
      "Epoch 9: 100%|██████████| 1382/1382 [01:36<00:00, 14.33it/s, acc=0.865, loss=0.442]\n",
      "Epoch 10: 100%|██████████| 1382/1382 [01:36<00:00, 14.31it/s, acc=0.816, loss=0.8]  \n"
     ]
    },
    {
     "data": {
      "text/html": [],
      "text/plain": [
       "<IPython.core.display.HTML object>"
      ]
     },
     "metadata": {},
     "output_type": "display_data"
    },
    {
     "data": {
      "text/html": [
       "<br>    <style><br>        .wandb-row {<br>            display: flex;<br>            flex-direction: row;<br>            flex-wrap: wrap;<br>            justify-content: flex-start;<br>            width: 100%;<br>        }<br>        .wandb-col {<br>            display: flex;<br>            flex-direction: column;<br>            flex-basis: 100%;<br>            flex: 1;<br>            padding: 10px;<br>        }<br>    </style><br><div class=\"wandb-row\"><div class=\"wandb-col\"><h3>Run history:</h3><br/><table class=\"wandb\"><tr><td>epoch</td><td>▁▂▃▃▄▅▆▆▇█</td></tr><tr><td>train_accuracy</td><td>▁▆▆▇▇▇████</td></tr><tr><td>train_loss</td><td>█▃▂▂▂▁▁▁▁▁</td></tr><tr><td>val_accuracy</td><td>▁▄▅▆▇▇▇█▇█</td></tr><tr><td>val_loss</td><td>█▅▃▃▂▂▂▁▂▁</td></tr></table><br/></div><div class=\"wandb-col\"><h3>Run summary:</h3><br/><table class=\"wandb\"><tr><td>epoch</td><td>9</td></tr><tr><td>train_accuracy</td><td>0.82901</td></tr><tr><td>train_loss</td><td>0.56552</td></tr><tr><td>val_accuracy</td><td>0.78833</td></tr><tr><td>val_loss</td><td>0.69394</td></tr></table><br/></div></div>"
      ],
      "text/plain": [
       "<IPython.core.display.HTML object>"
      ]
     },
     "metadata": {},
     "output_type": "display_data"
    },
    {
     "data": {
      "text/html": [
       " View run <strong style=\"color:#cdcd00\">GRU_epochs10_emb32_hid64_enc2_dec2_do24</strong> at: <a href='https://wandb.ai/mm21b010-indian-institute-of-technology-madras/dakshina-transliteration/runs/idfbrq1w' target=\"_blank\">https://wandb.ai/mm21b010-indian-institute-of-technology-madras/dakshina-transliteration/runs/idfbrq1w</a><br> View project at: <a href='https://wandb.ai/mm21b010-indian-institute-of-technology-madras/dakshina-transliteration' target=\"_blank\">https://wandb.ai/mm21b010-indian-institute-of-technology-madras/dakshina-transliteration</a><br>Synced 5 W&B file(s), 0 media file(s), 0 artifact file(s) and 0 other file(s)"
      ],
      "text/plain": [
       "<IPython.core.display.HTML object>"
      ]
     },
     "metadata": {},
     "output_type": "display_data"
    },
    {
     "data": {
      "text/html": [
       "Find logs at: <code>./wandb/run-20250519_180213-idfbrq1w/logs</code>"
      ],
      "text/plain": [
       "<IPython.core.display.HTML object>"
      ]
     },
     "metadata": {},
     "output_type": "display_data"
    },
    {
     "name": "stderr",
     "output_type": "stream",
     "text": [
      "\u001b[34m\u001b[1mwandb\u001b[0m: Agent Starting Run: p07rsys7 with config:\n",
      "\u001b[34m\u001b[1mwandb\u001b[0m: \tcell_type: GRU\n",
      "\u001b[34m\u001b[1mwandb\u001b[0m: \tdropout: 0.24\n",
      "\u001b[34m\u001b[1mwandb\u001b[0m: \tembedding_dim: 16\n",
      "\u001b[34m\u001b[1mwandb\u001b[0m: \tencoder_layers: 3\n",
      "\u001b[34m\u001b[1mwandb\u001b[0m: \tepochs: 10\n",
      "\u001b[34m\u001b[1mwandb\u001b[0m: \thidden_size: 256\n"
     ]
    },
    {
     "data": {
      "text/html": [
       "Tracking run with wandb version 0.19.9"
      ],
      "text/plain": [
       "<IPython.core.display.HTML object>"
      ]
     },
     "metadata": {},
     "output_type": "display_data"
    },
    {
     "data": {
      "text/html": [
       "Run data is saved locally in <code>/kaggle/working/wandb/run-20250519_181900-p07rsys7</code>"
      ],
      "text/plain": [
       "<IPython.core.display.HTML object>"
      ]
     },
     "metadata": {},
     "output_type": "display_data"
    },
    {
     "data": {
      "text/html": [
       "Syncing run <strong><a href='https://wandb.ai/mm21b010-indian-institute-of-technology-madras/dakshina-transliteration/runs/p07rsys7' target=\"_blank\">dauntless-sweep-8</a></strong> to <a href='https://wandb.ai/mm21b010-indian-institute-of-technology-madras/dakshina-transliteration' target=\"_blank\">Weights & Biases</a> (<a href='https://wandb.me/developer-guide' target=\"_blank\">docs</a>)<br>Sweep page: <a href='https://wandb.ai/mm21b010-indian-institute-of-technology-madras/dakshina-transliteration/sweeps/9tg1us73' target=\"_blank\">https://wandb.ai/mm21b010-indian-institute-of-technology-madras/dakshina-transliteration/sweeps/9tg1us73</a>"
      ],
      "text/plain": [
       "<IPython.core.display.HTML object>"
      ]
     },
     "metadata": {},
     "output_type": "display_data"
    },
    {
     "data": {
      "text/html": [
       " View project at <a href='https://wandb.ai/mm21b010-indian-institute-of-technology-madras/dakshina-transliteration' target=\"_blank\">https://wandb.ai/mm21b010-indian-institute-of-technology-madras/dakshina-transliteration</a>"
      ],
      "text/plain": [
       "<IPython.core.display.HTML object>"
      ]
     },
     "metadata": {},
     "output_type": "display_data"
    },
    {
     "data": {
      "text/html": [
       " View sweep at <a href='https://wandb.ai/mm21b010-indian-institute-of-technology-madras/dakshina-transliteration/sweeps/9tg1us73' target=\"_blank\">https://wandb.ai/mm21b010-indian-institute-of-technology-madras/dakshina-transliteration/sweeps/9tg1us73</a>"
      ],
      "text/plain": [
       "<IPython.core.display.HTML object>"
      ]
     },
     "metadata": {},
     "output_type": "display_data"
    },
    {
     "data": {
      "text/html": [
       " View run at <a href='https://wandb.ai/mm21b010-indian-institute-of-technology-madras/dakshina-transliteration/runs/p07rsys7' target=\"_blank\">https://wandb.ai/mm21b010-indian-institute-of-technology-madras/dakshina-transliteration/runs/p07rsys7</a>"
      ],
      "text/plain": [
       "<IPython.core.display.HTML object>"
      ]
     },
     "metadata": {},
     "output_type": "display_data"
    },
    {
     "name": "stderr",
     "output_type": "stream",
     "text": [
      "Epoch 1: 100%|██████████| 1382/1382 [01:40<00:00, 13.77it/s, acc=0.615, loss=0.923]\n",
      "Epoch 2: 100%|██████████| 1382/1382 [01:40<00:00, 13.76it/s, acc=0.723, loss=0.692]\n",
      "Epoch 3: 100%|██████████| 1382/1382 [01:41<00:00, 13.60it/s, acc=0.877, loss=0.367]\n",
      "Epoch 4: 100%|██████████| 1382/1382 [01:41<00:00, 13.58it/s, acc=0.824, loss=0.528]\n",
      "Epoch 5: 100%|██████████| 1382/1382 [01:40<00:00, 13.72it/s, acc=0.842, loss=0.427]\n",
      "Epoch 6: 100%|██████████| 1382/1382 [01:40<00:00, 13.73it/s, acc=0.938, loss=0.227]\n",
      "Epoch 7: 100%|██████████| 1382/1382 [01:41<00:00, 13.57it/s, acc=0.914, loss=0.354]\n",
      "Epoch 8: 100%|██████████| 1382/1382 [01:40<00:00, 13.77it/s, acc=0.802, loss=0.798]\n",
      "Epoch 9: 100%|██████████| 1382/1382 [01:40<00:00, 13.77it/s, acc=0.902, loss=0.345]\n",
      "Epoch 10: 100%|██████████| 1382/1382 [01:40<00:00, 13.79it/s, acc=0.951, loss=0.173]\n"
     ]
    },
    {
     "data": {
      "text/html": [],
      "text/plain": [
       "<IPython.core.display.HTML object>"
      ]
     },
     "metadata": {},
     "output_type": "display_data"
    },
    {
     "data": {
      "text/html": [
       "<br>    <style><br>        .wandb-row {<br>            display: flex;<br>            flex-direction: row;<br>            flex-wrap: wrap;<br>            justify-content: flex-start;<br>            width: 100%;<br>        }<br>        .wandb-col {<br>            display: flex;<br>            flex-direction: column;<br>            flex-basis: 100%;<br>            flex: 1;<br>            padding: 10px;<br>        }<br>    </style><br><div class=\"wandb-row\"><div class=\"wandb-col\"><h3>Run history:</h3><br/><table class=\"wandb\"><tr><td>epoch</td><td>▁▂▃▃▄▅▆▆▇█</td></tr><tr><td>train_accuracy</td><td>▁▅▆▇▇▇▇███</td></tr><tr><td>train_loss</td><td>█▄▃▂▂▂▁▁▁▁</td></tr><tr><td>val_accuracy</td><td>▁▃▆▇▇▇▇██▇</td></tr><tr><td>val_loss</td><td>█▅▂▁▁▁▂▁▂▃</td></tr></table><br/></div><div class=\"wandb-col\"><h3>Run summary:</h3><br/><table class=\"wandb\"><tr><td>epoch</td><td>9</td></tr><tr><td>train_accuracy</td><td>0.90533</td></tr><tr><td>train_loss</td><td>0.30833</td></tr><tr><td>val_accuracy</td><td>0.80432</td></tr><tr><td>val_loss</td><td>0.69941</td></tr></table><br/></div></div>"
      ],
      "text/plain": [
       "<IPython.core.display.HTML object>"
      ]
     },
     "metadata": {},
     "output_type": "display_data"
    },
    {
     "data": {
      "text/html": [
       " View run <strong style=\"color:#cdcd00\">GRU_epochs10_emb16_hid256_enc3_dec3_do24</strong> at: <a href='https://wandb.ai/mm21b010-indian-institute-of-technology-madras/dakshina-transliteration/runs/p07rsys7' target=\"_blank\">https://wandb.ai/mm21b010-indian-institute-of-technology-madras/dakshina-transliteration/runs/p07rsys7</a><br> View project at: <a href='https://wandb.ai/mm21b010-indian-institute-of-technology-madras/dakshina-transliteration' target=\"_blank\">https://wandb.ai/mm21b010-indian-institute-of-technology-madras/dakshina-transliteration</a><br>Synced 5 W&B file(s), 0 media file(s), 0 artifact file(s) and 0 other file(s)"
      ],
      "text/plain": [
       "<IPython.core.display.HTML object>"
      ]
     },
     "metadata": {},
     "output_type": "display_data"
    },
    {
     "data": {
      "text/html": [
       "Find logs at: <code>./wandb/run-20250519_181900-p07rsys7/logs</code>"
      ],
      "text/plain": [
       "<IPython.core.display.HTML object>"
      ]
     },
     "metadata": {},
     "output_type": "display_data"
    },
    {
     "name": "stderr",
     "output_type": "stream",
     "text": [
      "\u001b[34m\u001b[1mwandb\u001b[0m: Agent Starting Run: os2p17z3 with config:\n",
      "\u001b[34m\u001b[1mwandb\u001b[0m: \tcell_type: GRU\n",
      "\u001b[34m\u001b[1mwandb\u001b[0m: \tdropout: 0.31\n",
      "\u001b[34m\u001b[1mwandb\u001b[0m: \tembedding_dim: 32\n",
      "\u001b[34m\u001b[1mwandb\u001b[0m: \tencoder_layers: 2\n",
      "\u001b[34m\u001b[1mwandb\u001b[0m: \tepochs: 10\n",
      "\u001b[34m\u001b[1mwandb\u001b[0m: \thidden_size: 256\n"
     ]
    },
    {
     "data": {
      "text/html": [
       "Tracking run with wandb version 0.19.9"
      ],
      "text/plain": [
       "<IPython.core.display.HTML object>"
      ]
     },
     "metadata": {},
     "output_type": "display_data"
    },
    {
     "data": {
      "text/html": [
       "Run data is saved locally in <code>/kaggle/working/wandb/run-20250519_183634-os2p17z3</code>"
      ],
      "text/plain": [
       "<IPython.core.display.HTML object>"
      ]
     },
     "metadata": {},
     "output_type": "display_data"
    },
    {
     "data": {
      "text/html": [
       "Syncing run <strong><a href='https://wandb.ai/mm21b010-indian-institute-of-technology-madras/dakshina-transliteration/runs/os2p17z3' target=\"_blank\">glorious-sweep-9</a></strong> to <a href='https://wandb.ai/mm21b010-indian-institute-of-technology-madras/dakshina-transliteration' target=\"_blank\">Weights & Biases</a> (<a href='https://wandb.me/developer-guide' target=\"_blank\">docs</a>)<br>Sweep page: <a href='https://wandb.ai/mm21b010-indian-institute-of-technology-madras/dakshina-transliteration/sweeps/9tg1us73' target=\"_blank\">https://wandb.ai/mm21b010-indian-institute-of-technology-madras/dakshina-transliteration/sweeps/9tg1us73</a>"
      ],
      "text/plain": [
       "<IPython.core.display.HTML object>"
      ]
     },
     "metadata": {},
     "output_type": "display_data"
    },
    {
     "data": {
      "text/html": [
       " View project at <a href='https://wandb.ai/mm21b010-indian-institute-of-technology-madras/dakshina-transliteration' target=\"_blank\">https://wandb.ai/mm21b010-indian-institute-of-technology-madras/dakshina-transliteration</a>"
      ],
      "text/plain": [
       "<IPython.core.display.HTML object>"
      ]
     },
     "metadata": {},
     "output_type": "display_data"
    },
    {
     "data": {
      "text/html": [
       " View sweep at <a href='https://wandb.ai/mm21b010-indian-institute-of-technology-madras/dakshina-transliteration/sweeps/9tg1us73' target=\"_blank\">https://wandb.ai/mm21b010-indian-institute-of-technology-madras/dakshina-transliteration/sweeps/9tg1us73</a>"
      ],
      "text/plain": [
       "<IPython.core.display.HTML object>"
      ]
     },
     "metadata": {},
     "output_type": "display_data"
    },
    {
     "data": {
      "text/html": [
       " View run at <a href='https://wandb.ai/mm21b010-indian-institute-of-technology-madras/dakshina-transliteration/runs/os2p17z3' target=\"_blank\">https://wandb.ai/mm21b010-indian-institute-of-technology-madras/dakshina-transliteration/runs/os2p17z3</a>"
      ],
      "text/plain": [
       "<IPython.core.display.HTML object>"
      ]
     },
     "metadata": {},
     "output_type": "display_data"
    },
    {
     "name": "stderr",
     "output_type": "stream",
     "text": [
      "Epoch 1: 100%|██████████| 1382/1382 [01:42<00:00, 13.42it/s, acc=0.724, loss=0.71] \n",
      "Epoch 2: 100%|██████████| 1382/1382 [01:41<00:00, 13.63it/s, acc=0.845, loss=0.535]\n",
      "Epoch 3: 100%|██████████| 1382/1382 [01:40<00:00, 13.77it/s, acc=0.812, loss=0.713]\n",
      "Epoch 4: 100%|██████████| 1382/1382 [01:40<00:00, 13.73it/s, acc=0.808, loss=0.731]\n",
      "Epoch 5: 100%|██████████| 1382/1382 [01:40<00:00, 13.73it/s, acc=0.962, loss=0.179]\n",
      "Epoch 6: 100%|██████████| 1382/1382 [01:40<00:00, 13.72it/s, acc=0.846, loss=0.494]\n",
      "Epoch 7: 100%|██████████| 1382/1382 [01:40<00:00, 13.70it/s, acc=0.942, loss=0.234]\n",
      "Epoch 8: 100%|██████████| 1382/1382 [01:40<00:00, 13.75it/s, acc=0.92, loss=0.23]  \n",
      "Epoch 9: 100%|██████████| 1382/1382 [01:40<00:00, 13.71it/s, acc=0.973, loss=0.087]\n",
      "Epoch 10: 100%|██████████| 1382/1382 [01:40<00:00, 13.70it/s, acc=0.811, loss=0.499] \n"
     ]
    },
    {
     "data": {
      "text/html": [],
      "text/plain": [
       "<IPython.core.display.HTML object>"
      ]
     },
     "metadata": {},
     "output_type": "display_data"
    },
    {
     "data": {
      "text/html": [
       "<br>    <style><br>        .wandb-row {<br>            display: flex;<br>            flex-direction: row;<br>            flex-wrap: wrap;<br>            justify-content: flex-start;<br>            width: 100%;<br>        }<br>        .wandb-col {<br>            display: flex;<br>            flex-direction: column;<br>            flex-basis: 100%;<br>            flex: 1;<br>            padding: 10px;<br>        }<br>    </style><br><div class=\"wandb-row\"><div class=\"wandb-col\"><h3>Run history:</h3><br/><table class=\"wandb\"><tr><td>epoch</td><td>▁▂▃▃▄▅▆▆▇█</td></tr><tr><td>train_accuracy</td><td>▁▅▆▇▇▇████</td></tr><tr><td>train_loss</td><td>█▃▃▂▂▂▁▁▁▁</td></tr><tr><td>val_accuracy</td><td>▁▄▆▆█▇█▇██</td></tr><tr><td>val_loss</td><td>█▄▂▂▁▂▂▃▃▅</td></tr></table><br/></div><div class=\"wandb-col\"><h3>Run summary:</h3><br/><table class=\"wandb\"><tr><td>epoch</td><td>9</td></tr><tr><td>train_accuracy</td><td>0.91866</td></tr><tr><td>train_loss</td><td>0.26932</td></tr><tr><td>val_accuracy</td><td>0.80963</td></tr><tr><td>val_loss</td><td>0.71778</td></tr></table><br/></div></div>"
      ],
      "text/plain": [
       "<IPython.core.display.HTML object>"
      ]
     },
     "metadata": {},
     "output_type": "display_data"
    },
    {
     "data": {
      "text/html": [
       " View run <strong style=\"color:#cdcd00\">GRU_epochs10_emb32_hid256_enc2_dec2_do31</strong> at: <a href='https://wandb.ai/mm21b010-indian-institute-of-technology-madras/dakshina-transliteration/runs/os2p17z3' target=\"_blank\">https://wandb.ai/mm21b010-indian-institute-of-technology-madras/dakshina-transliteration/runs/os2p17z3</a><br> View project at: <a href='https://wandb.ai/mm21b010-indian-institute-of-technology-madras/dakshina-transliteration' target=\"_blank\">https://wandb.ai/mm21b010-indian-institute-of-technology-madras/dakshina-transliteration</a><br>Synced 5 W&B file(s), 0 media file(s), 0 artifact file(s) and 0 other file(s)"
      ],
      "text/plain": [
       "<IPython.core.display.HTML object>"
      ]
     },
     "metadata": {},
     "output_type": "display_data"
    },
    {
     "data": {
      "text/html": [
       "Find logs at: <code>./wandb/run-20250519_183634-os2p17z3/logs</code>"
      ],
      "text/plain": [
       "<IPython.core.display.HTML object>"
      ]
     },
     "metadata": {},
     "output_type": "display_data"
    },
    {
     "name": "stderr",
     "output_type": "stream",
     "text": [
      "\u001b[34m\u001b[1mwandb\u001b[0m: Agent Starting Run: 5ypx9x6j with config:\n",
      "\u001b[34m\u001b[1mwandb\u001b[0m: \tcell_type: GRU\n",
      "\u001b[34m\u001b[1mwandb\u001b[0m: \tdropout: 0.24\n",
      "\u001b[34m\u001b[1mwandb\u001b[0m: \tembedding_dim: 16\n",
      "\u001b[34m\u001b[1mwandb\u001b[0m: \tencoder_layers: 3\n",
      "\u001b[34m\u001b[1mwandb\u001b[0m: \tepochs: 10\n",
      "\u001b[34m\u001b[1mwandb\u001b[0m: \thidden_size: 64\n"
     ]
    },
    {
     "data": {
      "text/html": [
       "Tracking run with wandb version 0.19.9"
      ],
      "text/plain": [
       "<IPython.core.display.HTML object>"
      ]
     },
     "metadata": {},
     "output_type": "display_data"
    },
    {
     "data": {
      "text/html": [
       "Run data is saved locally in <code>/kaggle/working/wandb/run-20250519_185413-5ypx9x6j</code>"
      ],
      "text/plain": [
       "<IPython.core.display.HTML object>"
      ]
     },
     "metadata": {},
     "output_type": "display_data"
    },
    {
     "data": {
      "text/html": [
       "Syncing run <strong><a href='https://wandb.ai/mm21b010-indian-institute-of-technology-madras/dakshina-transliteration/runs/5ypx9x6j' target=\"_blank\">cerulean-sweep-10</a></strong> to <a href='https://wandb.ai/mm21b010-indian-institute-of-technology-madras/dakshina-transliteration' target=\"_blank\">Weights & Biases</a> (<a href='https://wandb.me/developer-guide' target=\"_blank\">docs</a>)<br>Sweep page: <a href='https://wandb.ai/mm21b010-indian-institute-of-technology-madras/dakshina-transliteration/sweeps/9tg1us73' target=\"_blank\">https://wandb.ai/mm21b010-indian-institute-of-technology-madras/dakshina-transliteration/sweeps/9tg1us73</a>"
      ],
      "text/plain": [
       "<IPython.core.display.HTML object>"
      ]
     },
     "metadata": {},
     "output_type": "display_data"
    },
    {
     "data": {
      "text/html": [
       " View project at <a href='https://wandb.ai/mm21b010-indian-institute-of-technology-madras/dakshina-transliteration' target=\"_blank\">https://wandb.ai/mm21b010-indian-institute-of-technology-madras/dakshina-transliteration</a>"
      ],
      "text/plain": [
       "<IPython.core.display.HTML object>"
      ]
     },
     "metadata": {},
     "output_type": "display_data"
    },
    {
     "data": {
      "text/html": [
       " View sweep at <a href='https://wandb.ai/mm21b010-indian-institute-of-technology-madras/dakshina-transliteration/sweeps/9tg1us73' target=\"_blank\">https://wandb.ai/mm21b010-indian-institute-of-technology-madras/dakshina-transliteration/sweeps/9tg1us73</a>"
      ],
      "text/plain": [
       "<IPython.core.display.HTML object>"
      ]
     },
     "metadata": {},
     "output_type": "display_data"
    },
    {
     "data": {
      "text/html": [
       " View run at <a href='https://wandb.ai/mm21b010-indian-institute-of-technology-madras/dakshina-transliteration/runs/5ypx9x6j' target=\"_blank\">https://wandb.ai/mm21b010-indian-institute-of-technology-madras/dakshina-transliteration/runs/5ypx9x6j</a>"
      ],
      "text/plain": [
       "<IPython.core.display.HTML object>"
      ]
     },
     "metadata": {},
     "output_type": "display_data"
    },
    {
     "name": "stderr",
     "output_type": "stream",
     "text": [
      "Epoch 1: 100%|██████████| 1382/1382 [01:37<00:00, 14.23it/s, acc=0.691, loss=0.996]\n",
      "Epoch 2: 100%|██████████| 1382/1382 [01:37<00:00, 14.23it/s, acc=0.739, loss=0.669]\n",
      "Epoch 3: 100%|██████████| 1382/1382 [01:37<00:00, 14.21it/s, acc=0.75, loss=0.881] \n",
      "Epoch 4: 100%|██████████| 1382/1382 [01:37<00:00, 14.19it/s, acc=0.9, loss=0.305]  \n",
      "Epoch 5: 100%|██████████| 1382/1382 [01:37<00:00, 14.22it/s, acc=0.929, loss=0.346]\n",
      "Epoch 6: 100%|██████████| 1382/1382 [01:37<00:00, 14.21it/s, acc=0.744, loss=0.797]\n",
      "Epoch 7: 100%|██████████| 1382/1382 [01:37<00:00, 14.24it/s, acc=0.712, loss=0.868]\n",
      "Epoch 8: 100%|██████████| 1382/1382 [01:37<00:00, 14.22it/s, acc=0.685, loss=0.862]\n",
      "Epoch 9: 100%|██████████| 1382/1382 [01:37<00:00, 14.22it/s, acc=0.757, loss=0.956]\n",
      "Epoch 10: 100%|██████████| 1382/1382 [01:37<00:00, 14.21it/s, acc=0.729, loss=1.01] \n"
     ]
    },
    {
     "data": {
      "text/html": [],
      "text/plain": [
       "<IPython.core.display.HTML object>"
      ]
     },
     "metadata": {},
     "output_type": "display_data"
    },
    {
     "data": {
      "text/html": [
       "<br>    <style><br>        .wandb-row {<br>            display: flex;<br>            flex-direction: row;<br>            flex-wrap: wrap;<br>            justify-content: flex-start;<br>            width: 100%;<br>        }<br>        .wandb-col {<br>            display: flex;<br>            flex-direction: column;<br>            flex-basis: 100%;<br>            flex: 1;<br>            padding: 10px;<br>        }<br>    </style><br><div class=\"wandb-row\"><div class=\"wandb-col\"><h3>Run history:</h3><br/><table class=\"wandb\"><tr><td>epoch</td><td>▁▂▃▃▄▅▆▆▇█</td></tr><tr><td>train_accuracy</td><td>▁▆▇▇▇▇████</td></tr><tr><td>train_loss</td><td>█▃▂▂▂▁▁▁▁▁</td></tr><tr><td>val_accuracy</td><td>▁▄▅▆▇▇▇▇██</td></tr><tr><td>val_loss</td><td>█▅▄▃▂▂▁▁▁▁</td></tr></table><br/></div><div class=\"wandb-col\"><h3>Run summary:</h3><br/><table class=\"wandb\"><tr><td>epoch</td><td>9</td></tr><tr><td>train_accuracy</td><td>0.81951</td></tr><tr><td>train_loss</td><td>0.59491</td></tr><tr><td>val_accuracy</td><td>0.78023</td></tr><tr><td>val_loss</td><td>0.73017</td></tr></table><br/></div></div>"
      ],
      "text/plain": [
       "<IPython.core.display.HTML object>"
      ]
     },
     "metadata": {},
     "output_type": "display_data"
    },
    {
     "data": {
      "text/html": [
       " View run <strong style=\"color:#cdcd00\">GRU_epochs10_emb16_hid64_enc3_dec3_do24</strong> at: <a href='https://wandb.ai/mm21b010-indian-institute-of-technology-madras/dakshina-transliteration/runs/5ypx9x6j' target=\"_blank\">https://wandb.ai/mm21b010-indian-institute-of-technology-madras/dakshina-transliteration/runs/5ypx9x6j</a><br> View project at: <a href='https://wandb.ai/mm21b010-indian-institute-of-technology-madras/dakshina-transliteration' target=\"_blank\">https://wandb.ai/mm21b010-indian-institute-of-technology-madras/dakshina-transliteration</a><br>Synced 5 W&B file(s), 0 media file(s), 0 artifact file(s) and 0 other file(s)"
      ],
      "text/plain": [
       "<IPython.core.display.HTML object>"
      ]
     },
     "metadata": {},
     "output_type": "display_data"
    },
    {
     "data": {
      "text/html": [
       "Find logs at: <code>./wandb/run-20250519_185413-5ypx9x6j/logs</code>"
      ],
      "text/plain": [
       "<IPython.core.display.HTML object>"
      ]
     },
     "metadata": {},
     "output_type": "display_data"
    },
    {
     "name": "stderr",
     "output_type": "stream",
     "text": [
      "\u001b[34m\u001b[1mwandb\u001b[0m: Agent Starting Run: ttd4kwne with config:\n",
      "\u001b[34m\u001b[1mwandb\u001b[0m: \tcell_type: LSTM\n",
      "\u001b[34m\u001b[1mwandb\u001b[0m: \tdropout: 0.24\n",
      "\u001b[34m\u001b[1mwandb\u001b[0m: \tembedding_dim: 16\n",
      "\u001b[34m\u001b[1mwandb\u001b[0m: \tencoder_layers: 3\n",
      "\u001b[34m\u001b[1mwandb\u001b[0m: \tepochs: 10\n",
      "\u001b[34m\u001b[1mwandb\u001b[0m: \thidden_size: 256\n"
     ]
    },
    {
     "data": {
      "text/html": [
       "Tracking run with wandb version 0.19.9"
      ],
      "text/plain": [
       "<IPython.core.display.HTML object>"
      ]
     },
     "metadata": {},
     "output_type": "display_data"
    },
    {
     "data": {
      "text/html": [
       "Run data is saved locally in <code>/kaggle/working/wandb/run-20250519_191112-ttd4kwne</code>"
      ],
      "text/plain": [
       "<IPython.core.display.HTML object>"
      ]
     },
     "metadata": {},
     "output_type": "display_data"
    },
    {
     "data": {
      "text/html": [
       "Syncing run <strong><a href='https://wandb.ai/mm21b010-indian-institute-of-technology-madras/dakshina-transliteration/runs/ttd4kwne' target=\"_blank\">eternal-sweep-11</a></strong> to <a href='https://wandb.ai/mm21b010-indian-institute-of-technology-madras/dakshina-transliteration' target=\"_blank\">Weights & Biases</a> (<a href='https://wandb.me/developer-guide' target=\"_blank\">docs</a>)<br>Sweep page: <a href='https://wandb.ai/mm21b010-indian-institute-of-technology-madras/dakshina-transliteration/sweeps/9tg1us73' target=\"_blank\">https://wandb.ai/mm21b010-indian-institute-of-technology-madras/dakshina-transliteration/sweeps/9tg1us73</a>"
      ],
      "text/plain": [
       "<IPython.core.display.HTML object>"
      ]
     },
     "metadata": {},
     "output_type": "display_data"
    },
    {
     "data": {
      "text/html": [
       " View project at <a href='https://wandb.ai/mm21b010-indian-institute-of-technology-madras/dakshina-transliteration' target=\"_blank\">https://wandb.ai/mm21b010-indian-institute-of-technology-madras/dakshina-transliteration</a>"
      ],
      "text/plain": [
       "<IPython.core.display.HTML object>"
      ]
     },
     "metadata": {},
     "output_type": "display_data"
    },
    {
     "data": {
      "text/html": [
       " View sweep at <a href='https://wandb.ai/mm21b010-indian-institute-of-technology-madras/dakshina-transliteration/sweeps/9tg1us73' target=\"_blank\">https://wandb.ai/mm21b010-indian-institute-of-technology-madras/dakshina-transliteration/sweeps/9tg1us73</a>"
      ],
      "text/plain": [
       "<IPython.core.display.HTML object>"
      ]
     },
     "metadata": {},
     "output_type": "display_data"
    },
    {
     "data": {
      "text/html": [
       " View run at <a href='https://wandb.ai/mm21b010-indian-institute-of-technology-madras/dakshina-transliteration/runs/ttd4kwne' target=\"_blank\">https://wandb.ai/mm21b010-indian-institute-of-technology-madras/dakshina-transliteration/runs/ttd4kwne</a>"
      ],
      "text/plain": [
       "<IPython.core.display.HTML object>"
      ]
     },
     "metadata": {},
     "output_type": "display_data"
    },
    {
     "name": "stderr",
     "output_type": "stream",
     "text": [
      "Epoch 1: 100%|██████████| 1382/1382 [01:44<00:00, 13.23it/s, acc=0.613, loss=1.04] \n",
      "Epoch 2: 100%|██████████| 1382/1382 [01:44<00:00, 13.24it/s, acc=0.797, loss=0.645]\n",
      "Epoch 3: 100%|██████████| 1382/1382 [01:44<00:00, 13.21it/s, acc=0.829, loss=0.465]\n",
      "Epoch 4: 100%|██████████| 1382/1382 [01:44<00:00, 13.26it/s, acc=0.829, loss=0.646]\n",
      "Epoch 5: 100%|██████████| 1382/1382 [01:44<00:00, 13.21it/s, acc=0.906, loss=0.307]\n",
      "Epoch 6: 100%|██████████| 1382/1382 [01:44<00:00, 13.25it/s, acc=0.792, loss=0.561]\n",
      "Epoch 7: 100%|██████████| 1382/1382 [01:44<00:00, 13.23it/s, acc=0.789, loss=0.589]\n",
      "Epoch 8: 100%|██████████| 1382/1382 [01:44<00:00, 13.23it/s, acc=0.919, loss=0.265]\n",
      "Epoch 9: 100%|██████████| 1382/1382 [01:44<00:00, 13.23it/s, acc=0.955, loss=0.184]\n",
      "Epoch 10: 100%|██████████| 1382/1382 [01:44<00:00, 13.18it/s, acc=0.838, loss=0.401]\n"
     ]
    },
    {
     "data": {
      "text/html": [],
      "text/plain": [
       "<IPython.core.display.HTML object>"
      ]
     },
     "metadata": {},
     "output_type": "display_data"
    },
    {
     "data": {
      "text/html": [
       "<br>    <style><br>        .wandb-row {<br>            display: flex;<br>            flex-direction: row;<br>            flex-wrap: wrap;<br>            justify-content: flex-start;<br>            width: 100%;<br>        }<br>        .wandb-col {<br>            display: flex;<br>            flex-direction: column;<br>            flex-basis: 100%;<br>            flex: 1;<br>            padding: 10px;<br>        }<br>    </style><br><div class=\"wandb-row\"><div class=\"wandb-col\"><h3>Run history:</h3><br/><table class=\"wandb\"><tr><td>epoch</td><td>▁▂▃▃▄▅▆▆▇█</td></tr><tr><td>train_accuracy</td><td>▁▅▆▆▇▇▇███</td></tr><tr><td>train_loss</td><td>█▄▃▂▂▂▂▁▁▁</td></tr><tr><td>val_accuracy</td><td>▁▅▆▇▆▇█▇██</td></tr><tr><td>val_loss</td><td>█▃▂▁▂▁▁▂▁▂</td></tr></table><br/></div><div class=\"wandb-col\"><h3>Run summary:</h3><br/><table class=\"wandb\"><tr><td>epoch</td><td>9</td></tr><tr><td>train_accuracy</td><td>0.91043</td></tr><tr><td>train_loss</td><td>0.29438</td></tr><tr><td>val_accuracy</td><td>0.80534</td></tr><tr><td>val_loss</td><td>0.69359</td></tr></table><br/></div></div>"
      ],
      "text/plain": [
       "<IPython.core.display.HTML object>"
      ]
     },
     "metadata": {},
     "output_type": "display_data"
    },
    {
     "data": {
      "text/html": [
       " View run <strong style=\"color:#cdcd00\">LSTM_epochs10_emb16_hid256_enc3_dec3_do24</strong> at: <a href='https://wandb.ai/mm21b010-indian-institute-of-technology-madras/dakshina-transliteration/runs/ttd4kwne' target=\"_blank\">https://wandb.ai/mm21b010-indian-institute-of-technology-madras/dakshina-transliteration/runs/ttd4kwne</a><br> View project at: <a href='https://wandb.ai/mm21b010-indian-institute-of-technology-madras/dakshina-transliteration' target=\"_blank\">https://wandb.ai/mm21b010-indian-institute-of-technology-madras/dakshina-transliteration</a><br>Synced 5 W&B file(s), 0 media file(s), 0 artifact file(s) and 0 other file(s)"
      ],
      "text/plain": [
       "<IPython.core.display.HTML object>"
      ]
     },
     "metadata": {},
     "output_type": "display_data"
    },
    {
     "data": {
      "text/html": [
       "Find logs at: <code>./wandb/run-20250519_191112-ttd4kwne/logs</code>"
      ],
      "text/plain": [
       "<IPython.core.display.HTML object>"
      ]
     },
     "metadata": {},
     "output_type": "display_data"
    },
    {
     "name": "stderr",
     "output_type": "stream",
     "text": [
      "\u001b[34m\u001b[1mwandb\u001b[0m: Agent Starting Run: rnond9ol with config:\n",
      "\u001b[34m\u001b[1mwandb\u001b[0m: \tcell_type: GRU\n",
      "\u001b[34m\u001b[1mwandb\u001b[0m: \tdropout: 0.24\n",
      "\u001b[34m\u001b[1mwandb\u001b[0m: \tembedding_dim: 32\n",
      "\u001b[34m\u001b[1mwandb\u001b[0m: \tencoder_layers: 2\n",
      "\u001b[34m\u001b[1mwandb\u001b[0m: \tepochs: 10\n",
      "\u001b[34m\u001b[1mwandb\u001b[0m: \thidden_size: 64\n"
     ]
    },
    {
     "data": {
      "text/html": [
       "Tracking run with wandb version 0.19.9"
      ],
      "text/plain": [
       "<IPython.core.display.HTML object>"
      ]
     },
     "metadata": {},
     "output_type": "display_data"
    },
    {
     "data": {
      "text/html": [
       "Run data is saved locally in <code>/kaggle/working/wandb/run-20250519_192925-rnond9ol</code>"
      ],
      "text/plain": [
       "<IPython.core.display.HTML object>"
      ]
     },
     "metadata": {},
     "output_type": "display_data"
    },
    {
     "data": {
      "text/html": [
       "Syncing run <strong><a href='https://wandb.ai/mm21b010-indian-institute-of-technology-madras/dakshina-transliteration/runs/rnond9ol' target=\"_blank\">rosy-sweep-12</a></strong> to <a href='https://wandb.ai/mm21b010-indian-institute-of-technology-madras/dakshina-transliteration' target=\"_blank\">Weights & Biases</a> (<a href='https://wandb.me/developer-guide' target=\"_blank\">docs</a>)<br>Sweep page: <a href='https://wandb.ai/mm21b010-indian-institute-of-technology-madras/dakshina-transliteration/sweeps/9tg1us73' target=\"_blank\">https://wandb.ai/mm21b010-indian-institute-of-technology-madras/dakshina-transliteration/sweeps/9tg1us73</a>"
      ],
      "text/plain": [
       "<IPython.core.display.HTML object>"
      ]
     },
     "metadata": {},
     "output_type": "display_data"
    },
    {
     "data": {
      "text/html": [
       " View project at <a href='https://wandb.ai/mm21b010-indian-institute-of-technology-madras/dakshina-transliteration' target=\"_blank\">https://wandb.ai/mm21b010-indian-institute-of-technology-madras/dakshina-transliteration</a>"
      ],
      "text/plain": [
       "<IPython.core.display.HTML object>"
      ]
     },
     "metadata": {},
     "output_type": "display_data"
    },
    {
     "data": {
      "text/html": [
       " View sweep at <a href='https://wandb.ai/mm21b010-indian-institute-of-technology-madras/dakshina-transliteration/sweeps/9tg1us73' target=\"_blank\">https://wandb.ai/mm21b010-indian-institute-of-technology-madras/dakshina-transliteration/sweeps/9tg1us73</a>"
      ],
      "text/plain": [
       "<IPython.core.display.HTML object>"
      ]
     },
     "metadata": {},
     "output_type": "display_data"
    },
    {
     "data": {
      "text/html": [
       " View run at <a href='https://wandb.ai/mm21b010-indian-institute-of-technology-madras/dakshina-transliteration/runs/rnond9ol' target=\"_blank\">https://wandb.ai/mm21b010-indian-institute-of-technology-madras/dakshina-transliteration/runs/rnond9ol</a>"
      ],
      "text/plain": [
       "<IPython.core.display.HTML object>"
      ]
     },
     "metadata": {},
     "output_type": "display_data"
    },
    {
     "name": "stderr",
     "output_type": "stream",
     "text": [
      "Epoch 1: 100%|██████████| 1382/1382 [01:37<00:00, 14.19it/s, acc=0.622, loss=1.13] \n",
      "Epoch 2: 100%|██████████| 1382/1382 [01:37<00:00, 14.20it/s, acc=0.789, loss=0.653]\n",
      "Epoch 3: 100%|██████████| 1382/1382 [01:37<00:00, 14.23it/s, acc=0.808, loss=0.598]\n",
      "Epoch 4: 100%|██████████| 1382/1382 [01:37<00:00, 14.22it/s, acc=0.68, loss=0.986] \n",
      "Epoch 5: 100%|██████████| 1382/1382 [01:37<00:00, 14.23it/s, acc=0.707, loss=0.847]\n",
      "Epoch 6: 100%|██████████| 1382/1382 [01:37<00:00, 14.24it/s, acc=0.819, loss=0.776]\n",
      "Epoch 7: 100%|██████████| 1382/1382 [01:37<00:00, 14.24it/s, acc=0.881, loss=0.354]\n",
      "Epoch 8: 100%|██████████| 1382/1382 [01:37<00:00, 14.22it/s, acc=0.74, loss=0.908] \n",
      "Epoch 9: 100%|██████████| 1382/1382 [01:37<00:00, 14.23it/s, acc=0.863, loss=0.479]\n",
      "Epoch 10: 100%|██████████| 1382/1382 [01:37<00:00, 14.23it/s, acc=0.8, loss=0.624]  \n"
     ]
    },
    {
     "data": {
      "text/html": [],
      "text/plain": [
       "<IPython.core.display.HTML object>"
      ]
     },
     "metadata": {},
     "output_type": "display_data"
    },
    {
     "data": {
      "text/html": [
       "<br>    <style><br>        .wandb-row {<br>            display: flex;<br>            flex-direction: row;<br>            flex-wrap: wrap;<br>            justify-content: flex-start;<br>            width: 100%;<br>        }<br>        .wandb-col {<br>            display: flex;<br>            flex-direction: column;<br>            flex-basis: 100%;<br>            flex: 1;<br>            padding: 10px;<br>        }<br>    </style><br><div class=\"wandb-row\"><div class=\"wandb-col\"><h3>Run history:</h3><br/><table class=\"wandb\"><tr><td>epoch</td><td>▁▂▃▃▄▅▆▆▇█</td></tr><tr><td>train_accuracy</td><td>▁▆▆▇▇▇████</td></tr><tr><td>train_loss</td><td>█▃▂▂▂▁▁▁▁▁</td></tr><tr><td>val_accuracy</td><td>▁▄▅▅▆▇▇▇▇█</td></tr><tr><td>val_loss</td><td>█▅▄▄▃▂▂▂▂▁</td></tr></table><br/></div><div class=\"wandb-col\"><h3>Run summary:</h3><br/><table class=\"wandb\"><tr><td>epoch</td><td>9</td></tr><tr><td>train_accuracy</td><td>0.82587</td></tr><tr><td>train_loss</td><td>0.57167</td></tr><tr><td>val_accuracy</td><td>0.79057</td></tr><tr><td>val_loss</td><td>0.68604</td></tr></table><br/></div></div>"
      ],
      "text/plain": [
       "<IPython.core.display.HTML object>"
      ]
     },
     "metadata": {},
     "output_type": "display_data"
    },
    {
     "data": {
      "text/html": [
       " View run <strong style=\"color:#cdcd00\">GRU_epochs10_emb32_hid64_enc2_dec2_do24</strong> at: <a href='https://wandb.ai/mm21b010-indian-institute-of-technology-madras/dakshina-transliteration/runs/rnond9ol' target=\"_blank\">https://wandb.ai/mm21b010-indian-institute-of-technology-madras/dakshina-transliteration/runs/rnond9ol</a><br> View project at: <a href='https://wandb.ai/mm21b010-indian-institute-of-technology-madras/dakshina-transliteration' target=\"_blank\">https://wandb.ai/mm21b010-indian-institute-of-technology-madras/dakshina-transliteration</a><br>Synced 5 W&B file(s), 0 media file(s), 0 artifact file(s) and 0 other file(s)"
      ],
      "text/plain": [
       "<IPython.core.display.HTML object>"
      ]
     },
     "metadata": {},
     "output_type": "display_data"
    },
    {
     "data": {
      "text/html": [
       "Find logs at: <code>./wandb/run-20250519_192925-rnond9ol/logs</code>"
      ],
      "text/plain": [
       "<IPython.core.display.HTML object>"
      ]
     },
     "metadata": {},
     "output_type": "display_data"
    },
    {
     "name": "stderr",
     "output_type": "stream",
     "text": [
      "\u001b[34m\u001b[1mwandb\u001b[0m: Agent Starting Run: 8il8pja2 with config:\n",
      "\u001b[34m\u001b[1mwandb\u001b[0m: \tcell_type: LSTM\n",
      "\u001b[34m\u001b[1mwandb\u001b[0m: \tdropout: 0.31\n",
      "\u001b[34m\u001b[1mwandb\u001b[0m: \tembedding_dim: 32\n",
      "\u001b[34m\u001b[1mwandb\u001b[0m: \tencoder_layers: 2\n",
      "\u001b[34m\u001b[1mwandb\u001b[0m: \tepochs: 10\n",
      "\u001b[34m\u001b[1mwandb\u001b[0m: \thidden_size: 64\n"
     ]
    },
    {
     "data": {
      "text/html": [
       "Tracking run with wandb version 0.19.9"
      ],
      "text/plain": [
       "<IPython.core.display.HTML object>"
      ]
     },
     "metadata": {},
     "output_type": "display_data"
    },
    {
     "data": {
      "text/html": [
       "Run data is saved locally in <code>/kaggle/working/wandb/run-20250519_194623-8il8pja2</code>"
      ],
      "text/plain": [
       "<IPython.core.display.HTML object>"
      ]
     },
     "metadata": {},
     "output_type": "display_data"
    },
    {
     "data": {
      "text/html": [
       "Syncing run <strong><a href='https://wandb.ai/mm21b010-indian-institute-of-technology-madras/dakshina-transliteration/runs/8il8pja2' target=\"_blank\">rich-sweep-13</a></strong> to <a href='https://wandb.ai/mm21b010-indian-institute-of-technology-madras/dakshina-transliteration' target=\"_blank\">Weights & Biases</a> (<a href='https://wandb.me/developer-guide' target=\"_blank\">docs</a>)<br>Sweep page: <a href='https://wandb.ai/mm21b010-indian-institute-of-technology-madras/dakshina-transliteration/sweeps/9tg1us73' target=\"_blank\">https://wandb.ai/mm21b010-indian-institute-of-technology-madras/dakshina-transliteration/sweeps/9tg1us73</a>"
      ],
      "text/plain": [
       "<IPython.core.display.HTML object>"
      ]
     },
     "metadata": {},
     "output_type": "display_data"
    },
    {
     "data": {
      "text/html": [
       " View project at <a href='https://wandb.ai/mm21b010-indian-institute-of-technology-madras/dakshina-transliteration' target=\"_blank\">https://wandb.ai/mm21b010-indian-institute-of-technology-madras/dakshina-transliteration</a>"
      ],
      "text/plain": [
       "<IPython.core.display.HTML object>"
      ]
     },
     "metadata": {},
     "output_type": "display_data"
    },
    {
     "data": {
      "text/html": [
       " View sweep at <a href='https://wandb.ai/mm21b010-indian-institute-of-technology-madras/dakshina-transliteration/sweeps/9tg1us73' target=\"_blank\">https://wandb.ai/mm21b010-indian-institute-of-technology-madras/dakshina-transliteration/sweeps/9tg1us73</a>"
      ],
      "text/plain": [
       "<IPython.core.display.HTML object>"
      ]
     },
     "metadata": {},
     "output_type": "display_data"
    },
    {
     "data": {
      "text/html": [
       " View run at <a href='https://wandb.ai/mm21b010-indian-institute-of-technology-madras/dakshina-transliteration/runs/8il8pja2' target=\"_blank\">https://wandb.ai/mm21b010-indian-institute-of-technology-madras/dakshina-transliteration/runs/8il8pja2</a>"
      ],
      "text/plain": [
       "<IPython.core.display.HTML object>"
      ]
     },
     "metadata": {},
     "output_type": "display_data"
    },
    {
     "name": "stderr",
     "output_type": "stream",
     "text": [
      "Epoch 1: 100%|██████████| 1382/1382 [01:40<00:00, 13.73it/s, acc=0.691, loss=0.948]\n",
      "Epoch 2: 100%|██████████| 1382/1382 [01:40<00:00, 13.75it/s, acc=0.893, loss=0.429]\n",
      "Epoch 3: 100%|██████████| 1382/1382 [01:40<00:00, 13.77it/s, acc=0.733, loss=0.871]\n",
      "Epoch 4: 100%|██████████| 1382/1382 [01:40<00:00, 13.75it/s, acc=0.8, loss=0.641]  \n",
      "Epoch 5: 100%|██████████| 1382/1382 [01:40<00:00, 13.76it/s, acc=0.882, loss=0.521]\n",
      "Epoch 6: 100%|██████████| 1382/1382 [01:40<00:00, 13.77it/s, acc=0.868, loss=0.401]\n",
      "Epoch 7: 100%|██████████| 1382/1382 [01:40<00:00, 13.76it/s, acc=0.846, loss=0.546]\n",
      "Epoch 8: 100%|██████████| 1382/1382 [01:40<00:00, 13.72it/s, acc=0.869, loss=0.433]\n",
      "Epoch 9: 100%|██████████| 1382/1382 [01:40<00:00, 13.76it/s, acc=0.77, loss=0.843] \n",
      "Epoch 10: 100%|██████████| 1382/1382 [01:40<00:00, 13.78it/s, acc=0.807, loss=0.639]\n"
     ]
    },
    {
     "data": {
      "text/html": [],
      "text/plain": [
       "<IPython.core.display.HTML object>"
      ]
     },
     "metadata": {},
     "output_type": "display_data"
    },
    {
     "data": {
      "text/html": [
       "<br>    <style><br>        .wandb-row {<br>            display: flex;<br>            flex-direction: row;<br>            flex-wrap: wrap;<br>            justify-content: flex-start;<br>            width: 100%;<br>        }<br>        .wandb-col {<br>            display: flex;<br>            flex-direction: column;<br>            flex-basis: 100%;<br>            flex: 1;<br>            padding: 10px;<br>        }<br>    </style><br><div class=\"wandb-row\"><div class=\"wandb-col\"><h3>Run history:</h3><br/><table class=\"wandb\"><tr><td>epoch</td><td>▁▂▃▃▄▅▆▆▇█</td></tr><tr><td>train_accuracy</td><td>▁▆▆▇▇▇████</td></tr><tr><td>train_loss</td><td>█▃▂▂▂▁▁▁▁▁</td></tr><tr><td>val_accuracy</td><td>▁▄▅▆▆▇█▇▇█</td></tr><tr><td>val_loss</td><td>█▅▄▃▃▂▁▂▂▁</td></tr></table><br/></div><div class=\"wandb-col\"><h3>Run summary:</h3><br/><table class=\"wandb\"><tr><td>epoch</td><td>9</td></tr><tr><td>train_accuracy</td><td>0.82277</td></tr><tr><td>train_loss</td><td>0.5825</td></tr><tr><td>val_accuracy</td><td>0.79047</td></tr><tr><td>val_loss</td><td>0.6926</td></tr></table><br/></div></div>"
      ],
      "text/plain": [
       "<IPython.core.display.HTML object>"
      ]
     },
     "metadata": {},
     "output_type": "display_data"
    },
    {
     "data": {
      "text/html": [
       " View run <strong style=\"color:#cdcd00\">LSTM_epochs10_emb32_hid64_enc2_dec2_do31</strong> at: <a href='https://wandb.ai/mm21b010-indian-institute-of-technology-madras/dakshina-transliteration/runs/8il8pja2' target=\"_blank\">https://wandb.ai/mm21b010-indian-institute-of-technology-madras/dakshina-transliteration/runs/8il8pja2</a><br> View project at: <a href='https://wandb.ai/mm21b010-indian-institute-of-technology-madras/dakshina-transliteration' target=\"_blank\">https://wandb.ai/mm21b010-indian-institute-of-technology-madras/dakshina-transliteration</a><br>Synced 5 W&B file(s), 0 media file(s), 0 artifact file(s) and 0 other file(s)"
      ],
      "text/plain": [
       "<IPython.core.display.HTML object>"
      ]
     },
     "metadata": {},
     "output_type": "display_data"
    },
    {
     "data": {
      "text/html": [
       "Find logs at: <code>./wandb/run-20250519_194623-8il8pja2/logs</code>"
      ],
      "text/plain": [
       "<IPython.core.display.HTML object>"
      ]
     },
     "metadata": {},
     "output_type": "display_data"
    },
    {
     "name": "stderr",
     "output_type": "stream",
     "text": [
      "\u001b[34m\u001b[1mwandb\u001b[0m: Agent Starting Run: o9y7l9qd with config:\n",
      "\u001b[34m\u001b[1mwandb\u001b[0m: \tcell_type: GRU\n",
      "\u001b[34m\u001b[1mwandb\u001b[0m: \tdropout: 0.31\n",
      "\u001b[34m\u001b[1mwandb\u001b[0m: \tembedding_dim: 16\n",
      "\u001b[34m\u001b[1mwandb\u001b[0m: \tencoder_layers: 2\n",
      "\u001b[34m\u001b[1mwandb\u001b[0m: \tepochs: 10\n",
      "\u001b[34m\u001b[1mwandb\u001b[0m: \thidden_size: 256\n"
     ]
    },
    {
     "data": {
      "text/html": [
       "Tracking run with wandb version 0.19.9"
      ],
      "text/plain": [
       "<IPython.core.display.HTML object>"
      ]
     },
     "metadata": {},
     "output_type": "display_data"
    },
    {
     "data": {
      "text/html": [
       "Run data is saved locally in <code>/kaggle/working/wandb/run-20250519_200352-o9y7l9qd</code>"
      ],
      "text/plain": [
       "<IPython.core.display.HTML object>"
      ]
     },
     "metadata": {},
     "output_type": "display_data"
    },
    {
     "data": {
      "text/html": [
       "Syncing run <strong><a href='https://wandb.ai/mm21b010-indian-institute-of-technology-madras/dakshina-transliteration/runs/o9y7l9qd' target=\"_blank\">robust-sweep-14</a></strong> to <a href='https://wandb.ai/mm21b010-indian-institute-of-technology-madras/dakshina-transliteration' target=\"_blank\">Weights & Biases</a> (<a href='https://wandb.me/developer-guide' target=\"_blank\">docs</a>)<br>Sweep page: <a href='https://wandb.ai/mm21b010-indian-institute-of-technology-madras/dakshina-transliteration/sweeps/9tg1us73' target=\"_blank\">https://wandb.ai/mm21b010-indian-institute-of-technology-madras/dakshina-transliteration/sweeps/9tg1us73</a>"
      ],
      "text/plain": [
       "<IPython.core.display.HTML object>"
      ]
     },
     "metadata": {},
     "output_type": "display_data"
    },
    {
     "data": {
      "text/html": [
       " View project at <a href='https://wandb.ai/mm21b010-indian-institute-of-technology-madras/dakshina-transliteration' target=\"_blank\">https://wandb.ai/mm21b010-indian-institute-of-technology-madras/dakshina-transliteration</a>"
      ],
      "text/plain": [
       "<IPython.core.display.HTML object>"
      ]
     },
     "metadata": {},
     "output_type": "display_data"
    },
    {
     "data": {
      "text/html": [
       " View sweep at <a href='https://wandb.ai/mm21b010-indian-institute-of-technology-madras/dakshina-transliteration/sweeps/9tg1us73' target=\"_blank\">https://wandb.ai/mm21b010-indian-institute-of-technology-madras/dakshina-transliteration/sweeps/9tg1us73</a>"
      ],
      "text/plain": [
       "<IPython.core.display.HTML object>"
      ]
     },
     "metadata": {},
     "output_type": "display_data"
    },
    {
     "data": {
      "text/html": [
       " View run at <a href='https://wandb.ai/mm21b010-indian-institute-of-technology-madras/dakshina-transliteration/runs/o9y7l9qd' target=\"_blank\">https://wandb.ai/mm21b010-indian-institute-of-technology-madras/dakshina-transliteration/runs/o9y7l9qd</a>"
      ],
      "text/plain": [
       "<IPython.core.display.HTML object>"
      ]
     },
     "metadata": {},
     "output_type": "display_data"
    },
    {
     "name": "stderr",
     "output_type": "stream",
     "text": [
      "Epoch 1: 100%|██████████| 1382/1382 [01:40<00:00, 13.69it/s, acc=0.767, loss=0.62] \n",
      "Epoch 2: 100%|██████████| 1382/1382 [01:41<00:00, 13.66it/s, acc=0.759, loss=0.897]\n",
      "Epoch 3: 100%|██████████| 1382/1382 [01:40<00:00, 13.68it/s, acc=0.88, loss=0.537] \n",
      "Epoch 4: 100%|██████████| 1382/1382 [01:41<00:00, 13.67it/s, acc=0.915, loss=0.308]\n",
      "Epoch 5: 100%|██████████| 1382/1382 [01:41<00:00, 13.58it/s, acc=0.889, loss=0.274]\n",
      "Epoch 6: 100%|██████████| 1382/1382 [01:41<00:00, 13.57it/s, acc=0.857, loss=0.416]\n",
      "Epoch 7: 100%|██████████| 1382/1382 [01:41<00:00, 13.55it/s, acc=0.672, loss=1.1]  \n",
      "Epoch 8: 100%|██████████| 1382/1382 [01:41<00:00, 13.64it/s, acc=0.986, loss=0.127]\n",
      "Epoch 9: 100%|██████████| 1382/1382 [01:41<00:00, 13.64it/s, acc=0.931, loss=0.349]\n",
      "Epoch 10: 100%|██████████| 1382/1382 [01:41<00:00, 13.62it/s, acc=0.844, loss=0.383]\n"
     ]
    },
    {
     "data": {
      "text/html": [],
      "text/plain": [
       "<IPython.core.display.HTML object>"
      ]
     },
     "metadata": {},
     "output_type": "display_data"
    },
    {
     "data": {
      "text/html": [
       "<br>    <style><br>        .wandb-row {<br>            display: flex;<br>            flex-direction: row;<br>            flex-wrap: wrap;<br>            justify-content: flex-start;<br>            width: 100%;<br>        }<br>        .wandb-col {<br>            display: flex;<br>            flex-direction: column;<br>            flex-basis: 100%;<br>            flex: 1;<br>            padding: 10px;<br>        }<br>    </style><br><div class=\"wandb-row\"><div class=\"wandb-col\"><h3>Run history:</h3><br/><table class=\"wandb\"><tr><td>epoch</td><td>▁▂▃▃▄▅▆▆▇█</td></tr><tr><td>train_accuracy</td><td>▁▅▆▇▇▇▇███</td></tr><tr><td>train_loss</td><td>█▃▃▂▂▂▁▁▁▁</td></tr><tr><td>val_accuracy</td><td>▁▆▆█▇█████</td></tr><tr><td>val_loss</td><td>█▃▂▁▂▁▂▂▂▂</td></tr></table><br/></div><div class=\"wandb-col\"><h3>Run summary:</h3><br/><table class=\"wandb\"><tr><td>epoch</td><td>9</td></tr><tr><td>train_accuracy</td><td>0.91</td></tr><tr><td>train_loss</td><td>0.29557</td></tr><tr><td>val_accuracy</td><td>0.80834</td></tr><tr><td>val_loss</td><td>0.6971</td></tr></table><br/></div></div>"
      ],
      "text/plain": [
       "<IPython.core.display.HTML object>"
      ]
     },
     "metadata": {},
     "output_type": "display_data"
    },
    {
     "data": {
      "text/html": [
       " View run <strong style=\"color:#cdcd00\">GRU_epochs10_emb16_hid256_enc2_dec2_do31</strong> at: <a href='https://wandb.ai/mm21b010-indian-institute-of-technology-madras/dakshina-transliteration/runs/o9y7l9qd' target=\"_blank\">https://wandb.ai/mm21b010-indian-institute-of-technology-madras/dakshina-transliteration/runs/o9y7l9qd</a><br> View project at: <a href='https://wandb.ai/mm21b010-indian-institute-of-technology-madras/dakshina-transliteration' target=\"_blank\">https://wandb.ai/mm21b010-indian-institute-of-technology-madras/dakshina-transliteration</a><br>Synced 5 W&B file(s), 0 media file(s), 0 artifact file(s) and 0 other file(s)"
      ],
      "text/plain": [
       "<IPython.core.display.HTML object>"
      ]
     },
     "metadata": {},
     "output_type": "display_data"
    },
    {
     "data": {
      "text/html": [
       "Find logs at: <code>./wandb/run-20250519_200352-o9y7l9qd/logs</code>"
      ],
      "text/plain": [
       "<IPython.core.display.HTML object>"
      ]
     },
     "metadata": {},
     "output_type": "display_data"
    },
    {
     "name": "stderr",
     "output_type": "stream",
     "text": [
      "\u001b[34m\u001b[1mwandb\u001b[0m: Agent Starting Run: tsxaj9bb with config:\n",
      "\u001b[34m\u001b[1mwandb\u001b[0m: \tcell_type: GRU\n",
      "\u001b[34m\u001b[1mwandb\u001b[0m: \tdropout: 0.31\n",
      "\u001b[34m\u001b[1mwandb\u001b[0m: \tembedding_dim: 16\n",
      "\u001b[34m\u001b[1mwandb\u001b[0m: \tencoder_layers: 2\n",
      "\u001b[34m\u001b[1mwandb\u001b[0m: \tepochs: 10\n",
      "\u001b[34m\u001b[1mwandb\u001b[0m: \thidden_size: 64\n"
     ]
    },
    {
     "data": {
      "text/html": [
       "Tracking run with wandb version 0.19.9"
      ],
      "text/plain": [
       "<IPython.core.display.HTML object>"
      ]
     },
     "metadata": {},
     "output_type": "display_data"
    },
    {
     "data": {
      "text/html": [
       "Run data is saved locally in <code>/kaggle/working/wandb/run-20250519_202135-tsxaj9bb</code>"
      ],
      "text/plain": [
       "<IPython.core.display.HTML object>"
      ]
     },
     "metadata": {},
     "output_type": "display_data"
    },
    {
     "data": {
      "text/html": [
       "Syncing run <strong><a href='https://wandb.ai/mm21b010-indian-institute-of-technology-madras/dakshina-transliteration/runs/tsxaj9bb' target=\"_blank\">northern-sweep-15</a></strong> to <a href='https://wandb.ai/mm21b010-indian-institute-of-technology-madras/dakshina-transliteration' target=\"_blank\">Weights & Biases</a> (<a href='https://wandb.me/developer-guide' target=\"_blank\">docs</a>)<br>Sweep page: <a href='https://wandb.ai/mm21b010-indian-institute-of-technology-madras/dakshina-transliteration/sweeps/9tg1us73' target=\"_blank\">https://wandb.ai/mm21b010-indian-institute-of-technology-madras/dakshina-transliteration/sweeps/9tg1us73</a>"
      ],
      "text/plain": [
       "<IPython.core.display.HTML object>"
      ]
     },
     "metadata": {},
     "output_type": "display_data"
    },
    {
     "data": {
      "text/html": [
       " View project at <a href='https://wandb.ai/mm21b010-indian-institute-of-technology-madras/dakshina-transliteration' target=\"_blank\">https://wandb.ai/mm21b010-indian-institute-of-technology-madras/dakshina-transliteration</a>"
      ],
      "text/plain": [
       "<IPython.core.display.HTML object>"
      ]
     },
     "metadata": {},
     "output_type": "display_data"
    },
    {
     "data": {
      "text/html": [
       " View sweep at <a href='https://wandb.ai/mm21b010-indian-institute-of-technology-madras/dakshina-transliteration/sweeps/9tg1us73' target=\"_blank\">https://wandb.ai/mm21b010-indian-institute-of-technology-madras/dakshina-transliteration/sweeps/9tg1us73</a>"
      ],
      "text/plain": [
       "<IPython.core.display.HTML object>"
      ]
     },
     "metadata": {},
     "output_type": "display_data"
    },
    {
     "data": {
      "text/html": [
       " View run at <a href='https://wandb.ai/mm21b010-indian-institute-of-technology-madras/dakshina-transliteration/runs/tsxaj9bb' target=\"_blank\">https://wandb.ai/mm21b010-indian-institute-of-technology-madras/dakshina-transliteration/runs/tsxaj9bb</a>"
      ],
      "text/plain": [
       "<IPython.core.display.HTML object>"
      ]
     },
     "metadata": {},
     "output_type": "display_data"
    },
    {
     "name": "stderr",
     "output_type": "stream",
     "text": [
      "Epoch 1: 100%|██████████| 1382/1382 [01:37<00:00, 14.18it/s, acc=0.714, loss=0.985]\n",
      "Epoch 2: 100%|██████████| 1382/1382 [01:37<00:00, 14.15it/s, acc=0.864, loss=0.536]\n",
      "Epoch 3: 100%|██████████| 1382/1382 [01:37<00:00, 14.19it/s, acc=0.729, loss=0.959]\n",
      "Epoch 4: 100%|██████████| 1382/1382 [01:37<00:00, 14.19it/s, acc=0.861, loss=0.574]\n",
      "Epoch 5: 100%|██████████| 1382/1382 [01:37<00:00, 14.17it/s, acc=0.768, loss=0.822]\n",
      "Epoch 6: 100%|██████████| 1382/1382 [01:37<00:00, 14.17it/s, acc=0.718, loss=1.03] \n",
      "Epoch 7: 100%|██████████| 1382/1382 [01:37<00:00, 14.20it/s, acc=0.896, loss=0.286]\n",
      "Epoch 8: 100%|██████████| 1382/1382 [01:37<00:00, 14.16it/s, acc=0.77, loss=0.773] \n",
      "Epoch 9: 100%|██████████| 1382/1382 [01:38<00:00, 14.09it/s, acc=0.778, loss=0.722]\n",
      "Epoch 10: 100%|██████████| 1382/1382 [01:38<00:00, 14.02it/s, acc=0.77, loss=0.783] \n"
     ]
    },
    {
     "data": {
      "text/html": [],
      "text/plain": [
       "<IPython.core.display.HTML object>"
      ]
     },
     "metadata": {},
     "output_type": "display_data"
    },
    {
     "data": {
      "text/html": [
       "<br>    <style><br>        .wandb-row {<br>            display: flex;<br>            flex-direction: row;<br>            flex-wrap: wrap;<br>            justify-content: flex-start;<br>            width: 100%;<br>        }<br>        .wandb-col {<br>            display: flex;<br>            flex-direction: column;<br>            flex-basis: 100%;<br>            flex: 1;<br>            padding: 10px;<br>        }<br>    </style><br><div class=\"wandb-row\"><div class=\"wandb-col\"><h3>Run history:</h3><br/><table class=\"wandb\"><tr><td>epoch</td><td>▁▂▃▃▄▅▆▆▇█</td></tr><tr><td>train_accuracy</td><td>▁▆▆▇▇▇████</td></tr><tr><td>train_loss</td><td>█▃▂▂▂▁▁▁▁▁</td></tr><tr><td>val_accuracy</td><td>▁▄▅▆▇▇████</td></tr><tr><td>val_loss</td><td>█▅▄▃▂▂▁▁▁▁</td></tr></table><br/></div><div class=\"wandb-col\"><h3>Run summary:</h3><br/><table class=\"wandb\"><tr><td>epoch</td><td>9</td></tr><tr><td>train_accuracy</td><td>0.81732</td></tr><tr><td>train_loss</td><td>0.60258</td></tr><tr><td>val_accuracy</td><td>0.77556</td></tr><tr><td>val_loss</td><td>0.74138</td></tr></table><br/></div></div>"
      ],
      "text/plain": [
       "<IPython.core.display.HTML object>"
      ]
     },
     "metadata": {},
     "output_type": "display_data"
    },
    {
     "data": {
      "text/html": [
       " View run <strong style=\"color:#cdcd00\">GRU_epochs10_emb16_hid64_enc2_dec2_do31</strong> at: <a href='https://wandb.ai/mm21b010-indian-institute-of-technology-madras/dakshina-transliteration/runs/tsxaj9bb' target=\"_blank\">https://wandb.ai/mm21b010-indian-institute-of-technology-madras/dakshina-transliteration/runs/tsxaj9bb</a><br> View project at: <a href='https://wandb.ai/mm21b010-indian-institute-of-technology-madras/dakshina-transliteration' target=\"_blank\">https://wandb.ai/mm21b010-indian-institute-of-technology-madras/dakshina-transliteration</a><br>Synced 5 W&B file(s), 0 media file(s), 0 artifact file(s) and 0 other file(s)"
      ],
      "text/plain": [
       "<IPython.core.display.HTML object>"
      ]
     },
     "metadata": {},
     "output_type": "display_data"
    },
    {
     "data": {
      "text/html": [
       "Find logs at: <code>./wandb/run-20250519_202135-tsxaj9bb/logs</code>"
      ],
      "text/plain": [
       "<IPython.core.display.HTML object>"
      ]
     },
     "metadata": {},
     "output_type": "display_data"
    },
    {
     "name": "stderr",
     "output_type": "stream",
     "text": [
      "\u001b[34m\u001b[1mwandb\u001b[0m: Agent Starting Run: fwkqbbu9 with config:\n",
      "\u001b[34m\u001b[1mwandb\u001b[0m: \tcell_type: GRU\n",
      "\u001b[34m\u001b[1mwandb\u001b[0m: \tdropout: 0.24\n",
      "\u001b[34m\u001b[1mwandb\u001b[0m: \tembedding_dim: 16\n",
      "\u001b[34m\u001b[1mwandb\u001b[0m: \tencoder_layers: 2\n",
      "\u001b[34m\u001b[1mwandb\u001b[0m: \tepochs: 10\n",
      "\u001b[34m\u001b[1mwandb\u001b[0m: \thidden_size: 256\n"
     ]
    },
    {
     "data": {
      "text/html": [
       "Tracking run with wandb version 0.19.9"
      ],
      "text/plain": [
       "<IPython.core.display.HTML object>"
      ]
     },
     "metadata": {},
     "output_type": "display_data"
    },
    {
     "data": {
      "text/html": [
       "Run data is saved locally in <code>/kaggle/working/wandb/run-20250519_203838-fwkqbbu9</code>"
      ],
      "text/plain": [
       "<IPython.core.display.HTML object>"
      ]
     },
     "metadata": {},
     "output_type": "display_data"
    },
    {
     "data": {
      "text/html": [
       "Syncing run <strong><a href='https://wandb.ai/mm21b010-indian-institute-of-technology-madras/dakshina-transliteration/runs/fwkqbbu9' target=\"_blank\">colorful-sweep-16</a></strong> to <a href='https://wandb.ai/mm21b010-indian-institute-of-technology-madras/dakshina-transliteration' target=\"_blank\">Weights & Biases</a> (<a href='https://wandb.me/developer-guide' target=\"_blank\">docs</a>)<br>Sweep page: <a href='https://wandb.ai/mm21b010-indian-institute-of-technology-madras/dakshina-transliteration/sweeps/9tg1us73' target=\"_blank\">https://wandb.ai/mm21b010-indian-institute-of-technology-madras/dakshina-transliteration/sweeps/9tg1us73</a>"
      ],
      "text/plain": [
       "<IPython.core.display.HTML object>"
      ]
     },
     "metadata": {},
     "output_type": "display_data"
    },
    {
     "data": {
      "text/html": [
       " View project at <a href='https://wandb.ai/mm21b010-indian-institute-of-technology-madras/dakshina-transliteration' target=\"_blank\">https://wandb.ai/mm21b010-indian-institute-of-technology-madras/dakshina-transliteration</a>"
      ],
      "text/plain": [
       "<IPython.core.display.HTML object>"
      ]
     },
     "metadata": {},
     "output_type": "display_data"
    },
    {
     "data": {
      "text/html": [
       " View sweep at <a href='https://wandb.ai/mm21b010-indian-institute-of-technology-madras/dakshina-transliteration/sweeps/9tg1us73' target=\"_blank\">https://wandb.ai/mm21b010-indian-institute-of-technology-madras/dakshina-transliteration/sweeps/9tg1us73</a>"
      ],
      "text/plain": [
       "<IPython.core.display.HTML object>"
      ]
     },
     "metadata": {},
     "output_type": "display_data"
    },
    {
     "data": {
      "text/html": [
       " View run at <a href='https://wandb.ai/mm21b010-indian-institute-of-technology-madras/dakshina-transliteration/runs/fwkqbbu9' target=\"_blank\">https://wandb.ai/mm21b010-indian-institute-of-technology-madras/dakshina-transliteration/runs/fwkqbbu9</a>"
      ],
      "text/plain": [
       "<IPython.core.display.HTML object>"
      ]
     },
     "metadata": {},
     "output_type": "display_data"
    },
    {
     "name": "stderr",
     "output_type": "stream",
     "text": [
      "Epoch 1: 100%|██████████| 1382/1382 [01:41<00:00, 13.55it/s, acc=0.896, loss=0.653]\n",
      "Epoch 2: 100%|██████████| 1382/1382 [01:42<00:00, 13.53it/s, acc=0.786, loss=0.756]\n",
      "Epoch 3: 100%|██████████| 1382/1382 [01:42<00:00, 13.52it/s, acc=0.851, loss=0.367]\n",
      "Epoch 4: 100%|██████████| 1382/1382 [01:42<00:00, 13.52it/s, acc=0.944, loss=0.243]\n",
      "Epoch 5: 100%|██████████| 1382/1382 [01:42<00:00, 13.45it/s, acc=0.862, loss=0.489]\n",
      "Epoch 6: 100%|██████████| 1382/1382 [01:42<00:00, 13.43it/s, acc=0.899, loss=0.279]\n",
      "Epoch 7: 100%|██████████| 1382/1382 [01:41<00:00, 13.60it/s, acc=0.805, loss=0.486]\n",
      "Epoch 8: 100%|██████████| 1382/1382 [01:41<00:00, 13.58it/s, acc=0.95, loss=0.22]  \n",
      "Epoch 9: 100%|██████████| 1382/1382 [01:41<00:00, 13.58it/s, acc=0.887, loss=0.412]\n",
      "Epoch 10: 100%|██████████| 1382/1382 [01:42<00:00, 13.50it/s, acc=0.76, loss=0.963] \n"
     ]
    },
    {
     "data": {
      "text/html": [],
      "text/plain": [
       "<IPython.core.display.HTML object>"
      ]
     },
     "metadata": {},
     "output_type": "display_data"
    },
    {
     "data": {
      "text/html": [
       "<br>    <style><br>        .wandb-row {<br>            display: flex;<br>            flex-direction: row;<br>            flex-wrap: wrap;<br>            justify-content: flex-start;<br>            width: 100%;<br>        }<br>        .wandb-col {<br>            display: flex;<br>            flex-direction: column;<br>            flex-basis: 100%;<br>            flex: 1;<br>            padding: 10px;<br>        }<br>    </style><br><div class=\"wandb-row\"><div class=\"wandb-col\"><h3>Run history:</h3><br/><table class=\"wandb\"><tr><td>epoch</td><td>▁▂▃▃▄▅▆▆▇█</td></tr><tr><td>train_accuracy</td><td>▁▅▆▆▇▇▇███</td></tr><tr><td>train_loss</td><td>█▄▃▂▂▂▂▁▁▁</td></tr><tr><td>val_accuracy</td><td>▁▄▆▇▇█▇██▇</td></tr><tr><td>val_loss</td><td>█▄▂▂▁▁▂▁▁▃</td></tr></table><br/></div><div class=\"wandb-col\"><h3>Run summary:</h3><br/><table class=\"wandb\"><tr><td>epoch</td><td>9</td></tr><tr><td>train_accuracy</td><td>0.90698</td></tr><tr><td>train_loss</td><td>0.30556</td></tr><tr><td>val_accuracy</td><td>0.80111</td></tr><tr><td>val_loss</td><td>0.71248</td></tr></table><br/></div></div>"
      ],
      "text/plain": [
       "<IPython.core.display.HTML object>"
      ]
     },
     "metadata": {},
     "output_type": "display_data"
    },
    {
     "data": {
      "text/html": [
       " View run <strong style=\"color:#cdcd00\">GRU_epochs10_emb16_hid256_enc2_dec2_do24</strong> at: <a href='https://wandb.ai/mm21b010-indian-institute-of-technology-madras/dakshina-transliteration/runs/fwkqbbu9' target=\"_blank\">https://wandb.ai/mm21b010-indian-institute-of-technology-madras/dakshina-transliteration/runs/fwkqbbu9</a><br> View project at: <a href='https://wandb.ai/mm21b010-indian-institute-of-technology-madras/dakshina-transliteration' target=\"_blank\">https://wandb.ai/mm21b010-indian-institute-of-technology-madras/dakshina-transliteration</a><br>Synced 5 W&B file(s), 0 media file(s), 0 artifact file(s) and 0 other file(s)"
      ],
      "text/plain": [
       "<IPython.core.display.HTML object>"
      ]
     },
     "metadata": {},
     "output_type": "display_data"
    },
    {
     "data": {
      "text/html": [
       "Find logs at: <code>./wandb/run-20250519_203838-fwkqbbu9/logs</code>"
      ],
      "text/plain": [
       "<IPython.core.display.HTML object>"
      ]
     },
     "metadata": {},
     "output_type": "display_data"
    },
    {
     "name": "stderr",
     "output_type": "stream",
     "text": [
      "\u001b[34m\u001b[1mwandb\u001b[0m: Agent Starting Run: p30stm5e with config:\n",
      "\u001b[34m\u001b[1mwandb\u001b[0m: \tcell_type: GRU\n",
      "\u001b[34m\u001b[1mwandb\u001b[0m: \tdropout: 0.31\n",
      "\u001b[34m\u001b[1mwandb\u001b[0m: \tembedding_dim: 16\n",
      "\u001b[34m\u001b[1mwandb\u001b[0m: \tencoder_layers: 3\n",
      "\u001b[34m\u001b[1mwandb\u001b[0m: \tepochs: 10\n",
      "\u001b[34m\u001b[1mwandb\u001b[0m: \thidden_size: 256\n"
     ]
    },
    {
     "data": {
      "text/html": [
       "Tracking run with wandb version 0.19.9"
      ],
      "text/plain": [
       "<IPython.core.display.HTML object>"
      ]
     },
     "metadata": {},
     "output_type": "display_data"
    },
    {
     "data": {
      "text/html": [
       "Run data is saved locally in <code>/kaggle/working/wandb/run-20250519_205627-p30stm5e</code>"
      ],
      "text/plain": [
       "<IPython.core.display.HTML object>"
      ]
     },
     "metadata": {},
     "output_type": "display_data"
    },
    {
     "data": {
      "text/html": [
       "Syncing run <strong><a href='https://wandb.ai/mm21b010-indian-institute-of-technology-madras/dakshina-transliteration/runs/p30stm5e' target=\"_blank\">sleek-sweep-17</a></strong> to <a href='https://wandb.ai/mm21b010-indian-institute-of-technology-madras/dakshina-transliteration' target=\"_blank\">Weights & Biases</a> (<a href='https://wandb.me/developer-guide' target=\"_blank\">docs</a>)<br>Sweep page: <a href='https://wandb.ai/mm21b010-indian-institute-of-technology-madras/dakshina-transliteration/sweeps/9tg1us73' target=\"_blank\">https://wandb.ai/mm21b010-indian-institute-of-technology-madras/dakshina-transliteration/sweeps/9tg1us73</a>"
      ],
      "text/plain": [
       "<IPython.core.display.HTML object>"
      ]
     },
     "metadata": {},
     "output_type": "display_data"
    },
    {
     "data": {
      "text/html": [
       " View project at <a href='https://wandb.ai/mm21b010-indian-institute-of-technology-madras/dakshina-transliteration' target=\"_blank\">https://wandb.ai/mm21b010-indian-institute-of-technology-madras/dakshina-transliteration</a>"
      ],
      "text/plain": [
       "<IPython.core.display.HTML object>"
      ]
     },
     "metadata": {},
     "output_type": "display_data"
    },
    {
     "data": {
      "text/html": [
       " View sweep at <a href='https://wandb.ai/mm21b010-indian-institute-of-technology-madras/dakshina-transliteration/sweeps/9tg1us73' target=\"_blank\">https://wandb.ai/mm21b010-indian-institute-of-technology-madras/dakshina-transliteration/sweeps/9tg1us73</a>"
      ],
      "text/plain": [
       "<IPython.core.display.HTML object>"
      ]
     },
     "metadata": {},
     "output_type": "display_data"
    },
    {
     "data": {
      "text/html": [
       " View run at <a href='https://wandb.ai/mm21b010-indian-institute-of-technology-madras/dakshina-transliteration/runs/p30stm5e' target=\"_blank\">https://wandb.ai/mm21b010-indian-institute-of-technology-madras/dakshina-transliteration/runs/p30stm5e</a>"
      ],
      "text/plain": [
       "<IPython.core.display.HTML object>"
      ]
     },
     "metadata": {},
     "output_type": "display_data"
    },
    {
     "name": "stderr",
     "output_type": "stream",
     "text": [
      "Epoch 1: 100%|██████████| 1382/1382 [01:41<00:00, 13.58it/s, acc=0.721, loss=1.01] \n",
      "Epoch 2: 100%|██████████| 1382/1382 [01:41<00:00, 13.64it/s, acc=0.807, loss=0.479]\n",
      "Epoch 3: 100%|██████████| 1382/1382 [01:41<00:00, 13.61it/s, acc=0.769, loss=0.668]\n",
      "Epoch 4: 100%|██████████| 1382/1382 [01:41<00:00, 13.55it/s, acc=0.849, loss=0.496]\n",
      "Epoch 5: 100%|██████████| 1382/1382 [01:41<00:00, 13.61it/s, acc=0.811, loss=0.493]\n",
      "Epoch 6: 100%|██████████| 1382/1382 [01:41<00:00, 13.61it/s, acc=0.902, loss=0.43] \n",
      "Epoch 7: 100%|██████████| 1382/1382 [01:41<00:00, 13.60it/s, acc=0.764, loss=0.574]\n",
      "Epoch 8: 100%|██████████| 1382/1382 [01:41<00:00, 13.59it/s, acc=0.879, loss=0.406]\n",
      "Epoch 9: 100%|██████████| 1382/1382 [01:41<00:00, 13.61it/s, acc=0.756, loss=0.714]\n",
      "Epoch 10: 100%|██████████| 1382/1382 [01:41<00:00, 13.58it/s, acc=0.929, loss=0.249]\n"
     ]
    },
    {
     "data": {
      "text/html": [],
      "text/plain": [
       "<IPython.core.display.HTML object>"
      ]
     },
     "metadata": {},
     "output_type": "display_data"
    },
    {
     "data": {
      "text/html": [
       "<br>    <style><br>        .wandb-row {<br>            display: flex;<br>            flex-direction: row;<br>            flex-wrap: wrap;<br>            justify-content: flex-start;<br>            width: 100%;<br>        }<br>        .wandb-col {<br>            display: flex;<br>            flex-direction: column;<br>            flex-basis: 100%;<br>            flex: 1;<br>            padding: 10px;<br>        }<br>    </style><br><div class=\"wandb-row\"><div class=\"wandb-col\"><h3>Run history:</h3><br/><table class=\"wandb\"><tr><td>epoch</td><td>▁▂▃▃▄▅▆▆▇█</td></tr><tr><td>train_accuracy</td><td>▁▅▆▆▇▇▇███</td></tr><tr><td>train_loss</td><td>█▄▃▃▂▂▂▁▁▁</td></tr><tr><td>val_accuracy</td><td>▁▄▆▆▇▇██▇█</td></tr><tr><td>val_loss</td><td>█▄▃▂▂▂▁▁▂▂</td></tr></table><br/></div><div class=\"wandb-col\"><h3>Run summary:</h3><br/><table class=\"wandb\"><tr><td>epoch</td><td>9</td></tr><tr><td>train_accuracy</td><td>0.89311</td></tr><tr><td>train_loss</td><td>0.34829</td></tr><tr><td>val_accuracy</td><td>0.80335</td></tr><tr><td>val_loss</td><td>0.69205</td></tr></table><br/></div></div>"
      ],
      "text/plain": [
       "<IPython.core.display.HTML object>"
      ]
     },
     "metadata": {},
     "output_type": "display_data"
    },
    {
     "data": {
      "text/html": [
       " View run <strong style=\"color:#cdcd00\">GRU_epochs10_emb16_hid256_enc3_dec3_do31</strong> at: <a href='https://wandb.ai/mm21b010-indian-institute-of-technology-madras/dakshina-transliteration/runs/p30stm5e' target=\"_blank\">https://wandb.ai/mm21b010-indian-institute-of-technology-madras/dakshina-transliteration/runs/p30stm5e</a><br> View project at: <a href='https://wandb.ai/mm21b010-indian-institute-of-technology-madras/dakshina-transliteration' target=\"_blank\">https://wandb.ai/mm21b010-indian-institute-of-technology-madras/dakshina-transliteration</a><br>Synced 5 W&B file(s), 0 media file(s), 0 artifact file(s) and 0 other file(s)"
      ],
      "text/plain": [
       "<IPython.core.display.HTML object>"
      ]
     },
     "metadata": {},
     "output_type": "display_data"
    },
    {
     "data": {
      "text/html": [
       "Find logs at: <code>./wandb/run-20250519_205627-p30stm5e/logs</code>"
      ],
      "text/plain": [
       "<IPython.core.display.HTML object>"
      ]
     },
     "metadata": {},
     "output_type": "display_data"
    },
    {
     "name": "stderr",
     "output_type": "stream",
     "text": [
      "\u001b[34m\u001b[1mwandb\u001b[0m: Agent Starting Run: ztodar7l with config:\n",
      "\u001b[34m\u001b[1mwandb\u001b[0m: \tcell_type: GRU\n",
      "\u001b[34m\u001b[1mwandb\u001b[0m: \tdropout: 0.24\n",
      "\u001b[34m\u001b[1mwandb\u001b[0m: \tembedding_dim: 32\n",
      "\u001b[34m\u001b[1mwandb\u001b[0m: \tencoder_layers: 2\n",
      "\u001b[34m\u001b[1mwandb\u001b[0m: \tepochs: 10\n",
      "\u001b[34m\u001b[1mwandb\u001b[0m: \thidden_size: 64\n"
     ]
    },
    {
     "data": {
      "text/html": [
       "Tracking run with wandb version 0.19.9"
      ],
      "text/plain": [
       "<IPython.core.display.HTML object>"
      ]
     },
     "metadata": {},
     "output_type": "display_data"
    },
    {
     "data": {
      "text/html": [
       "Run data is saved locally in <code>/kaggle/working/wandb/run-20250519_211410-ztodar7l</code>"
      ],
      "text/plain": [
       "<IPython.core.display.HTML object>"
      ]
     },
     "metadata": {},
     "output_type": "display_data"
    },
    {
     "data": {
      "text/html": [
       "Syncing run <strong><a href='https://wandb.ai/mm21b010-indian-institute-of-technology-madras/dakshina-transliteration/runs/ztodar7l' target=\"_blank\">still-sweep-18</a></strong> to <a href='https://wandb.ai/mm21b010-indian-institute-of-technology-madras/dakshina-transliteration' target=\"_blank\">Weights & Biases</a> (<a href='https://wandb.me/developer-guide' target=\"_blank\">docs</a>)<br>Sweep page: <a href='https://wandb.ai/mm21b010-indian-institute-of-technology-madras/dakshina-transliteration/sweeps/9tg1us73' target=\"_blank\">https://wandb.ai/mm21b010-indian-institute-of-technology-madras/dakshina-transliteration/sweeps/9tg1us73</a>"
      ],
      "text/plain": [
       "<IPython.core.display.HTML object>"
      ]
     },
     "metadata": {},
     "output_type": "display_data"
    },
    {
     "data": {
      "text/html": [
       " View project at <a href='https://wandb.ai/mm21b010-indian-institute-of-technology-madras/dakshina-transliteration' target=\"_blank\">https://wandb.ai/mm21b010-indian-institute-of-technology-madras/dakshina-transliteration</a>"
      ],
      "text/plain": [
       "<IPython.core.display.HTML object>"
      ]
     },
     "metadata": {},
     "output_type": "display_data"
    },
    {
     "data": {
      "text/html": [
       " View sweep at <a href='https://wandb.ai/mm21b010-indian-institute-of-technology-madras/dakshina-transliteration/sweeps/9tg1us73' target=\"_blank\">https://wandb.ai/mm21b010-indian-institute-of-technology-madras/dakshina-transliteration/sweeps/9tg1us73</a>"
      ],
      "text/plain": [
       "<IPython.core.display.HTML object>"
      ]
     },
     "metadata": {},
     "output_type": "display_data"
    },
    {
     "data": {
      "text/html": [
       " View run at <a href='https://wandb.ai/mm21b010-indian-institute-of-technology-madras/dakshina-transliteration/runs/ztodar7l' target=\"_blank\">https://wandb.ai/mm21b010-indian-institute-of-technology-madras/dakshina-transliteration/runs/ztodar7l</a>"
      ],
      "text/plain": [
       "<IPython.core.display.HTML object>"
      ]
     },
     "metadata": {},
     "output_type": "display_data"
    },
    {
     "name": "stderr",
     "output_type": "stream",
     "text": [
      "Epoch 1: 100%|██████████| 1382/1382 [01:37<00:00, 14.13it/s, acc=0.653, loss=1.09] \n",
      "Epoch 2: 100%|██████████| 1382/1382 [01:37<00:00, 14.14it/s, acc=0.824, loss=0.551]\n",
      "Epoch 3: 100%|██████████| 1382/1382 [01:38<00:00, 14.10it/s, acc=0.671, loss=0.978]\n",
      "Epoch 4: 100%|██████████| 1382/1382 [01:38<00:00, 14.08it/s, acc=0.854, loss=0.488]\n",
      "Epoch 5: 100%|██████████| 1382/1382 [01:37<00:00, 14.15it/s, acc=0.815, loss=0.635]\n",
      "Epoch 6: 100%|██████████| 1382/1382 [01:38<00:00, 14.08it/s, acc=0.776, loss=0.62] \n",
      "Epoch 7: 100%|██████████| 1382/1382 [01:38<00:00, 14.02it/s, acc=0.712, loss=0.833]\n",
      "Epoch 2: 100%|██████████| 1382/1382 [01:41<00:00, 13.65it/s, acc=0.808, loss=0.545]\n",
      "Epoch 3: 100%|██████████| 1382/1382 [01:41<00:00, 13.65it/s, acc=0.81, loss=0.569] \n",
      "Epoch 4: 100%|██████████| 1382/1382 [01:41<00:00, 13.63it/s, acc=0.859, loss=0.411]\n",
      "Epoch 5: 100%|██████████| 1382/1382 [01:41<00:00, 13.64it/s, acc=0.975, loss=0.177]\n",
      "Epoch 9: 100%|██████████| 1382/1382 [01:41<00:00, 13.65it/s, acc=0.931, loss=0.365]\n",
      "Epoch 10: 100%|██████████| 1382/1382 [01:41<00:00, 13.62it/s, acc=0.853, loss=0.442]\n"
     ]
    },
    {
     "data": {
      "text/html": [],
      "text/plain": [
       "<IPython.core.display.HTML object>"
      ]
     },
     "metadata": {},
     "output_type": "display_data"
    },
    {
     "data": {
      "text/html": [
       "<br>    <style><br>        .wandb-row {<br>            display: flex;<br>            flex-direction: row;<br>            flex-wrap: wrap;<br>            justify-content: flex-start;<br>            width: 100%;<br>        }<br>        .wandb-col {<br>            display: flex;<br>            flex-direction: column;<br>            flex-basis: 100%;<br>            flex: 1;<br>            padding: 10px;<br>        }<br>    </style><br><div class=\"wandb-row\"><div class=\"wandb-col\"><h3>Run history:</h3><br/><table class=\"wandb\"><tr><td>epoch</td><td>▁▂▃▃▄▅▆▆▇█</td></tr><tr><td>train_accuracy</td><td>▁▅▆▆▇▇▇███</td></tr><tr><td>train_loss</td><td>█▄▃▂▂▂▂▁▁▁</td></tr><tr><td>val_accuracy</td><td>▁▄▆▆█▇▇▇▇█</td></tr><tr><td>val_loss</td><td>█▄▂▂▂▁▂▃▃▂</td></tr></table><br/></div><div class=\"wandb-col\"><h3>Run summary:</h3><br/><table class=\"wandb\"><tr><td>epoch</td><td>9</td></tr><tr><td>train_accuracy</td><td>0.90915</td></tr><tr><td>train_loss</td><td>0.29658</td></tr><tr><td>val_accuracy</td><td>0.81145</td></tr><tr><td>val_loss</td><td>0.67675</td></tr></table><br/></div></div>"
      ],
      "text/plain": [
       "<IPython.core.display.HTML object>"
      ]
     },
     "metadata": {},
     "output_type": "display_data"
    },
    {
     "data": {
      "text/html": [
       " View run <strong style=\"color:#cdcd00\">GRU_epochs10_emb32_hid256_enc3_dec3_do31</strong> at: <a href='https://wandb.ai/mm21b010-indian-institute-of-technology-madras/dakshina-transliteration/runs/pmtj7x0e' target=\"_blank\">https://wandb.ai/mm21b010-indian-institute-of-technology-madras/dakshina-transliteration/runs/pmtj7x0e</a><br> View project at: <a href='https://wandb.ai/mm21b010-indian-institute-of-technology-madras/dakshina-transliteration' target=\"_blank\">https://wandb.ai/mm21b010-indian-institute-of-technology-madras/dakshina-transliteration</a><br>Synced 5 W&B file(s), 0 media file(s), 0 artifact file(s) and 0 other file(s)"
      ],
      "text/plain": [
       "<IPython.core.display.HTML object>"
      ]
     },
     "metadata": {},
     "output_type": "display_data"
    },
    {
     "data": {
      "text/html": [
       "Find logs at: <code>./wandb/run-20250519_214916-pmtj7x0e/logs</code>"
      ],
      "text/plain": [
       "<IPython.core.display.HTML object>"
      ]
     },
     "metadata": {},
     "output_type": "display_data"
    }
   ],
   "source": [
    "# login only once at the start of notebook\n",
    "wandb.login(key=\"011c3a6cd3743b4b10442ed458038feb25f78ad6\")\n",
    "\n",
    "# create sweep\n",
    "sweep_id = wandb.sweep(sweep_config, project='dakshina-transliteration')\n",
    "\n",
    "# launch agents (single or multiple)\n",
    "wandb.agent(sweep_id, function=train, count=20)  # change count as needed\n",
    "wandb.finish()"
   ]
  },
  {
   "cell_type": "markdown",
   "metadata": {},
   "source": [
    "# Inference on the best attention based model"
   ]
  },
  {
   "cell_type": "code",
   "execution_count": 20,
   "metadata": {
    "execution": {
     "iopub.execute_input": "2025-05-20T11:35:18.977080Z",
     "iopub.status.busy": "2025-05-20T11:35:18.976301Z",
     "iopub.status.idle": "2025-05-20T11:51:30.534692Z",
     "shell.execute_reply": "2025-05-20T11:51:30.533914Z",
     "shell.execute_reply.started": "2025-05-20T11:35:18.977048Z"
    },
    "trusted": true
   },
   "outputs": [
    {
     "name": "stderr",
     "output_type": "stream",
     "text": [
      "Epoch 1: 100%|██████████| 1382/1382 [01:34<00:00, 14.61it/s, loss=0.936]\n"
     ]
    },
    {
     "name": "stdout",
     "output_type": "stream",
     "text": [
      "Epoch 1 avg loss: 1.4861\n"
     ]
    },
    {
     "name": "stderr",
     "output_type": "stream",
     "text": [
      "Epoch 2: 100%|██████████| 1382/1382 [01:36<00:00, 14.38it/s, loss=0.837]\n"
     ]
    },
    {
     "name": "stdout",
     "output_type": "stream",
     "text": [
      "Epoch 2 avg loss: 0.7337\n"
     ]
    },
    {
     "name": "stderr",
     "output_type": "stream",
     "text": [
      "Epoch 3: 100%|██████████| 1382/1382 [01:34<00:00, 14.59it/s, loss=0.305]\n"
     ]
    },
    {
     "name": "stdout",
     "output_type": "stream",
     "text": [
      "Epoch 3 avg loss: 0.5989\n"
     ]
    },
    {
     "name": "stderr",
     "output_type": "stream",
     "text": [
      "Epoch 4: 100%|██████████| 1382/1382 [01:35<00:00, 14.51it/s, loss=0.625]\n"
     ]
    },
    {
     "name": "stdout",
     "output_type": "stream",
     "text": [
      "Epoch 4 avg loss: 0.5171\n"
     ]
    },
    {
     "name": "stderr",
     "output_type": "stream",
     "text": [
      "Epoch 5: 100%|██████████| 1382/1382 [01:34<00:00, 14.63it/s, loss=0.279]\n"
     ]
    },
    {
     "name": "stdout",
     "output_type": "stream",
     "text": [
      "Epoch 5 avg loss: 0.4605\n"
     ]
    },
    {
     "name": "stderr",
     "output_type": "stream",
     "text": [
      "Epoch 6: 100%|██████████| 1382/1382 [01:36<00:00, 14.29it/s, loss=0.163]\n"
     ]
    },
    {
     "name": "stdout",
     "output_type": "stream",
     "text": [
      "Epoch 6 avg loss: 0.4091\n"
     ]
    },
    {
     "name": "stderr",
     "output_type": "stream",
     "text": [
      "Epoch 7: 100%|██████████| 1382/1382 [01:36<00:00, 14.33it/s, loss=0.209]\n"
     ]
    },
    {
     "name": "stdout",
     "output_type": "stream",
     "text": [
      "Epoch 7 avg loss: 0.3650\n"
     ]
    },
    {
     "name": "stderr",
     "output_type": "stream",
     "text": [
      "Epoch 8: 100%|██████████| 1382/1382 [01:38<00:00, 13.99it/s, loss=0.228]\n"
     ]
    },
    {
     "name": "stdout",
     "output_type": "stream",
     "text": [
      "Epoch 8 avg loss: 0.3272\n"
     ]
    },
    {
     "name": "stderr",
     "output_type": "stream",
     "text": [
      "Epoch 9: 100%|██████████| 1382/1382 [01:38<00:00, 13.99it/s, loss=0.243]\n"
     ]
    },
    {
     "name": "stdout",
     "output_type": "stream",
     "text": [
      "Epoch 9 avg loss: 0.2963\n"
     ]
    },
    {
     "name": "stderr",
     "output_type": "stream",
     "text": [
      "Epoch 10: 100%|██████████| 1382/1382 [01:38<00:00, 13.98it/s, loss=0.0787]\n"
     ]
    },
    {
     "name": "stdout",
     "output_type": "stream",
     "text": [
      "Epoch 10 avg loss: 0.2718\n",
      "Model saved to models/best_model.pth\n"
     ]
    },
    {
     "name": "stderr",
     "output_type": "stream",
     "text": [
      "Evaluating: 100%|██████████| 141/141 [00:06<00:00, 21.25it/s]"
     ]
    },
    {
     "name": "stdout",
     "output_type": "stream",
     "text": [
      "Test Accuracy: 0.3121\n",
      "Predictions saved to predictions_vanilla/test_predictions.tsv\n",
      "\n",
      "Sample Predictions:\n",
      "| Input (Romanized)   | Target (Devanagari)   | Prediction   |\n",
      "|:--------------------|:----------------------|:-------------|\n",
      "| datsun              | डैटसन                  | दत्सून         |\n",
      "| sanasthita          | संस्थिता                  | सास्थितिता        |\n",
      "| pehnate             | पहनते                  | पहनाते         |\n",
      "| moolon              | मूलों                    | मूलोंमममम       |\n",
      "| jokhim              | जोखिम                   | जोखीम          |\n",
      "| kabren              | कब्रें                   | कबरें          |\n",
      "| tankaar             | टंकार                   | तंकार          |\n",
      "| bhraanti            | भ्रांति                   | भ्रांती          |\n",
      "| mehkane             | महकने                  | महकाने         |\n",
      "| aasteen             | आस्तीन                  | आस्तीन         |\n"
     ]
    },
    {
     "name": "stderr",
     "output_type": "stream",
     "text": [
      "\n"
     ]
    }
   ],
   "source": [
    "import torch\n",
    "import torch.nn as nn\n",
    "import torch.optim as optim\n",
    "from torch.utils.data import DataLoader, ConcatDataset\n",
    "import pandas as pd\n",
    "from tqdm import tqdm\n",
    "import os\n",
    "\n",
    "# Assume these are defined elsewhere\n",
    "# from model import Seq2SeqModel\n",
    "# from data_loader import TransliterationDataset, build_vocab, encode_sequence, pad_sequence, load_kaggle_data\n",
    "\n",
    "# Define best hyperparameters (from sweep results)\n",
    "best_config = {\n",
    "    'embedding_dim': 16,\n",
    "    'hidden_size': 256,\n",
    "    'encoder_layers': 3,\n",
    "    'decoder_layers': 3,\n",
    "    'cell_type': 'LSTM',\n",
    "    'dropout': 0.31,\n",
    "    'epochs': 10,\n",
    "    'batch_size': 32\n",
    "}\n",
    "best_config = {\n",
    "    'embedding_dim': 32,\n",
    "    'hidden_size': 256,\n",
    "    'encoder_layers': 3,\n",
    "    'decoder_layers': 3,\n",
    "    'cell_type': 'LSTM',\n",
    "    'dropout': 0.3,\n",
    "    'epochs': 10,\n",
    "    'batch_size': 32\n",
    "}\n",
    "\n",
    "\n",
    "# Load and combine data\n",
    "def load_combined_data():\n",
    "    base_path = r\"/kaggle/input/dakshina-dataset1\"\n",
    "    train_df = pd.read_csv(f'{base_path}/hi.translit.sampled.train.tsv', sep='\\t', header=None, names=['devanagari', 'romanized', 'freq'])\n",
    "    val_df = pd.read_csv(f'{base_path}/hi.translit.sampled.dev.tsv', sep='\\t', header=None, names=['devanagari', 'romanized', 'freq'])\n",
    "    test_df = pd.read_csv(f'{base_path}/hi.translit.sampled.test.tsv', sep='\\t', header=None, names=['devanagari', 'romanized', 'freq'])\n",
    "\n",
    "    # Combine and clean data\n",
    "    combined_df = pd.concat([train_df, val_df], ignore_index=True)\n",
    "    combined_df.dropna(subset=['romanized', 'devanagari'], inplace=True)\n",
    "    test_df.dropna(subset=['romanized', 'devanagari'], inplace=True)  # Just in case\n",
    "    train_df.dropna(subset=['romanized', 'devanagari'], inplace=True)\n",
    "    # src_vocab = build_vocab(combined_df['romanized'])\n",
    "    # tgt_vocab = build_vocab(combined_df['devanagari'])\n",
    "    src_vocab = build_vocab(train_df['romanized'])  # ONLY training\n",
    "    tgt_vocab = build_vocab(train_df['devanagari'])  # ONLY training\n",
    "\n",
    "    train_dataset = TransliterationDataset(train_df, src_vocab, tgt_vocab)\n",
    "    test_dataset = TransliterationDataset(test_df, src_vocab, tgt_vocab)\n",
    "\n",
    "    train_loader = DataLoader(train_dataset, batch_size=best_config['batch_size'], shuffle=True)\n",
    "    test_loader = DataLoader(test_dataset, batch_size=best_config['batch_size'])\n",
    "\n",
    "    return train_loader, test_loader, src_vocab, tgt_vocab, test_df\n",
    "\n",
    "\n",
    "# Accuracy function\n",
    "def compute_accuracy(preds, targets):\n",
    "    match = 0\n",
    "    total = 0\n",
    "    for pred, tgt in zip(preds, targets):\n",
    "        if pred == tgt:\n",
    "            match += 1\n",
    "        total += 1\n",
    "    return match / total\n",
    "\n",
    "# Evaluation and prediction\n",
    "def evaluate(model, data_loader, tgt_vocab, device):\n",
    "    model.eval()\n",
    "    idx_to_char = {i: c for c, i in tgt_vocab.items()}\n",
    "    predictions = []\n",
    "    targets = []\n",
    "\n",
    "    pad_idx = tgt_vocab[\"<pad>\"]\n",
    "    sos_idx = tgt_vocab[\"<sos>\"]\n",
    "    eos_idx = tgt_vocab[\"<eos>\"]\n",
    "\n",
    "    with torch.no_grad():\n",
    "        for src_batch, tgt_batch in tqdm(data_loader, desc=\"Evaluating\"):\n",
    "            src_batch = src_batch.to(device)\n",
    "            tgt_batch = tgt_batch.to(device)\n",
    "\n",
    "            # Use model's predict method\n",
    "            predicted_indices = model.predict(src_batch, tgt_vocab, max_len=tgt_batch.shape[1])\n",
    "\n",
    "            # Decode predicted and target sequences\n",
    "            for pred_seq, tgt_seq in zip(predicted_indices, tgt_batch):\n",
    "                pred_str = ''.join([idx_to_char[idx.item()] for idx in pred_seq if idx.item() not in [pad_idx, sos_idx, eos_idx]])\n",
    "                tgt_str = ''.join([idx_to_char[idx.item()] for idx in tgt_seq if idx.item() not in [pad_idx, sos_idx, eos_idx]])\n",
    "                predictions.append(pred_str)\n",
    "                targets.append(tgt_str)\n",
    "\n",
    "    acc = compute_accuracy(predictions, targets)\n",
    "    return predictions, targets, acc\n",
    "\n",
    "\n",
    "# Train the best model and evaluate\n",
    "def run_final_training():\n",
    "    train_loader, test_loader, src_vocab, tgt_vocab, test_df = load_combined_data()\n",
    "    input_vocab_size = len(src_vocab)\n",
    "    target_vocab_size = len(tgt_vocab)\n",
    "    device = torch.device(\"cuda\" if torch.cuda.is_available() else \"cpu\")\n",
    "\n",
    "    model = AttnSeq2SeqModel(input_vocab_size=input_vocab_size,\n",
    "                         target_vocab_size=target_vocab_size,\n",
    "                         embedding_dim=best_config['embedding_dim'],\n",
    "                         hidden_size=best_config['hidden_size'],\n",
    "                         cell_type=best_config['cell_type'],\n",
    "                         dropout=best_config['dropout']).to(device)\n",
    "\n",
    "    optimizer = optim.Adam(model.parameters())\n",
    "    criterion = nn.CrossEntropyLoss(ignore_index=src_vocab[\"<pad>\"])\n",
    "\n",
    "    model.train()\n",
    "    for epoch in range(best_config['epochs']):\n",
    "        total_loss = 0\n",
    "        loop = tqdm(train_loader, desc=f\"Epoch {epoch+1}\")\n",
    "        for src_batch, tgt_batch in loop:\n",
    "            src_batch, tgt_batch = src_batch.to(device), tgt_batch.to(device)\n",
    "            optimizer.zero_grad()\n",
    "            output = model(src_batch, tgt_batch)\n",
    "            loss = criterion(output[:, 1:].reshape(-1, target_vocab_size), tgt_batch[:, 1:].reshape(-1))\n",
    "            loss.backward()\n",
    "            optimizer.step()\n",
    "            total_loss += loss.item()\n",
    "            loop.set_postfix(loss=loss.item())\n",
    "\n",
    "        print(f\"Epoch {epoch+1} avg loss: {total_loss / len(train_loader):.4f}\")\n",
    "\n",
    "    # Save model\n",
    "    os.makedirs(\"/kaggle/working/models\", exist_ok=True)\n",
    "    torch.save(model.state_dict(), \"/kaggle/working/models/best_model.pth\")\n",
    "    print(\"Model saved to models/best_model.pth\")\n",
    "\n",
    "    # Evaluate\n",
    "    predictions, targets, test_acc = evaluate(model, test_loader, tgt_vocab, device)\n",
    "    print(f\"Test Accuracy: {test_acc:.4f}\")\n",
    "\n",
    "    # Save predictions\n",
    "    os.makedirs(\"predictions_vanilla\", exist_ok=True)\n",
    "    out_df = pd.DataFrame({\n",
    "        \"Input (Romanized)\": test_df['romanized'],\n",
    "        \"Target (Devanagari)\": test_df['devanagari'],\n",
    "        \"Prediction\": predictions\n",
    "    })\n",
    "    out_df.to_csv(\"predictions_vanilla/test_predictions.tsv\", sep=\"\\t\", index=False)\n",
    "    print(\"Predictions saved to predictions_vanilla/test_predictions.tsv\")\n",
    "\n",
    "    # Sample visualization\n",
    "    print(\"\\nSample Predictions:\")\n",
    "    print(out_df.sample(10).to_markdown(index=False))\n",
    "\n",
    "# Run the final training and evaluation\n",
    "run_final_training()"
   ]
  },
  {
   "cell_type": "markdown",
   "metadata": {},
   "source": [
    "# Attention heat maps"
   ]
  },
  {
   "cell_type": "code",
   "execution_count": 36,
   "metadata": {
    "execution": {
     "iopub.execute_input": "2025-05-20T17:33:41.231569Z",
     "iopub.status.busy": "2025-05-20T17:33:41.230714Z",
     "iopub.status.idle": "2025-05-20T17:33:41.379080Z",
     "shell.execute_reply": "2025-05-20T17:33:41.378483Z",
     "shell.execute_reply.started": "2025-05-20T17:33:41.231537Z"
    },
    "trusted": true
   },
   "outputs": [],
   "source": [
    "def load_combined_data():\n",
    "    base_path = r\"/kaggle/input/dakshina-dataset1\"\n",
    "    train_df = pd.read_csv(f'{base_path}/hi.translit.sampled.train.tsv', sep='\\t', header=None, names=['devanagari', 'romanized', 'freq'])\n",
    "    val_df = pd.read_csv(f'{base_path}/hi.translit.sampled.dev.tsv', sep='\\t', header=None, names=['devanagari', 'romanized', 'freq'])\n",
    "    test_df = pd.read_csv(f'{base_path}/hi.translit.sampled.test.tsv', sep='\\t', header=None, names=['devanagari', 'romanized', 'freq'])\n",
    "\n",
    "    # Combine and clean data\n",
    "    combined_df = pd.concat([train_df, val_df], ignore_index=True)\n",
    "    combined_df.dropna(subset=['romanized', 'devanagari'], inplace=True)\n",
    "    test_df.dropna(subset=['romanized', 'devanagari'], inplace=True)  # Just in case\n",
    "    train_df.dropna(subset=['romanized', 'devanagari'], inplace=True)\n",
    "    # src_vocab = build_vocab(combined_df['romanized'])\n",
    "    # tgt_vocab = build_vocab(combined_df['devanagari'])\n",
    "    src_vocab = build_vocab(train_df['romanized'])  # ONLY training\n",
    "    tgt_vocab = build_vocab(train_df['devanagari'])  # ONLY training\n",
    "\n",
    "    train_dataset = TransliterationDataset(combined_df, src_vocab, tgt_vocab)\n",
    "    test_dataset = TransliterationDataset(test_df, src_vocab, tgt_vocab)\n",
    "\n",
    "    train_loader = DataLoader(train_dataset, batch_size=32, shuffle=True)\n",
    "    test_loader = DataLoader(test_dataset, batch_size=32)\n",
    "\n",
    "    return train_loader, test_loader, src_vocab, tgt_vocab, test_df\n",
    "\n",
    "\n",
    "def invert_vocab(vocab):\n",
    "    return {idx: char for char, idx in vocab.items()}\n",
    "train_loader, test_loader, src_vocab, tgt_vocab, test_df = load_combined_data()\n",
    "src_vocab_inv = invert_vocab(src_vocab)\n",
    "tgt_vocab_inv = invert_vocab(tgt_vocab)"
   ]
  },
  {
   "cell_type": "code",
   "execution_count": 16,
   "metadata": {
    "execution": {
     "iopub.execute_input": "2025-05-20T16:17:52.846079Z",
     "iopub.status.busy": "2025-05-20T16:17:52.845777Z",
     "iopub.status.idle": "2025-05-20T16:18:28.311604Z",
     "shell.execute_reply": "2025-05-20T16:18:28.310886Z",
     "shell.execute_reply.started": "2025-05-20T16:17:52.846057Z"
    },
    "trusted": true
   },
   "outputs": [
    {
     "name": "stdout",
     "output_type": "stream",
     "text": [
      "Reading package lists... Done\n",
      "Building dependency tree... Done\n",
      "Reading state information... Done\n",
      "The following additional packages will be installed:\n",
      "  fonts-noto-cjk fonts-noto-cjk-extra fonts-noto-color-emoji fonts-noto-core fonts-noto-extra\n",
      "  fonts-noto-ui-core fonts-noto-ui-extra fonts-noto-unhinted\n",
      "The following NEW packages will be installed:\n",
      "  fonts-noto fonts-noto-cjk fonts-noto-cjk-extra fonts-noto-color-emoji fonts-noto-core\n",
      "  fonts-noto-extra fonts-noto-ui-core fonts-noto-ui-extra fonts-noto-unhinted\n",
      "0 upgraded, 9 newly installed, 0 to remove and 87 not upgraded.\n",
      "Need to get 316 MB of archives.\n",
      "After this operation, 788 MB of additional disk space will be used.\n",
      "Get:1 http://archive.ubuntu.com/ubuntu jammy/main amd64 fonts-noto-core all 20201225-1build1 [12.2 MB]\n",
      "Get:2 http://archive.ubuntu.com/ubuntu jammy/universe amd64 fonts-noto all 20201225-1build1 [16.8 kB]\n",
      "Get:3 http://archive.ubuntu.com/ubuntu jammy/main amd64 fonts-noto-cjk all 1:20220127+repack1-1 [61.2 MB]\n",
      "Get:4 http://archive.ubuntu.com/ubuntu jammy/main amd64 fonts-noto-cjk-extra all 1:20220127+repack1-1 [145 MB]\n",
      "Get:5 http://archive.ubuntu.com/ubuntu jammy-updates/main amd64 fonts-noto-color-emoji all 2.047-0ubuntu0.22.04.1 [10.0 MB]\n",
      "Get:6 http://archive.ubuntu.com/ubuntu jammy/universe amd64 fonts-noto-extra all 20201225-1build1 [72.4 MB]\n",
      "Get:7 http://archive.ubuntu.com/ubuntu jammy/main amd64 fonts-noto-ui-core all 20201225-1build1 [1,420 kB]\n",
      "Get:8 http://archive.ubuntu.com/ubuntu jammy/universe amd64 fonts-noto-ui-extra all 20201225-1build1 [14.3 MB]\n",
      "Get:9 http://archive.ubuntu.com/ubuntu jammy/universe amd64 fonts-noto-unhinted all 20201225-1build1 [16.8 kB]\n",
      "Fetched 316 MB in 13s (25.1 MB/s)                                                                   \n",
      "Selecting previously unselected package fonts-noto-core.\n",
      "(Reading database ... 129184 files and directories currently installed.)\n",
      "Preparing to unpack .../0-fonts-noto-core_20201225-1build1_all.deb ...\n",
      "Unpacking fonts-noto-core (20201225-1build1) ...\n",
      "Selecting previously unselected package fonts-noto.\n",
      "Preparing to unpack .../1-fonts-noto_20201225-1build1_all.deb ...\n",
      "Unpacking fonts-noto (20201225-1build1) ...\n",
      "Selecting previously unselected package fonts-noto-cjk.\n",
      "Preparing to unpack .../2-fonts-noto-cjk_1%3a20220127+repack1-1_all.deb ...\n",
      "Unpacking fonts-noto-cjk (1:20220127+repack1-1) ...\n",
      "Selecting previously unselected package fonts-noto-cjk-extra.\n",
      "Preparing to unpack .../3-fonts-noto-cjk-extra_1%3a20220127+repack1-1_all.deb ...\n",
      "Unpacking fonts-noto-cjk-extra (1:20220127+repack1-1) ...\n",
      "Selecting previously unselected package fonts-noto-color-emoji.\n",
      "Preparing to unpack .../4-fonts-noto-color-emoji_2.047-0ubuntu0.22.04.1_all.deb ...\n",
      "Unpacking fonts-noto-color-emoji (2.047-0ubuntu0.22.04.1) ...\n",
      "Selecting previously unselected package fonts-noto-extra.\n",
      "Preparing to unpack .../5-fonts-noto-extra_20201225-1build1_all.deb ...\n",
      "Unpacking fonts-noto-extra (20201225-1build1) ...\n",
      "Selecting previously unselected package fonts-noto-ui-core.\n",
      "Preparing to unpack .../6-fonts-noto-ui-core_20201225-1build1_all.deb ...\n",
      "Unpacking fonts-noto-ui-core (20201225-1build1) ...\n",
      "Selecting previously unselected package fonts-noto-ui-extra.\n",
      "Preparing to unpack .../7-fonts-noto-ui-extra_20201225-1build1_all.deb ...\n",
      "Unpacking fonts-noto-ui-extra (20201225-1build1) ...\n",
      "Selecting previously unselected package fonts-noto-unhinted.\n",
      "Preparing to unpack .../8-fonts-noto-unhinted_20201225-1build1_all.deb ...\n",
      "Unpacking fonts-noto-unhinted (20201225-1build1) ...\n",
      "Setting up fonts-noto-color-emoji (2.047-0ubuntu0.22.04.1) ...\n",
      "Setting up fonts-noto-ui-extra (20201225-1build1) ...\n",
      "Setting up fonts-noto-extra (20201225-1build1) ...\n",
      "Setting up fonts-noto-cjk (1:20220127+repack1-1) ...\n",
      "Setting up fonts-noto-unhinted (20201225-1build1) ...\n",
      "Setting up fonts-noto-ui-core (20201225-1build1) ...\n",
      "Setting up fonts-noto-core (20201225-1build1) ...\n",
      "Setting up fonts-noto-cjk-extra (1:20220127+repack1-1) ...\n",
      "Setting up fonts-noto (20201225-1build1) ...\n",
      "Processing triggers for fontconfig (2.13.1-4.2ubuntu5) ...\n"
     ]
    }
   ],
   "source": [
    "import seaborn as sns\n",
    "import matplotlib.pyplot as plt\n",
    "import matplotlib.font_manager as fm\n",
    "import torch\n",
    "!apt-get install -y fonts-noto\n",
    "# Path to Devanagari font file found in step 1\n",
    "font_path = '/usr/share/fonts/truetype/noto/NotoSansDevanagari-Regular.ttf'\n",
    "\n",
    "# Create a font property object\n",
    "devanagari_font = fm.FontProperties(fname=font_path)\n",
    "\n",
    "def plot_attention(src_seq, pred_seq, attn_weights, src_vocab_inv, tgt_vocab_inv, idx):\n",
    "    src_tokens = [src_vocab_inv[i] for i in src_seq if i != src_vocab[PAD_TOKEN]]\n",
    "    tgt_tokens = [tgt_vocab_inv[i] for i in pred_seq if i not in {tgt_vocab[EOS_TOKEN], tgt_vocab[PAD_TOKEN]}]\n",
    "\n",
    "    plt.figure(figsize=(6, 4))\n",
    "    sns.heatmap(attn_weights[:len(tgt_tokens), :len(src_tokens)].numpy(),\n",
    "                xticklabels=src_tokens,\n",
    "                yticklabels=tgt_tokens,\n",
    "                cmap='viridis', annot=False)\n",
    "    plt.xlabel(\"Source (Romanized)\")\n",
    "    # plt.ylabel(\"Predicted (Devanagari)\", fontproperties=devanagari_font)\n",
    "    plt.ylabel(\"Predicted (Devanagari)\")\n",
    "    # plt.title(f\"Attention Heatmap {idx}\", fontproperties=devanagari_font)\n",
    "    plt.title(f\"Attention Heatmap {idx}\")\n",
    "    plt.tight_layout()\n",
    "    plt.show()\n",
    "\n",
    "def visualize_attention_grid(model, dataset, src_vocab, tgt_vocab, src_vocab_inv, tgt_vocab_inv, device, num_samples=9):\n",
    "    model.eval()\n",
    "    import matplotlib.pyplot as plt\n",
    "    import seaborn as sns\n",
    "    from matplotlib.font_manager import FontProperties\n",
    "\n",
    "    fig, axes = plt.subplots(3, 3, figsize=(15, 12))\n",
    "    sample_indices = torch.randperm(len(dataset))[:num_samples]\n",
    "\n",
    "    latin_font = FontProperties()  # default font\n",
    "\n",
    "    for i, idx in enumerate(sample_indices):\n",
    "        src_seq_tensor, tgt_seq_tensor = dataset[idx.item()]\n",
    "        src_seq_tensor = src_seq_tensor.unsqueeze(0).to(device)\n",
    "        pred_seq, attn_weights = model.predict_with_attention(src_seq_tensor, tgt_vocab)\n",
    "    \n",
    "        src_seq = src_seq_tensor[0].tolist()\n",
    "        pred_seq = pred_seq[0].tolist()\n",
    "        src_tokens = [src_vocab_inv[i] for i in src_seq if i != src_vocab[PAD_TOKEN]]\n",
    "        tgt_tokens = [tgt_vocab_inv[i] for i in pred_seq if i not in {tgt_vocab[EOS_TOKEN], tgt_vocab[PAD_TOKEN]}]\n",
    "\n",
    "        ax = axes[i // 3, i % 3]\n",
    "        attn_matrix = attn_weights.squeeze(0).detach().cpu().numpy()\n",
    "        \n",
    "        sns.heatmap(attn_matrix[:len(tgt_tokens), :len(src_tokens)],\n",
    "                    xticklabels=src_tokens,\n",
    "                    yticklabels=tgt_tokens,\n",
    "                    cmap=\"viridis\",\n",
    "                    ax=ax)\n",
    "\n",
    "        ax.set_xlabel(\"Source\")\n",
    "        ax.set_ylabel(\"Prediction\")\n",
    "        ax.set_title(f\"Sample {i+1}\")\n",
    "\n",
    "        # Reapply tick labels with explicit fonts\n",
    "        x_labels = [label.get_text() for label in ax.get_xticklabels()]\n",
    "        y_labels = [label.get_text() for label in ax.get_yticklabels()]\n",
    "\n",
    "        ax.set_xticks(ax.get_xticks())\n",
    "        ax.set_xticklabels(x_labels, fontproperties=latin_font, rotation=45, ha='right')\n",
    "\n",
    "        ax.set_yticks(ax.get_yticks())\n",
    "        ax.set_yticklabels(y_labels, fontproperties=devanagari_font)\n",
    "\n",
    "    plt.tight_layout()\n",
    "    plt.show()\n"
   ]
  },
  {
   "cell_type": "code",
   "execution_count": 39,
   "metadata": {
    "execution": {
     "iopub.execute_input": "2025-05-20T17:35:47.597321Z",
     "iopub.status.busy": "2025-05-20T17:35:47.596766Z",
     "iopub.status.idle": "2025-05-20T17:35:52.015479Z",
     "shell.execute_reply": "2025-05-20T17:35:52.014672Z",
     "shell.execute_reply.started": "2025-05-20T17:35:47.597292Z"
    },
    "trusted": true
   },
   "outputs": [
    {
     "data": {
      "image/png": "[encoded data removed]",
      "text/plain": [
       "<Figure size 1500x1200 with 18 Axes>"
      ]
     },
     "metadata": {},
     "output_type": "display_data"
    }
   ],
   "source": [
    "import warnings\n",
    "warnings.filterwarnings(\"ignore\")\n",
    "\n",
    "train_loader, dev_loader, src_vocab, tgt_vocab = load_data()\n",
    "_, test_loader, src_vocab, tgt_vocab, test_df = load_combined_data()\n",
    "input_vocab_size = len(src_vocab)\n",
    "target_vocab_size = len(tgt_vocab)\n",
    "device = torch.device(\"cuda\" if torch.cuda.is_available() else \"cpu\")\n",
    "src_vocab_inv = invert_vocab(src_vocab)\n",
    "tgt_vocab_inv = invert_vocab(tgt_vocab)\n",
    "\n",
    "device = torch.device(\"cuda\" if torch.cuda.is_available() else \"cpu\")\n",
    "best_config = {\n",
    "    'embedding_dim': 16,\n",
    "    'hidden_size': 256,\n",
    "    'encoder_layers': 3,\n",
    "    'decoder_layers': 3,\n",
    "    'cell_type': 'LSTM',\n",
    "    'dropout': 0.31,\n",
    "    'epochs': 10,\n",
    "    'batch_size': 32\n",
    "}\n",
    "model = AttnSeq2SeqModel(input_vocab_size=input_vocab_size,\n",
    "                         target_vocab_size=target_vocab_size,\n",
    "                         embedding_dim=best_config['embedding_dim'],\n",
    "                         hidden_size=best_config['hidden_size'],\n",
    "                         cell_type=best_config['cell_type'],\n",
    "                         dropout=best_config['dropout']).to(device)  # load your trained model here\n",
    "\n",
    "model.load_state_dict(torch.load(\"/kaggle/input/attention-model/pytorch/default/1/best_model_attention_based.pth\", map_location=device))\n",
    "model.to(device)\n",
    "\n",
    "visualize_attention_grid(model, dev_loader.dataset, src_vocab, tgt_vocab, src_vocab_inv, tgt_vocab_inv, device)"
   ]
  },
  {
   "cell_type": "markdown",
   "metadata": {},
   "source": [
    "# Interactive connectivity analysis of the model"
   ]
  },
  {
   "cell_type": "code",
   "execution_count": 40,
   "metadata": {
    "execution": {
     "iopub.execute_input": "2025-05-20T17:35:59.473488Z",
     "iopub.status.busy": "2025-05-20T17:35:59.473197Z",
     "iopub.status.idle": "2025-05-20T17:35:59.484481Z",
     "shell.execute_reply": "2025-05-20T17:35:59.483680Z",
     "shell.execute_reply.started": "2025-05-20T17:35:59.473467Z"
    },
    "trusted": true
   },
   "outputs": [],
   "source": [
    "import torch\n",
    "import numpy as np\n",
    "\n",
    "def extract_attention_samples(model, dataset, src_vocab_inv, tgt_vocab_inv, device, num_samples=3):\n",
    "    model.eval()\n",
    "    samples = []\n",
    "\n",
    "    indices = torch.randperm(len(dataset))[:num_samples]\n",
    "    for idx in indices:\n",
    "        src_seq_tensor, _ = dataset[idx.item()]\n",
    "        src_seq_tensor = src_seq_tensor.unsqueeze(0).to(device)\n",
    "\n",
    "        pred_seq, attn_weights = model.predict_with_attention(src_seq_tensor, tgt_vocab)\n",
    "\n",
    "        src_seq = src_seq_tensor[0].tolist()\n",
    "        pred_seq = pred_seq[0].tolist()\n",
    "        src_tokens = [src_vocab_inv[i] for i in src_seq if i != src_vocab[PAD_TOKEN]]\n",
    "        tgt_tokens = [tgt_vocab_inv[i] for i in pred_seq if i not in {tgt_vocab[PAD_TOKEN], tgt_vocab[EOS_TOKEN]}]\n",
    "        attn_matrix = attn_weights.squeeze(0)[:len(tgt_tokens), :len(src_tokens)].detach().cpu().numpy()\n",
    "\n",
    "        samples.append({\n",
    "            'src_tokens': src_tokens,\n",
    "            'tgt_tokens': tgt_tokens,\n",
    "            'attention': attn_matrix.tolist()  # make JSON-serializable\n",
    "        })\n",
    "\n",
    "    return samples\n",
    "\n",
    "def extract_attention_samples(model, dataset, src_vocab_inv, tgt_vocab_inv, device, num_samples=3):\n",
    "    model.eval()\n",
    "    samples = []\n",
    "    sample_indices = torch.randperm(len(dataset))[:num_samples]\n",
    "\n",
    "    for idx in sample_indices:\n",
    "        src_seq_tensor, _ = dataset[idx.item()]\n",
    "        src_seq_tensor = src_seq_tensor.unsqueeze(0).to(device)\n",
    "        pred_seq, attn_weights = model.predict_with_attention(src_seq_tensor, tgt_vocab)\n",
    "\n",
    "        src_seq = src_seq_tensor[0].tolist()\n",
    "        pred_seq = pred_seq[0].tolist()\n",
    "\n",
    "        src_tokens = [src_vocab_inv[i] for i in src_seq if i != src_vocab[PAD_TOKEN]]\n",
    "        tgt_tokens = [tgt_vocab_inv[i] for i in pred_seq if i not in {tgt_vocab[EOS_TOKEN], tgt_vocab[PAD_TOKEN]}]\n",
    "        attn_matrix = attn_weights.squeeze(0).detach().cpu().numpy()\n",
    "\n",
    "        samples.append({\n",
    "            \"src_tokens\": src_tokens,\n",
    "            \"tgt_tokens\": tgt_tokens,\n",
    "            \"attention\": attn_matrix[:len(tgt_tokens), :len(src_tokens)].tolist()\n",
    "        })\n",
    "\n",
    "    return samples\n"
   ]
  },
  {
   "cell_type": "code",
   "execution_count": 26,
   "metadata": {
    "execution": {
     "iopub.execute_input": "2025-05-20T16:45:38.355464Z",
     "iopub.status.busy": "2025-05-20T16:45:38.354909Z",
     "iopub.status.idle": "2025-05-20T16:45:38.424330Z",
     "shell.execute_reply": "2025-05-20T16:45:38.423789Z",
     "shell.execute_reply.started": "2025-05-20T16:45:38.355441Z"
    },
    "trusted": true
   },
   "outputs": [
    {
     "name": "stderr",
     "output_type": "stream",
     "text": [
      "\u001b[34m\u001b[1mwandb\u001b[0m: \u001b[33mWARNING\u001b[0m If you're specifying your api key in code, ensure this code is not shared publicly.\n",
      "\u001b[34m\u001b[1mwandb\u001b[0m: \u001b[33mWARNING\u001b[0m Consider setting the WANDB_API_KEY environment variable, or running `wandb login` from the command line.\n",
      "\u001b[34m\u001b[1mwandb\u001b[0m: No netrc file found, creating one.\n",
      "\u001b[34m\u001b[1mwandb\u001b[0m: Appending key for api.wandb.ai to your netrc file: /root/.netrc\n",
      "\u001b[34m\u001b[1mwandb\u001b[0m: Currently logged in as: \u001b[33mmm21b010\u001b[0m (\u001b[33mmm21b010-indian-institute-of-technology-madras\u001b[0m) to \u001b[32mhttps://api.wandb.ai\u001b[0m. Use \u001b[1m`wandb login --relogin`\u001b[0m to force relogin\n"
     ]
    },
    {
     "data": {
      "text/plain": [
       "True"
      ]
     },
     "execution_count": 26,
     "metadata": {},
     "output_type": "execute_result"
    }
   ],
   "source": [
    "import wandb\n",
    "wandb.login(key=\"011c3a6cd3743b4b10442ed458038feb25f78ad6\")  # Revoke after testing"
   ]
  },
  {
   "cell_type": "code",
   "execution_count": 56,
   "metadata": {
    "execution": {
     "iopub.execute_input": "2025-05-20T18:39:03.385974Z",
     "iopub.status.busy": "2025-05-20T18:39:03.385342Z",
     "iopub.status.idle": "2025-05-20T18:39:10.775157Z",
     "shell.execute_reply": "2025-05-20T18:39:10.774602Z",
     "shell.execute_reply.started": "2025-05-20T18:39:03.385948Z"
    },
    "trusted": true
   },
   "outputs": [
    {
     "data": {
      "text/html": [
       "Tracking run with wandb version 0.19.9"
      ],
      "text/plain": [
       "<IPython.core.display.HTML object>"
      ]
     },
     "metadata": {},
     "output_type": "display_data"
    },
    {
     "data": {
      "text/html": [
       "Run data is saved locally in <code>/kaggle/working/wandb/run-20250520_183903-eq6txtx5</code>"
      ],
      "text/plain": [
       "<IPython.core.display.HTML object>"
      ]
     },
     "metadata": {},
     "output_type": "display_data"
    },
    {
     "data": {
      "text/html": [
       "Syncing run <strong><a href='https://wandb.ai/mm21b010-indian-institute-of-technology-madras/dakshina-transliteration/runs/eq6txtx5' target=\"_blank\">attention_final</a></strong> to <a href='https://wandb.ai/mm21b010-indian-institute-of-technology-madras/dakshina-transliteration' target=\"_blank\">Weights & Biases</a> (<a href='https://wandb.me/developer-guide' target=\"_blank\">docs</a>)<br>"
      ],
      "text/plain": [
       "<IPython.core.display.HTML object>"
      ]
     },
     "metadata": {},
     "output_type": "display_data"
    },
    {
     "data": {
      "text/html": [
       " View project at <a href='https://wandb.ai/mm21b010-indian-institute-of-technology-madras/dakshina-transliteration' target=\"_blank\">https://wandb.ai/mm21b010-indian-institute-of-technology-madras/dakshina-transliteration</a>"
      ],
      "text/plain": [
       "<IPython.core.display.HTML object>"
      ]
     },
     "metadata": {},
     "output_type": "display_data"
    },
    {
     "data": {
      "text/html": [
       " View run at <a href='https://wandb.ai/mm21b010-indian-institute-of-technology-madras/dakshina-transliteration/runs/eq6txtx5' target=\"_blank\">https://wandb.ai/mm21b010-indian-institute-of-technology-madras/dakshina-transliteration/runs/eq6txtx5</a>"
      ],
      "text/plain": [
       "<IPython.core.display.HTML object>"
      ]
     },
     "metadata": {},
     "output_type": "display_data"
    },
    {
     "data": {
      "text/html": [],
      "text/plain": [
       "<IPython.core.display.HTML object>"
      ]
     },
     "metadata": {},
     "output_type": "display_data"
    },
    {
     "data": {
      "text/html": [
       " View run <strong style=\"color:#cdcd00\">attention_final</strong> at: <a href='https://wandb.ai/mm21b010-indian-institute-of-technology-madras/dakshina-transliteration/runs/eq6txtx5' target=\"_blank\">https://wandb.ai/mm21b010-indian-institute-of-technology-madras/dakshina-transliteration/runs/eq6txtx5</a><br> View project at: <a href='https://wandb.ai/mm21b010-indian-institute-of-technology-madras/dakshina-transliteration' target=\"_blank\">https://wandb.ai/mm21b010-indian-institute-of-technology-madras/dakshina-transliteration</a><br>Synced 5 W&B file(s), 1 media file(s), 0 artifact file(s) and 0 other file(s)"
      ],
      "text/plain": [
       "<IPython.core.display.HTML object>"
      ]
     },
     "metadata": {},
     "output_type": "display_data"
    },
    {
     "data": {
      "text/html": [
       "Find logs at: <code>./wandb/run-20250520_183903-eq6txtx5/logs</code>"
      ],
      "text/plain": [
       "<IPython.core.display.HTML object>"
      ]
     },
     "metadata": {},
     "output_type": "display_data"
    }
   ],
   "source": [
    "import wandb\n",
    "import json\n",
    "\n",
    "def create_attention_html(samples):\n",
    "    html_parts = []\n",
    "    for idx, sample in enumerate(samples):\n",
    "        src = sample[\"src_tokens\"]\n",
    "        tgt = sample[\"tgt_tokens\"]\n",
    "        attn = sample[\"attention\"]\n",
    "        \n",
    "        src_js = json.dumps(src, ensure_ascii=False)\n",
    "        tgt_js = json.dumps(tgt, ensure_ascii=False)\n",
    "        attn_js = json.dumps(attn)\n",
    "\n",
    "        html_parts.append(f\"\"\"\n",
    "        <div class=\"sample-container\" style=\"margin-bottom: 50px;\">\n",
    "            <h4>Sample {idx + 1}</h4>\n",
    "            <div>\n",
    "                <strong>Input:</strong>\n",
    "                <div id=\"input-text-{idx}\" style=\"font-family: monospace; font-size: 20px; letter-spacing: 5px;\">\n",
    "                    {' '.join([f'<span class=\"input-char\" data-index=\"{i}\" style=\"padding: 2px; border-radius: 3px;\">{char}</span>' for i, char in enumerate(src)])}\n",
    "                </div>\n",
    "            </div>\n",
    "            <div style=\"margin-top: 15px;\">\n",
    "                <strong>Output:</strong>\n",
    "                <div id=\"output-text-{idx}\" style=\"font-family: 'Noto Sans Devanagari', sans-serif; font-size: 24px;\">\n",
    "                    {''.join([f'<span class=\"output-char\" data-index=\"{i}\" style=\"padding: 2px; cursor: pointer;\">{char}</span>' for i, char in enumerate(tgt)])}\n",
    "                </div>\n",
    "            </div>\n",
    "            <script>\n",
    "            (function() {{\n",
    "                const attentionData = {attn_js};\n",
    "                const inputChars = document.querySelectorAll('#input-text-{idx} .input-char');\n",
    "                const outputChars = document.querySelectorAll('#output-text-{idx} .output-char');\n",
    "\n",
    "                function applyAttention(tgtIndex) {{\n",
    "                    const weights = attentionData[tgtIndex];\n",
    "                    const maxWeight = Math.max(...weights);\n",
    "\n",
    "                    inputChars.forEach((char, i) => {{\n",
    "                        const w = weights[i];\n",
    "                        const opacity = (w / maxWeight).toFixed(2);\n",
    "                        const rgba = 'rgba(0, 102, 255, ' + opacity + ')';\n",
    "                        char.style.backgroundColor = rgba;\n",
    "                    }});\n",
    "                }}\n",
    "\n",
    "                function clearAttention() {{\n",
    "                    inputChars.forEach(char => {{\n",
    "                        char.style.backgroundColor = '';\n",
    "                    }});\n",
    "                }}\n",
    "\n",
    "                outputChars.forEach((char, i) => {{\n",
    "                    char.addEventListener('mouseenter', () => {{\n",
    "                        applyAttention(i);\n",
    "                        char.style.backgroundColor = 'rgba(255, 215, 0, 0.3)';\n",
    "                    }});\n",
    "                    char.addEventListener('mouseleave', () => {{\n",
    "                        clearAttention();\n",
    "                        char.style.backgroundColor = '';\n",
    "                    }});\n",
    "                }});\n",
    "            }})();\n",
    "            </script>\n",
    "        </div>\n",
    "        \"\"\")\n",
    "\n",
    "    return f\"\"\"\n",
    "    <!DOCTYPE html>\n",
    "    <html>\n",
    "    <head>\n",
    "        <meta charset=\"UTF-8\">\n",
    "        <title>Attention Visualization</title>\n",
    "        <style>\n",
    "            body {{\n",
    "                font-family: Arial, sans-serif;\n",
    "                margin: 20px;\n",
    "                line-height: 1.6;\n",
    "            }}\n",
    "            .input-char {{\n",
    "                transition: background-color 0.2s ease;\n",
    "            }}\n",
    "            .output-char {{\n",
    "                transition: background-color 0.2s ease;\n",
    "            }}\n",
    "            .sample-container {{\n",
    "                border-bottom: 1px solid #ddd;\n",
    "                padding-bottom: 30px;\n",
    "            }}\n",
    "        </style>\n",
    "        <!-- Devanagari font load -->\n",
    "        <link href=\"https://fonts.googleapis.com/css2?family=Noto+Sans+Devanagari&display=swap\" rel=\"stylesheet\">\n",
    "    </head>\n",
    "    <body>\n",
    "        <h2>Interactive Attention Visualization</h2>\n",
    "        <p>Hover over Devanagari characters to see attention weights on the Latin input text.</p>\n",
    "        {''.join(html_parts)}\n",
    "    </body>\n",
    "    </html>\n",
    "    \"\"\"\n",
    "\n",
    "# Extract attention samples\n",
    "# samples = extract_attention_samples(model, dev_loader.dataset, src_vocab_inv, tgt_vocab_inv, device, num_samples=3)\n",
    "\n",
    "# # Generate the interactive HTML\n",
    "# html_content = create_attention_html(samples)\n",
    "\n",
    "# # Log to Weights & Biases\n",
    "# wandb_project = \"dakshina-transliteration\"\n",
    "# with wandb.init(project=wandb_project, name=\"attention_overlay\") as run:\n",
    "#     wandb.log({\"attention_overlay\": wandb.Html(html_content, inject=False)})\n",
    "\n",
    "\n",
    "# Example usage\n",
    "samples = extract_attention_samples(model, dev_loader.dataset, src_vocab_inv, tgt_vocab_inv, device, num_samples=10)\n",
    "html_content = create_attention_html(samples)\n",
    "\n",
    "wandb_project = \"dakshina-transliteration\"\n",
    "with wandb.init(project=wandb_project, name=\"attention_final\") as run:\n",
    "    wandb.log({\"attention_final\": wandb.Html(html_content, inject=False)})"
   ]
  }
 ],
 "metadata": {
  "kaggle": {
   "accelerator": "nvidiaTeslaT4",
   "dataSources": [
    {
     "datasetId": 7468229,
     "sourceId": 11882732,
     "sourceType": "datasetVersion"
    },
    {
     "isSourceIdPinned": true,
     "modelId": 351228,
     "modelInstanceId": 330387,
     "sourceId": 404176,
     "sourceType": "modelInstanceVersion"
    }
   ],
   "dockerImageVersionId": 31041,
   "isGpuEnabled": true,
   "isInternetEnabled": true,
   "language": "python",
   "sourceType": "notebook"
  },
  "kernelspec": {
   "display_name": "Python 3",
   "language": "python",
   "name": "python3"
  },
  "language_info": {
   "codemirror_mode": {
    "name": "ipython",
    "version": 3
   },
   "file_extension": ".py",
   "mimetype": "text/x-python",
   "name": "python",
   "nbconvert_exporter": "python",
   "pygments_lexer": "ipython3",
   "version": "3.11.11"
  }
 },
 "nbformat": 4,
 "nbformat_minor": 4
}
